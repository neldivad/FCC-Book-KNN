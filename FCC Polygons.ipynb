{
 "cells": [
  {
   "cell_type": "code",
   "execution_count": 265,
   "metadata": {},
   "outputs": [],
   "source": [
    "class Rectangle:\n",
    "    def __init__(self, width= 5, height= 10):\n",
    "        self.width = width\n",
    "        self.height = height\n",
    "        \n",
    "    def __str__(self):\n",
    "        return f\"Rectangle(width={self.width}, height={self.height})\"\n",
    "        \n",
    "    def set_width(self, new_width):\n",
    "        self.width = new_width\n",
    "    \n",
    "    def set_height(self, height):\n",
    "        self.height = height\n",
    "    \n",
    "    def get_area(self):\n",
    "        return self.width * self.height\n",
    "    \n",
    "    def get_perimeter(self):\n",
    "        perimeter = 2*self.width + 2*self.height\n",
    "        return perimeter\n",
    "    \n",
    "    def get_diagonal(self):\n",
    "        diagonal = (self.width**2 + self.height**2) **0.5\n",
    "        return diagonal\n",
    "    \n",
    "    def get_picture(self):\n",
    "        if self.height > 50 or self.width > 50:\n",
    "            return \"Too big for picture.\"\n",
    "        else:\n",
    "            string = \"\"\n",
    "            for i in range(self.height):\n",
    "                for j in range(self.width):\n",
    "                    string += \"*\"\n",
    "                string += \"\\n\"\n",
    "            # string = string[:-1]\n",
    "        \n",
    "        return string\n",
    "    \n",
    "    def get_amount_inside(self, quadrilateral):\n",
    "        if quadrilateral.width > self.width:\n",
    "            return 0\n",
    "        if quadrilateral.height > self.height:\n",
    "            return 0\n",
    "        else:\n",
    "            import math\n",
    "            our_size = self.get_area()\n",
    "            their_size = quadrilateral.get_area()\n",
    "            answer = math.floor( our_size / their_size )\n",
    "        \n",
    "            return answer"
   ]
  },
  {
   "cell_type": "code",
   "execution_count": 266,
   "metadata": {},
   "outputs": [],
   "source": [
    "class Square(Rectangle):\n",
    "    def __init__(self, side= 5):\n",
    "        self.width  = side\n",
    "        self.height = side\n",
    "        \n",
    "    def __str__(self):\n",
    "        return f\"Square(side={self.width})\"\n",
    "        \n",
    "    def set_side(self, side):\n",
    "        self.width  = side\n",
    "        self.height = side\n",
    "        \n",
    "    def set_width(self, side):\n",
    "        self.width  = side\n",
    "        self.height = side\n",
    "    \n",
    "    def set_height(self, side):\n",
    "        self.width  = side\n",
    "        self.height = side"
   ]
  },
  {
   "cell_type": "code",
   "execution_count": 267,
   "metadata": {},
   "outputs": [
    {
     "data": {
      "text/plain": [
       "18"
      ]
     },
     "execution_count": 267,
     "metadata": {},
     "output_type": "execute_result"
    }
   ],
   "source": [
    "y = Rectangle(3, 6)\n",
    "y.get_area()"
   ]
  },
  {
   "cell_type": "code",
   "execution_count": 268,
   "metadata": {},
   "outputs": [
    {
     "data": {
      "text/plain": [
       "32"
      ]
     },
     "execution_count": 268,
     "metadata": {},
     "output_type": "execute_result"
    }
   ],
   "source": [
    "x = Rectangle(4, 8)\n",
    "x.get_area()"
   ]
  },
  {
   "cell_type": "code",
   "execution_count": 269,
   "metadata": {},
   "outputs": [
    {
     "data": {
      "text/plain": [
       "1"
      ]
     },
     "execution_count": 269,
     "metadata": {},
     "output_type": "execute_result"
    }
   ],
   "source": [
    "x.get_amount_inside(y)"
   ]
  },
  {
   "cell_type": "code",
   "execution_count": 270,
   "metadata": {},
   "outputs": [
    {
     "data": {
      "text/plain": [
       "'******\\n******\\n******\\n'"
      ]
     },
     "execution_count": 270,
     "metadata": {},
     "output_type": "execute_result"
    }
   ],
   "source": [
    "y.get_picture()"
   ]
  },
  {
   "cell_type": "code",
   "execution_count": 253,
   "metadata": {},
   "outputs": [
    {
     "data": {
      "text/plain": [
       "36"
      ]
     },
     "execution_count": 253,
     "metadata": {},
     "output_type": "execute_result"
    }
   ],
   "source": [
    "a = Square(5)\n",
    "a.set_width(6)\n",
    "a.get_area()"
   ]
  },
  {
   "cell_type": "code",
   "execution_count": 254,
   "metadata": {},
   "outputs": [
    {
     "data": {
      "text/plain": [
       "'Rectangle(width=3, height=6)'"
      ]
     },
     "execution_count": 254,
     "metadata": {},
     "output_type": "execute_result"
    }
   ],
   "source": [
    "str(y)"
   ]
  },
  {
   "cell_type": "code",
   "execution_count": null,
   "metadata": {},
   "outputs": [],
   "source": []
  },
  {
   "cell_type": "code",
   "execution_count": null,
   "metadata": {},
   "outputs": [],
   "source": []
  }
 ],
 "metadata": {
  "kernelspec": {
   "display_name": "Python 3",
   "language": "python",
   "name": "python3"
  },
  "language_info": {
   "codemirror_mode": {
    "name": "ipython",
    "version": 3
   },
   "file_extension": ".py",
   "mimetype": "text/x-python",
   "name": "python",
   "nbconvert_exporter": "python",
   "pygments_lexer": "ipython3",
   "version": "3.8.5"
  }
 },
 "nbformat": 4,
 "nbformat_minor": 4
}
