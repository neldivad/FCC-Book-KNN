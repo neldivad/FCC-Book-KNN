{
 "cells": [
  {
   "cell_type": "code",
   "execution_count": 1,
   "metadata": {},
   "outputs": [],
   "source": [
    "def move2num(move):\n",
    "    if move == 'R':\n",
    "        return 0\n",
    "    if move == 'P':\n",
    "        return 1\n",
    "    if move == 'S':\n",
    "        return 2"
   ]
  },
  {
   "cell_type": "code",
   "execution_count": 3,
   "metadata": {},
   "outputs": [
    {
     "data": {
      "text/plain": [
       "1"
      ]
     },
     "execution_count": 3,
     "metadata": {},
     "output_type": "execute_result"
    }
   ],
   "source": [
    "move2num(\"P\")"
   ]
  },
  {
   "cell_type": "code",
   "execution_count": 4,
   "metadata": {},
   "outputs": [],
   "source": [
    "def num2move(num):\n",
    "    if num == 0:\n",
    "        return 'R'\n",
    "    if num == 1:\n",
    "        return 'P'\n",
    "    if num == 2:\n",
    "        return 'S'"
   ]
  },
  {
   "cell_type": "code",
   "execution_count": 13,
   "metadata": {},
   "outputs": [
    {
     "data": {
      "text/plain": [
       "'R'"
      ]
     },
     "execution_count": 13,
     "metadata": {},
     "output_type": "execute_result"
    }
   ],
   "source": [
    "num2move(6 % 3)"
   ]
  },
  {
   "cell_type": "code",
   "execution_count": 14,
   "metadata": {},
   "outputs": [
    {
     "ename": "SyntaxError",
     "evalue": "invalid syntax (<ipython-input-14-e0769318e339>, line 31)",
     "output_type": "error",
     "traceback": [
      "\u001b[1;36m  File \u001b[1;32m\"<ipython-input-14-e0769318e339>\"\u001b[1;36m, line \u001b[1;32m31\u001b[0m\n\u001b[1;33m    if\u001b[0m\n\u001b[1;37m       ^\u001b[0m\n\u001b[1;31mSyntaxError\u001b[0m\u001b[1;31m:\u001b[0m invalid syntax\n"
     ]
    }
   ],
   "source": [
    "# The example function below keeps track of the opponent's history and plays whatever the opponent played two plays ago. It is not a very good player so you will need to change the code to pass the challenge.\n",
    "import random\n",
    "from collections import Counter\n",
    "from statistics import mean\n",
    "\n",
    "def player(prev_play, opponent_history=[]):\n",
    "\n",
    "    def move2num(move):\n",
    "        if move == 'R':\n",
    "            return 0\n",
    "        if move == 'P':\n",
    "            return 1\n",
    "        if move == 'S':\n",
    "            return 2\n",
    "\n",
    "    def num2move(num):\n",
    "        if num == 0:\n",
    "            return 'R'\n",
    "        if num == 1:\n",
    "            return 'P'\n",
    "        if num == 2:\n",
    "            return 'S'\n",
    "  \n",
    "    your_history = []\n",
    "\n",
    "    your_history.append(your_prev_play)\n",
    "    opponent_history.append(prev_play)\n",
    "    \n",
    "    last_ten = your_history[-10:]\n",
    "    most_frequent = max(set(last_ten), key= last_ten.count)\n",
    "      \n",
    "    rand = random.choice(['R', 'P'])\n",
    "    opponent = \"\"\n",
    "    \n",
    "    # Play 50 games to test water \n",
    "    if len(opponent_history) < 50:\n",
    "        return rand\n",
    "\n",
    "    else:\n",
    "        first50 = opponent_history[:50]\n",
    "        k = list( Counter(first50).keys() )\n",
    "        v = list( Counter(first50).values() )\n",
    "        \n",
    "        your_integers = [move2num(i) for i in your_history[:50]]\n",
    "        opp_integers = [move2num(i) for i in opponent_history[:50]]\n",
    "        \n",
    "        # Easier to be certain about Kris first\n",
    "        if mean(opp_integers[1:-20]) - mean(your_integers[0:-21]) == 1:\n",
    "            opponent == \"Kris\"\n",
    "            hand = num2move( your_integers[-1] + 2 )\n",
    "            return hand\n",
    "        \n",
    "        # Quincy should have played on average 10 scissors        \n",
    "        if v[2] < 15: \n",
    "            opponent == \"Quincy\"\n",
    "            hand = num2move(1)\n",
    "            return hand\n",
    "        \n",
    "        else:\n",
    "            opponent == \"Mrugesh\"\n",
    "            counter_response = {'R': 'S',\n",
    "                                'P': 'R',\n",
    "                                'S': 'P'}\n",
    "\n",
    "            return counter_response[most_frequent]\n",
    "        \n",
    "    # IDK how to beat abbey\n",
    "    return rand\n"
   ]
  },
  {
   "cell_type": "code",
   "execution_count": 91,
   "metadata": {},
   "outputs": [],
   "source": [
    "from collections import Counter\n",
    "words = ['P', 'R', 'R', 'P', 'P', 'P', 'R', 'R', 'P', 'R', 'P']\n",
    "opp   = ['S', 'S', 'P', 'P', 'S', 'S', 'S', 'P', 'P', 'S', 'P']\n",
    "rand = ['']\n",
    "\n",
    "k = Counter(words).keys()\n",
    "v = Counter(words).values()"
   ]
  },
  {
   "cell_type": "code",
   "execution_count": 93,
   "metadata": {},
   "outputs": [
    {
     "data": {
      "text/plain": [
       "1.5454545454545454"
      ]
     },
     "execution_count": 93,
     "metadata": {},
     "output_type": "execute_result"
    }
   ],
   "source": [
    "from statistics import mean\n",
    "c = [move2num(word) for word in words]\n",
    "d = [move2num(word) for word in opp]\n",
    "mean(d)"
   ]
  },
  {
   "cell_type": "code",
   "execution_count": 84,
   "metadata": {},
   "outputs": [
    {
     "data": {
      "text/plain": [
       "[0, 0, 1, 1, 1, 0, 0, 1]"
      ]
     },
     "execution_count": 84,
     "metadata": {},
     "output_type": "execute_result"
    }
   ],
   "source": [
    "c[1:]"
   ]
  },
  {
   "cell_type": "code",
   "execution_count": 94,
   "metadata": {},
   "outputs": [
    {
     "data": {
      "text/plain": [
       "[1, 0, 0, 1, 1, 1, 0, 0, 1, 0, 1]"
      ]
     },
     "execution_count": 94,
     "metadata": {},
     "output_type": "execute_result"
    }
   ],
   "source": [
    "c[]"
   ]
  },
  {
   "cell_type": "code",
   "execution_count": 95,
   "metadata": {},
   "outputs": [
    {
     "data": {
      "text/plain": [
       "[2, 2, 1, 1, 2, 2, 2, 1, 1, 2, 1]"
      ]
     },
     "execution_count": 95,
     "metadata": {},
     "output_type": "execute_result"
    }
   ],
   "source": [
    "d"
   ]
  },
  {
   "cell_type": "code",
   "execution_count": null,
   "metadata": {},
   "outputs": [],
   "source": []
  }
 ],
 "metadata": {
  "kernelspec": {
   "display_name": "Python 3",
   "language": "python",
   "name": "python3"
  },
  "language_info": {
   "codemirror_mode": {
    "name": "ipython",
    "version": 3
   },
   "file_extension": ".py",
   "mimetype": "text/x-python",
   "name": "python",
   "nbconvert_exporter": "python",
   "pygments_lexer": "ipython3",
   "version": "3.8.5"
  }
 },
 "nbformat": 4,
 "nbformat_minor": 4
}
