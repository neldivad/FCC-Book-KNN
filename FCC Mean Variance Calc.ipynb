{
 "cells": [
  {
   "cell_type": "code",
   "execution_count": 34,
   "metadata": {},
   "outputs": [],
   "source": [
    "def calculate(list):\n",
    "    import numpy as np\n",
    "    if len(list) < 9:\n",
    "        raise ValueError(\"List must contain nine numbers.\")\n",
    "\n",
    "    a = np.reshape(list, (3,3))\n",
    "    \n",
    "    b = [\n",
    "        np.mean(a, axis= 0).tolist(),\n",
    "        np.mean(a, axis= 1).tolist(),\n",
    "        np.mean(a)\n",
    "    ]\n",
    "    \n",
    "    c = [\n",
    "        np.var(a, axis= 0).tolist(),\n",
    "        np.var(a, axis= 1).tolist(),\n",
    "        np.var(a)\n",
    "    ]\n",
    "    \n",
    "    d = [\n",
    "        np.std(a, axis= 0).tolist(),\n",
    "        np.std(a, axis= 1).tolist(),\n",
    "        np.std(a)\n",
    "    ]\n",
    "    \n",
    "    e = [\n",
    "        np.max(a, axis= 0).tolist(),\n",
    "        np.max(a, axis= 1).tolist(),\n",
    "        np.max(a)\n",
    "    ]\n",
    "    \n",
    "    f = [\n",
    "        np.min(a, axis= 0).tolist(),\n",
    "        np.min(a, axis= 1).tolist(),\n",
    "        np.min(a)\n",
    "    ]\n",
    "    \n",
    "    g = [\n",
    "        np.sum(a, axis= 0).tolist(),\n",
    "        np.sum(a, axis= 1).tolist(),\n",
    "        np.sum(a)\n",
    "    ]\n",
    "\n",
    "    calculations = {\n",
    "        'mean': b,\n",
    "        'variance': c,\n",
    "        'standard deviation': d,\n",
    "        'max': e,\n",
    "        'min': f,\n",
    "        'sum': g\n",
    "    }\n",
    "    \n",
    "    return calculations"
   ]
  },
  {
   "cell_type": "code",
   "execution_count": 35,
   "metadata": {},
   "outputs": [
    {
     "data": {
      "text/plain": [
       "9"
      ]
     },
     "execution_count": 35,
     "metadata": {},
     "output_type": "execute_result"
    }
   ],
   "source": [
    "lz = [50, 22, 61, 4, 13, 3, 25, 4, 37]\n",
    "len(lz)"
   ]
  },
  {
   "cell_type": "code",
   "execution_count": 36,
   "metadata": {},
   "outputs": [
    {
     "data": {
      "text/plain": [
       "{'mean': [[26.333333333333332, 13.0, 33.666666666666664],\n",
       "  [44.333333333333336, 6.666666666666667, 22.0],\n",
       "  24.333333333333332],\n",
       " 'variance': [[353.5555555555556, 54.0, 566.2222222222223],\n",
       "  [269.55555555555554, 20.222222222222225, 186.0],\n",
       "  397.77777777777777],\n",
       " 'standard deviation': [[18.80307303489394,\n",
       "   7.3484692283495345,\n",
       "   23.79542439676633],\n",
       "  [16.418147141366333, 4.4969125210773475, 13.638181696985855],\n",
       "  19.94436706886879],\n",
       " 'max': [[50, 22, 61], [61, 13, 37], 61],\n",
       " 'min': [[4, 4, 3], [22, 3, 4], 3],\n",
       " 'sum': [[79, 39, 101], [133, 20, 66], 219]}"
      ]
     },
     "execution_count": 36,
     "metadata": {},
     "output_type": "execute_result"
    }
   ],
   "source": [
    "calculate(lz)"
   ]
  },
  {
   "cell_type": "code",
   "execution_count": 31,
   "metadata": {},
   "outputs": [
    {
     "data": {
      "text/plain": [
       "[[26.333333333333332, 13.0, 33.666666666666664],\n",
       " [44.333333333333336, 6.666666666666667, 22.0],\n",
       " 24.333333333333332]"
      ]
     },
     "execution_count": 31,
     "metadata": {},
     "output_type": "execute_result"
    }
   ],
   "source": [
    "b = [\n",
    "    np.mean(lz1, axis= 0).tolist(),\n",
    "    np.mean(lz1, axis= 1).tolist(),\n",
    "    np.mean(lz1)\n",
    "]\n",
    "\n",
    "b"
   ]
  },
  {
   "cell_type": "code",
   "execution_count": null,
   "metadata": {},
   "outputs": [],
   "source": []
  },
  {
   "cell_type": "code",
   "execution_count": null,
   "metadata": {},
   "outputs": [],
   "source": []
  }
 ],
 "metadata": {
  "kernelspec": {
   "display_name": "Python 3",
   "language": "python",
   "name": "python3"
  },
  "language_info": {
   "codemirror_mode": {
    "name": "ipython",
    "version": 3
   },
   "file_extension": ".py",
   "mimetype": "text/x-python",
   "name": "python",
   "nbconvert_exporter": "python",
   "pygments_lexer": "ipython3",
   "version": "3.8.5"
  }
 },
 "nbformat": 4,
 "nbformat_minor": 4
}
