{
 "cells": [
  {
   "cell_type": "code",
   "execution_count": null,
   "metadata": {},
   "outputs": [],
   "source": [
    "# This entrypoint file to be used in development. Start by reading README.md\n",
    "from pytest import main\n",
    "\n",
    "from arithmetic_arranger import arithmetic_arranger\n",
    "\n",
    "\n",
    "print(arithmetic_arranger([\"32 + 698\", \"3801 - 2\", \"45 + 43\", \"123 + 49\"]))\n",
    "\n",
    "\n",
    "# Run unit tests automatically\n",
    "main()"
   ]
  },
  {
   "cell_type": "code",
   "execution_count": 5,
   "metadata": {},
   "outputs": [],
   "source": [
    "def arithmetic_arranger(problems, true_or_not = False):\n",
    "    import re\n",
    "    \n",
    "    #############################\n",
    "    # Check if too many problems\n",
    "    #############################\n",
    "    if len(problems) > 5:\n",
    "        return \"Error: Too many problems.\"\n",
    "    \n",
    "    row1 = \"\"\n",
    "    row2 = \"\"\n",
    "    row3 = \"\"\n",
    "    row4 = \"\"\n",
    "    \n",
    "    #####################################\n",
    "    # Check operator\n",
    "    ######################################  \n",
    "    for problem in problems:\n",
    "        values = re.findall(r'\\w+', problem)\n",
    "        operator = re.findall('[^a-zA-Z\\d\\s:]', problem)\n",
    "    \n",
    "        if operator[0] not in ['+', '-']:\n",
    "            return \"Your operator is {}. Error: Operator must be '+' or '-'\".format(operator)   \n",
    "\n",
    "        #################################\n",
    "        # Check digit input and length\n",
    "        #################################\n",
    "        left = values[0]\n",
    "        right = values [1]\n",
    "\n",
    "        if left.isdigit() != True or right.isdigit() != True:\n",
    "            return \"Error: Numbers must only contain digits.\"\n",
    "\n",
    "        if len(left) > 4 or len(right) > 4:\n",
    "            return \"Error: Numbers cannot be more than 4 digits.\"\n",
    "        \n",
    "        ####################\n",
    "        # Printing strings\n",
    "        ####################\n",
    "        result = \"\"\n",
    "        if operator[0] == '+':\n",
    "            result = str( int(left) + int(right) )\n",
    "        elif operator[0] == '-':\n",
    "            result = str( int(left) - int(right) )\n",
    "\n",
    "        str_len = max(len(left), len(right)) + 2\n",
    "        to_row1 = str(left).rjust(str_len)\n",
    "        to_row2 = operator[0] + str(right).rjust(str_len -1)\n",
    "        to_row3 = \"\"\n",
    "        for i in range(str_len):\n",
    "            to_row3 += \"-\"\n",
    "        to_row4 = str(result).rjust(str_len)\n",
    "    \n",
    "        spaces = \"    \"\n",
    "        if problem != problem[-1]:\n",
    "            row1 += to_row1 + spaces\n",
    "            row2 += to_row2 + spaces\n",
    "            row3 += to_row3 + spaces\n",
    "            row4 += to_row4 + spaces\n",
    "        else:\n",
    "            row1 += to_row1 \n",
    "            row2 += to_row2 \n",
    "            row3 += to_row3 \n",
    "            row4 += to_row4\n",
    "\n",
    "        if true_or_not == True:\n",
    "            arranged_problems = row1 + \"\\n\" + row2 + \"\\n\" + row3 + \"\\n\" + row4\n",
    "        else:\n",
    "            arranged_problems = row1 + \"\\n\" + row2 + \"\\n\" + row3\n",
    "\n",
    "    return arranged_problems"
   ]
  },
  {
   "cell_type": "code",
   "execution_count": 6,
   "metadata": {},
   "outputs": [
    {
     "name": "stdout",
     "output_type": "stream",
     "text": [
      "  3801      123    \n",
      "-    2    +  49    \n",
      "------    -----    \n",
      "  3799      172    \n"
     ]
    }
   ],
   "source": [
    "tz = ['3801 - 2', '123 + 49']\n",
    "print(arithmetic_arranger(tz, True))"
   ]
  },
  {
   "cell_type": "code",
   "execution_count": 24,
   "metadata": {},
   "outputs": [],
   "source": [
    "def arithmetic_arranger2(problems, true_or_not = False):\n",
    "    if len(problems) > 5:\n",
    "        return \"Error: Too many problems.\"\n",
    "    \n",
    "    r1 = \"\"\n",
    "    r2 = \"\"\n",
    "    r3 = \"\"\n",
    "    r4 = \"\"\n",
    "    arranged_problems = \"\"\n",
    "    \n",
    "    for problem in problems:\n",
    "        left = problem.split(' ')[0]\n",
    "        operator = problem.split(' ')[1]\n",
    "        right = problem.split(' ')[2]\n",
    "\n",
    "        if left.isdigit() != True or right.isdigit() != True:\n",
    "            return \"Error: Numbers must only contain digits.\"\n",
    "        \n",
    "        if operator not in ['+', '-']:\n",
    "            return \"Error: Operator must be '+' or '-'.\"\n",
    "\n",
    "        if len(left) > 4 or len(right) > 4:\n",
    "            return \"Error: Numbers cannot be more than 4 digits.\"\n",
    "        \n",
    "        result = \"\"\n",
    "        if operator == '+':\n",
    "            result = str(int(left) + int(right))\n",
    "        elif operator == '-':\n",
    "            result = str(int(left) - int(right))\n",
    "            \n",
    "        longest = max(len(left), len(right)) + 2\n",
    "        to_r1 = str(left).rjust(longest)\n",
    "        to_r2 = operator + str(right).rjust(longest -1)\n",
    "        to_r3 = \"\"\n",
    "        i = 0\n",
    "        while i < longest:\n",
    "            to_r3 += \"-\"\n",
    "            i += 1\n",
    "        to_r4 = str(result).rjust(longest)\n",
    "        \n",
    "        spaces = \"    \"\n",
    "        if problem != problems[-1]:\n",
    "            r1 += to_r1 + spaces\n",
    "            r2 += to_r2 + spaces\n",
    "            r3 += to_r3 + spaces\n",
    "            r4 += to_r4 + spaces\n",
    "        else:\n",
    "            r1 += to_r1\n",
    "            r2 += to_r2\n",
    "            r3 += to_r3\n",
    "            r4 += to_r4\n",
    "            \n",
    "    if true_or_not == True:\n",
    "        arranged_problems = r1 + '\\n' + r2 + '\\n' + r3 + '\\n' + r4\n",
    "    else:\n",
    "        arranged_problems = r1 + '\\n' + r2 + '\\n' + r3\n",
    "    \n",
    "    return arranged_problems"
   ]
  },
  {
   "cell_type": "code",
   "execution_count": 14,
   "metadata": {},
   "outputs": [
    {
     "name": "stdout",
     "output_type": "stream",
     "text": [
      "  988\n",
      "+  40\n",
      "-----\n",
      " 1028\n"
     ]
    }
   ],
   "source": [
    "tz = ['3 + 855', '988 + 40']\n",
    "print(arithmetic_arranger2(tz, True))"
   ]
  },
  {
   "cell_type": "code",
   "execution_count": 23,
   "metadata": {},
   "outputs": [
    {
     "name": "stdout",
     "output_type": "stream",
     "text": [
      "   32      3801      45      123    \n",
      "+ 698    -    2    + 43    +  49    \n",
      "-----    ------    ----    -----    \n",
      "  730      3799      88      172    \n",
      "    3      3801      45      123    \n",
      "+ 855    -    2    + 43    +  49    \n",
      "-----    ------    ----    -----    \n",
      "  11      3801      1      123         1    \n",
      "+  4    - 2999    + 2    +  49    - 9380    \n",
      "----    ------    ---    -----    ------    \n",
      "Error: Too many problems.\n",
      "Your operator is ['/']. Error: Operator must be '+' or '-'\n",
      "Error: Numbers cannot be more than 4 digits.\n",
      "Error: Numbers must only contain digits.\n",
      "   32         1      45      123    \n",
      "- 698    - 3801    + 43    +  49    \n",
      "-----    ------    ----    -----    \n",
      " -666     -3800      88      172    \n"
     ]
    }
   ],
   "source": [
    "print(arithmetic_arranger([\"32 + 698\", \"3801 - 2\", \"45 + 43\", \"123 + 49\"], True))\n",
    "print(arithmetic_arranger([\"3 + 855\", \"3801 - 2\", \"45 + 43\", \"123 + 49\"]))\n",
    "print(arithmetic_arranger([\"11 + 4\", \"3801 - 2999\", \"1 + 2\", \"123 + 49\", \"1 - 9380\"]))\n",
    "print(arithmetic_arranger([\"44 + 815\", \"909 - 2\", \"45 + 43\", \"123 + 49\", \"888 + 40\", \"653 + 87\"]))\n",
    "print(arithmetic_arranger([\"3 / 855\", \"3801 - 2\", \"45 + 43\", \"123 + 49\"]))\n",
    "print(arithmetic_arranger([\"24 + 85215\", \"3801 - 2\", \"45 + 43\", \"123 + 49\"]))\n",
    "print(arithmetic_arranger([\"98 + 3g5\", \"3801 - 2\", \"45 + 43\", \"123 + 49\"]))\n",
    "print(arithmetic_arranger([\"32 - 698\", \"1 - 3801\", \"45 + 43\", \"123 + 49\"], True)) "
   ]
  },
  {
   "cell_type": "code",
   "execution_count": 25,
   "metadata": {},
   "outputs": [
    {
     "name": "stdout",
     "output_type": "stream",
     "text": [
      "   32      3801      45      123\n",
      "+ 698    -    2    + 43    +  49\n",
      "-----    ------    ----    -----\n",
      "  730      3799      88      172\n",
      "    3      3801      45      123\n",
      "+ 855    -    2    + 43    +  49\n",
      "-----    ------    ----    -----\n",
      "  11      3801      1      123         1\n",
      "+  4    - 2999    + 2    +  49    - 9380\n",
      "----    ------    ---    -----    ------\n",
      "Error: Too many problems.\n",
      "Error: Operator must be '+' or '-'.\n",
      "Error: Numbers cannot be more than 4 digits.\n",
      "Error: Numbers must only contain digits.\n",
      "   32         1      45      123\n",
      "- 698    - 3801    + 43    +  49\n",
      "-----    ------    ----    -----\n",
      " -666     -3800      88      172\n"
     ]
    }
   ],
   "source": [
    "print(arithmetic_arranger2([\"32 + 698\", \"3801 - 2\", \"45 + 43\", \"123 + 49\"], True))\n",
    "print(arithmetic_arranger2([\"3 + 855\", \"3801 - 2\", \"45 + 43\", \"123 + 49\"]))\n",
    "print(arithmetic_arranger2([\"11 + 4\", \"3801 - 2999\", \"1 + 2\", \"123 + 49\", \"1 - 9380\"]))\n",
    "print(arithmetic_arranger2([\"44 + 815\", \"909 - 2\", \"45 + 43\", \"123 + 49\", \"888 + 40\", \"653 + 87\"]))\n",
    "print(arithmetic_arranger2([\"3 / 855\", \"3801 - 2\", \"45 + 43\", \"123 + 49\"]))\n",
    "print(arithmetic_arranger2([\"24 + 85215\", \"3801 - 2\", \"45 + 43\", \"123 + 49\"]))\n",
    "print(arithmetic_arranger2([\"98 + 3g5\", \"3801 - 2\", \"45 + 43\", \"123 + 49\"]))\n",
    "print(arithmetic_arranger2([\"32 - 698\", \"1 - 3801\", \"45 + 43\", \"123 + 49\"], True)) "
   ]
  },
  {
   "cell_type": "code",
   "execution_count": null,
   "metadata": {},
   "outputs": [],
   "source": []
  },
  {
   "cell_type": "code",
   "execution_count": null,
   "metadata": {},
   "outputs": [],
   "source": []
  }
 ],
 "metadata": {
  "kernelspec": {
   "display_name": "Python 3",
   "language": "python",
   "name": "python3"
  },
  "language_info": {
   "codemirror_mode": {
    "name": "ipython",
    "version": 3
   },
   "file_extension": ".py",
   "mimetype": "text/x-python",
   "name": "python",
   "nbconvert_exporter": "python",
   "pygments_lexer": "ipython3",
   "version": "3.8.5"
  }
 },
 "nbformat": 4,
 "nbformat_minor": 4
}
