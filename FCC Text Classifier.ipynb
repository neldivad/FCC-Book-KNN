{
 "cells": [
  {
   "cell_type": "code",
   "execution_count": 4,
   "metadata": {},
   "outputs": [],
   "source": [
    "import tensorflow as tf\n",
    "import pandas as pd\n",
    "from tensorflow import keras\n",
    "\n",
    "import numpy as np\n",
    "import matplotlib.pyplot as plt"
   ]
  },
  {
   "cell_type": "code",
   "execution_count": 22,
   "metadata": {},
   "outputs": [
    {
     "name": "stdout",
     "output_type": "stream",
     "text": [
      "(4179, 2)\n",
      "(1392, 2)\n"
     ]
    }
   ],
   "source": [
    "PATH = \"C:/Users/User/Desktop/\"\n",
    "\n",
    "train_df = pd.read_csv(PATH + \"train-data.tsv\", sep='\\t', header= None)\n",
    "test_df = pd.read_csv(PATH + \"valid-data.tsv\", sep= '\\t', header= None)\n",
    "\n",
    "train_df.columns = [\"label\", \"text\"]\n",
    "test_df.columns = [\"label\", \"text\"]\n",
    "\n",
    "print(train_file_path.shape)\n",
    "print(test_file_path.shape)"
   ]
  },
  {
   "cell_type": "code",
   "execution_count": 21,
   "metadata": {
    "scrolled": true
   },
   "outputs": [
    {
     "data": {
      "text/html": [
       "<div>\n",
       "<style scoped>\n",
       "    .dataframe tbody tr th:only-of-type {\n",
       "        vertical-align: middle;\n",
       "    }\n",
       "\n",
       "    .dataframe tbody tr th {\n",
       "        vertical-align: top;\n",
       "    }\n",
       "\n",
       "    .dataframe thead th {\n",
       "        text-align: right;\n",
       "    }\n",
       "</style>\n",
       "<table border=\"1\" class=\"dataframe\">\n",
       "  <thead>\n",
       "    <tr style=\"text-align: right;\">\n",
       "      <th></th>\n",
       "      <th>label</th>\n",
       "      <th>text</th>\n",
       "    </tr>\n",
       "  </thead>\n",
       "  <tbody>\n",
       "    <tr>\n",
       "      <th>4176</th>\n",
       "      <td>spam</td>\n",
       "      <td>free entry into our £250 weekly competition ju...</td>\n",
       "    </tr>\n",
       "    <tr>\n",
       "      <th>4177</th>\n",
       "      <td>spam</td>\n",
       "      <td>-pls stop bootydelious (32/f) is inviting you ...</td>\n",
       "    </tr>\n",
       "    <tr>\n",
       "      <th>4178</th>\n",
       "      <td>ham</td>\n",
       "      <td>tell my  bad character which u dnt lik in me. ...</td>\n",
       "    </tr>\n",
       "  </tbody>\n",
       "</table>\n",
       "</div>"
      ],
      "text/plain": [
       "     label                                               text\n",
       "4176  spam  free entry into our £250 weekly competition ju...\n",
       "4177  spam  -pls stop bootydelious (32/f) is inviting you ...\n",
       "4178   ham  tell my  bad character which u dnt lik in me. ..."
      ]
     },
     "execution_count": 21,
     "metadata": {},
     "output_type": "execute_result"
    }
   ],
   "source": [
    "train_file_path.tail(3)"
   ]
  },
  {
   "cell_type": "code",
   "execution_count": 23,
   "metadata": {},
   "outputs": [
    {
     "data": {
      "text/plain": [
       "(4179, 2)"
      ]
     },
     "execution_count": 23,
     "metadata": {},
     "output_type": "execute_result"
    }
   ],
   "source": [
    "train_df.dropna()\n",
    "train_df.shape"
   ]
  },
  {
   "cell_type": "code",
   "execution_count": 24,
   "metadata": {},
   "outputs": [
    {
     "data": {
      "text/plain": [
       "(1392, 2)"
      ]
     },
     "execution_count": 24,
     "metadata": {},
     "output_type": "execute_result"
    }
   ],
   "source": [
    "test_df.dropna()\n",
    "test_df.shape"
   ]
  },
  {
   "cell_type": "markdown",
   "metadata": {},
   "source": [
    "### Text Cleaning"
   ]
  },
  {
   "cell_type": "code",
   "execution_count": 31,
   "metadata": {},
   "outputs": [
    {
     "data": {
      "text/html": [
       "<div>\n",
       "<style scoped>\n",
       "    .dataframe tbody tr th:only-of-type {\n",
       "        vertical-align: middle;\n",
       "    }\n",
       "\n",
       "    .dataframe tbody tr th {\n",
       "        vertical-align: top;\n",
       "    }\n",
       "\n",
       "    .dataframe thead th {\n",
       "        text-align: right;\n",
       "    }\n",
       "</style>\n",
       "<table border=\"1\" class=\"dataframe\">\n",
       "  <thead>\n",
       "    <tr style=\"text-align: right;\">\n",
       "      <th></th>\n",
       "      <th>label</th>\n",
       "      <th>text</th>\n",
       "    </tr>\n",
       "  </thead>\n",
       "  <tbody>\n",
       "    <tr>\n",
       "      <th>0</th>\n",
       "      <td>ham</td>\n",
       "      <td>ahhhh...just woken up!had a bad dream about u ...</td>\n",
       "    </tr>\n",
       "    <tr>\n",
       "      <th>1</th>\n",
       "      <td>ham</td>\n",
       "      <td>you can never do nothing</td>\n",
       "    </tr>\n",
       "    <tr>\n",
       "      <th>2</th>\n",
       "      <td>ham</td>\n",
       "      <td>now u sound like manky scouse boy steve,like! ...</td>\n",
       "    </tr>\n",
       "    <tr>\n",
       "      <th>3</th>\n",
       "      <td>ham</td>\n",
       "      <td>mum say we wan to go then go... then she can s...</td>\n",
       "    </tr>\n",
       "    <tr>\n",
       "      <th>4</th>\n",
       "      <td>ham</td>\n",
       "      <td>never y lei... i v lazy... got wat? dat day ü ...</td>\n",
       "    </tr>\n",
       "  </tbody>\n",
       "</table>\n",
       "</div>"
      ],
      "text/plain": [
       "  label                                               text\n",
       "0   ham  ahhhh...just woken up!had a bad dream about u ...\n",
       "1   ham                           you can never do nothing\n",
       "2   ham  now u sound like manky scouse boy steve,like! ...\n",
       "3   ham  mum say we wan to go then go... then she can s...\n",
       "4   ham  never y lei... i v lazy... got wat? dat day ü ..."
      ]
     },
     "execution_count": 31,
     "metadata": {},
     "output_type": "execute_result"
    }
   ],
   "source": [
    "# Remove number strings\n",
    "train_df['text'] = train_df['text'].replace(r'\\d+', 'NUM', regex=True)\n",
    "test_df['text'] = test_df['text'].replace(r'\\d+', 'NUM', regex=True)\n",
    "\n",
    "train_df.head(5)"
   ]
  },
  {
   "cell_type": "code",
   "execution_count": 35,
   "metadata": {},
   "outputs": [
    {
     "data": {
      "text/html": [
       "<div>\n",
       "<style scoped>\n",
       "    .dataframe tbody tr th:only-of-type {\n",
       "        vertical-align: middle;\n",
       "    }\n",
       "\n",
       "    .dataframe tbody tr th {\n",
       "        vertical-align: top;\n",
       "    }\n",
       "\n",
       "    .dataframe thead th {\n",
       "        text-align: right;\n",
       "    }\n",
       "</style>\n",
       "<table border=\"1\" class=\"dataframe\">\n",
       "  <thead>\n",
       "    <tr style=\"text-align: right;\">\n",
       "      <th></th>\n",
       "      <th>label</th>\n",
       "      <th>text</th>\n",
       "    </tr>\n",
       "  </thead>\n",
       "  <tbody>\n",
       "    <tr>\n",
       "      <th>0</th>\n",
       "      <td>ham</td>\n",
       "      <td>ahhhh...just woken up!had a bad dream about u ...</td>\n",
       "    </tr>\n",
       "    <tr>\n",
       "      <th>1</th>\n",
       "      <td>ham</td>\n",
       "      <td>you can never do nothing</td>\n",
       "    </tr>\n",
       "    <tr>\n",
       "      <th>2</th>\n",
       "      <td>ham</td>\n",
       "      <td>now u sound like manky scouse boy steve,like! ...</td>\n",
       "    </tr>\n",
       "    <tr>\n",
       "      <th>3</th>\n",
       "      <td>ham</td>\n",
       "      <td>mum say we wan to go then go... then she can s...</td>\n",
       "    </tr>\n",
       "    <tr>\n",
       "      <th>4</th>\n",
       "      <td>ham</td>\n",
       "      <td>never y lei... i v lazy... got wat? dat day ü ...</td>\n",
       "    </tr>\n",
       "    <tr>\n",
       "      <th>...</th>\n",
       "      <td>...</td>\n",
       "      <td>...</td>\n",
       "    </tr>\n",
       "    <tr>\n",
       "      <th>4174</th>\n",
       "      <td>ham</td>\n",
       "      <td>just woke up. yeesh its late. but i didn't fal...</td>\n",
       "    </tr>\n",
       "    <tr>\n",
       "      <th>4175</th>\n",
       "      <td>ham</td>\n",
       "      <td>what do u reckon as need NUM arrange transport...</td>\n",
       "    </tr>\n",
       "    <tr>\n",
       "      <th>4176</th>\n",
       "      <td>spam</td>\n",
       "      <td>free entry into our £NUM weekly competition ju...</td>\n",
       "    </tr>\n",
       "    <tr>\n",
       "      <th>4177</th>\n",
       "      <td>spam</td>\n",
       "      <td>-pls stop bootydelious (NUM/f) is inviting you...</td>\n",
       "    </tr>\n",
       "    <tr>\n",
       "      <th>4178</th>\n",
       "      <td>ham</td>\n",
       "      <td>tell my  bad character which u dnt lik in me. ...</td>\n",
       "    </tr>\n",
       "  </tbody>\n",
       "</table>\n",
       "<p>4179 rows × 2 columns</p>\n",
       "</div>"
      ],
      "text/plain": [
       "     label                                               text\n",
       "0      ham  ahhhh...just woken up!had a bad dream about u ...\n",
       "1      ham                           you can never do nothing\n",
       "2      ham  now u sound like manky scouse boy steve,like! ...\n",
       "3      ham  mum say we wan to go then go... then she can s...\n",
       "4      ham  never y lei... i v lazy... got wat? dat day ü ...\n",
       "...    ...                                                ...\n",
       "4174   ham  just woke up. yeesh its late. but i didn't fal...\n",
       "4175   ham  what do u reckon as need NUM arrange transport...\n",
       "4176  spam  free entry into our £NUM weekly competition ju...\n",
       "4177  spam  -pls stop bootydelious (NUM/f) is inviting you...\n",
       "4178   ham  tell my  bad character which u dnt lik in me. ...\n",
       "\n",
       "[4179 rows x 2 columns]"
      ]
     },
     "execution_count": 35,
     "metadata": {},
     "output_type": "execute_result"
    }
   ],
   "source": [
    "import pandas as pd\n",
    "import re\n",
    "import string\n",
    "import nltk\n",
    "\n",
    "ps = nltk.PorterStemmer()\n",
    "stopwords = nltk.corpus.stopwords.words('english')\n",
    "\n",
    "# Text Cleaning \n",
    "def clean_text(text):\n",
    "    text = \"\".join([word.lower() for word in text if word not in string.punctuation])\n",
    "    tokens = re.split('\\W+', text)\n",
    "    text = [ps.stem(word) for word in tokens if word not in stopwords]\n",
    "    return text\n",
    "\n",
    "clean_text(train_df['text'])\n",
    "clean_text(test_df['text'])\n",
    "\n",
    "train_df"
   ]
  },
  {
   "cell_type": "markdown",
   "metadata": {},
   "source": [
    "### Implementing RNN"
   ]
  },
  {
   "cell_type": "code",
   "execution_count": 36,
   "metadata": {},
   "outputs": [],
   "source": [
    "X_train = train_df['text']\n",
    "X_test = test_df['text']\n",
    "\n",
    "y_train = np.where(train_df['label']=='spam', 1, 0)\n",
    "y_test = np.where(test_df['label']=='spam', 1, 0)"
   ]
  },
  {
   "cell_type": "code",
   "execution_count": 64,
   "metadata": {},
   "outputs": [
    {
     "data": {
      "text/plain": [
       "'i am in hospital da. . i will return home in evening'"
      ]
     },
     "execution_count": 64,
     "metadata": {},
     "output_type": "execute_result"
    }
   ],
   "source": [
    "X_test[0]"
   ]
  },
  {
   "cell_type": "code",
   "execution_count": 38,
   "metadata": {},
   "outputs": [],
   "source": [
    "from keras.preprocessing.text import Tokenizer\n",
    "\n",
    "tokenizer = Tokenizer()\n",
    "tokenizer.fit_on_texts(X_train)"
   ]
  },
  {
   "cell_type": "code",
   "execution_count": 56,
   "metadata": {},
   "outputs": [
    {
     "name": "stdout",
     "output_type": "stream",
     "text": [
      "{1: 'num', 2: 'i', 3: 'to', 4: 'you', 5: 'a', 6: 'the', 7: 'u', 8: 'and', 9: 'in', 10: 'is', 11: 'me', 12: 'my', 13: 'for', 14: 'your', 15: 'it', 16: 'of', 17: 'call', 18: 'have', 19: 'on', 20: 'now', 21: 'that', 22: 'are', 23: 'so', 24: 'but', 25: 'not', 26: 'or', 27: 'do', 28: 'at', 29: 'can', 30: \"i'm\", 31: 'will', 32: 'be', 33: 'with', 34: 'if', 35: 'get', 36: 'just', 37: 'ur', 38: 'no', 39: 'this', 40: 'we', 41: 'gt', 42: 'lt', 43: 'up', 44: 'ok', 45: 'go', 46: 'free', 47: 'when', 48: 'how', 49: 'out', 50: '£num', 51: 'all', 52: 'from', 53: 'what', 54: 'know', 55: 'like', 56: 'then', 57: 'good', 58: 'got', 59: 'come', 60: 'its', 61: 'time', 62: 'day', 63: 'only', 64: 'am', 65: 'was', 66: 'he', 67: 'love', 68: 'send', 69: 'there', 70: 'as', 71: 'text', 72: 'txt', 73: 'want', 74: 'going', 75: 'one', 76: 'by', 77: 'ü', 78: 'about', 79: 'need', 80: 'still', 81: 'lor', 82: 'n', 83: 'r', 84: \"i'll\", 85: 'home', 86: 'our', 87: 'stop', 88: 'she', 89: 'see', 90: 'today', 91: 'sorry', 92: 'reply', 93: 'dont', 94: 'take', 95: 'da', 96: 'nump', 97: 'back', 98: 'pls', 99: 'k', 100: 'tell', 101: 'mobile', 102: 'her', 103: 'new', 104: \"don't\", 105: 'been', 106: 'later', 107: 'hi', 108: 'they', 109: 'dear', 110: 'any', 111: 'night', 112: 'think', 113: 'week', 114: 'has', 115: 'please', 116: 'much', 117: 'an', 118: 'happy', 119: 'did', 120: 'some', 121: 'here', 122: 'hey', 123: 'well', 124: 'oh', 125: 'where', 126: 'd', 127: 'too', 128: 'who', 129: 'phone', 130: 'www', 131: 'hope', 132: 'great', 133: 'yes', 134: 'tomorrow', 135: 'c', 136: 'make', 137: 'him', 138: \"it's\", 139: 'way', 140: 'work', 141: 'msg', 142: 'had', 143: 'more', 144: 'say', 145: 'wat', 146: 'claim', 147: 'number', 148: 'message', 149: 'e', 150: 'give', 151: 'should', 152: 'amp', 153: 'im', 154: 'ask', 155: 'really', 156: 'already', 157: 'after', 158: 'doing', 159: 'said', 160: 'cash', 161: 'yeah', 162: 'right', 163: 't', 164: 'why', 165: 'cos', 166: 'care', 167: 'find', 168: 'life', 169: 'b', 170: 'com', 171: 'miss', 172: 'prize', 173: 'very', 174: 'meet', 175: 'anything', 176: 'last', 177: 'gud', 178: 'nokia', 179: 'morning', 180: 'thanks', 181: 'win', 182: 'sure', 183: 'again', 184: 'babe', 185: 'every', 186: 'keep', 187: 'pick', 188: 'would', 189: 'also', 190: 'uk', 191: 'them', 192: 'let', 193: 'wait', 194: 'off', 195: 'cant', 196: 'nice', 197: 'gonna', 198: \"i've\", 199: 'us', 200: 'feel', 201: 'his', 202: 'min', 203: 'soon', 204: 's', 205: 'before', 206: 'first', 207: 'sent', 208: 'tonight', 209: 'even', 210: 'around', 211: 'lol', 212: 'were', 213: 'next', 214: 'someone', 215: 'urgent', 216: 'which', 217: 'late', 218: 'co', 219: 'place', 220: 'ya', 221: \"that's\", 222: 'sleep', 223: 'name', 224: 'money', 225: 'something', 226: 'service', 227: 'contact', 228: 'won', 229: 'thk', 230: \"can't\", 231: 'thing', 232: 'tone', 233: 'always', 234: 'leave', 235: 'wish', 236: 'buy', 237: 'things', 238: 'sms', 239: 'per', 240: 'over', 241: 'told', 242: 'friend', 243: 'could', 244: 'waiting', 245: 'year', 246: 'may', 247: 'chat', 248: 'haha', 249: 'people', 250: 'same', 251: 'customer', 252: 'help', 253: 'friends', 254: 'special', 255: 'dun', 256: 'v', 257: 'hello', 258: 'many', 259: 'best', 260: 'x', 261: 'went', 262: 'other', 263: 'meeting', 264: 'mins', 265: 'down', 266: 'holiday', 267: 'coming', 268: 'done', 269: 'class', 270: 'wan', 271: \"you're\", 272: 'getting', 273: 'lunch', 274: 'yet', 275: 'never', 276: 'thought', 277: 'yup', 278: 'use', 279: 'fine', 280: 'car', 281: 'stuff', 282: 'house', 283: 'finish', 284: 'cool', 285: 'being', 286: 'better', 287: 'try', 288: 'talk', 289: 'man', 290: 'bit', 291: 'days', 292: 'start', 293: 'heart', 294: 'lot', 295: 'lar', 296: 'birthday', 297: 'guaranteed', 298: 'long', 299: 'end', 300: 'mind', 301: 'another', 302: 'few', 303: 'liao', 304: 'than', 305: 'yo', 306: 'guess', 307: 'y', 308: 'dat', 309: 'cs', 310: 'wk', 311: 'problem', 312: \"didn't\", 313: 'because', 314: 'trying', 315: 'play', 316: 'chance', 317: 'live', 318: 'offer', 319: 'smile', 320: 'box', 321: 'guys', 322: 'bt', 323: 'real', 324: 'month', 325: 'numst', 326: 'line', 327: 'sweet', 328: 'account', 329: 'check', 330: 'into', 331: 'latest', 332: 'person', 333: 'nothing', 334: 'watch', 335: 'room', 336: 'enjoy', 337: 'half', 338: 'having', 339: 'video', 340: 'tv', 341: 'receive', 342: 'ah', 343: 'big', 344: 'face', 345: 'camera', 346: 'thanx', 347: 'word', 348: 'boy', 349: 'xxx', 350: 'quite', 351: 'aight', 352: 'might', 353: 'remember', 354: 'ill', 355: 'pa', 356: 'eat', 357: 'hear', 358: 'draw', 359: 'jus', 360: 'sat', 361: 'numppm', 362: 'ever', 363: 'thats', 364: 'apply', 365: 'early', 366: 'girl', 367: 'den', 368: 'po', 369: 'pay', 370: 'ready', 371: 'rate', 372: 'princess', 373: 'probably', 374: 'awarded', 375: 'watching', 376: 'll', 377: 'leh', 378: 'god', 379: 'dinner', 380: 'world', 381: 'two', 382: 'm', 383: 'ringtone', 384: 'wont', 385: 'tmr', 386: 'once', 387: 'sir', 388: 'little', 389: 'job', 390: 'without', 391: 'actually', 392: 'bad', 393: 'landline', 394: 'look', 395: 'speak', 396: 'does', 397: 'made', 398: 'dunno', 399: 'hour', 400: 'minutes', 401: 'shall', 402: 'wanna', 403: 'part', 404: 'missing', 405: 'bus', 406: 'came', 407: 'luv', 408: 'though', 409: 'left', 410: 'weekend', 411: 'missed', 412: 'g', 413: 'orange', 414: 'must', 415: 'numnd', 416: 'bed', 417: 'shows', 418: 'code', 419: 'weekly', 420: 'numth', 421: 'cost', 422: 'easy', 423: 'those', 424: 'forgot', 425: 'dis', 426: 'most', 427: 'hav', 428: 'since', 429: 'kiss', 430: 'collect', 431: 'yours', 432: 'put', 433: 'reach', 434: 'shit', 435: 'enough', 436: 'called', 437: 'working', 438: 'wanted', 439: 'shopping', 440: 'selected', 441: 'baby', 442: \"how's\", 443: 'okay', 444: 'network', 445: 'pain', 446: 'join', 447: 'school', 448: 'didnt', 449: 'collection', 450: \"he's\", 451: 'plan', 452: 'entry', 453: 'says', 454: 'while', 455: 'making', 456: 'sexy', 457: 'until', 458: 'stay', 459: 'de', 460: 'alright', 461: 'guy', 462: 'town', 463: 'everything', 464: 'numpm', 465: 'important', 466: 'true', 467: 'away', 468: 'til', 469: 'able', 470: 'office', 471: 'saw', 472: 'ard', 473: 'dad', 474: 'xmas', 475: 'looking', 476: 'anyway', 477: \"there's\", 478: 'abt', 479: 'times', 480: 'colour', 481: 'dreams', 482: 'wot', 483: 'bored', 484: 'wid', 485: 'haf', 486: 'update', 487: 'price', 488: 'means', 489: 'calls', 490: 'trip', 491: 'show', 492: 'book', 493: 'question', 494: 'oso', 495: 'attempt', 496: 'fun', 497: 'numhrs', 498: 'together', 499: 'tones', 500: 're', 501: \"we're\", 502: 'shop', 503: 'fuck', 504: 'makes', 505: 'asked', 506: 'answer', 507: 'started', 508: 'maybe', 509: 'coz', 510: 'gift', 511: 'driving', 512: 'run', 513: 'messages', 514: 'points', 515: 'hurt', 516: 'yesterday', 517: 'thank', 518: 'between', 519: 'worry', 520: 'evening', 521: 'game', 522: 'friendship', 523: 'juz', 524: 'years', 525: \"''\", 526: 'eve', 527: \"what's\", 528: 'brother', 529: 'finished', 530: 'havent', 531: 'wif', 532: 'date', 533: 'national', 534: 'wen', 535: 'family', 536: 'id', 537: 'either', 538: 'mail', 539: 'valid', 540: 'top', 541: 'games', 542: 'comes', 543: 'plz', 544: 'mob', 545: 'tried', 546: \"won't\", 547: 'aft', 548: 'dude', 549: 'mean', 550: 'club', 551: 'bring', 552: 'order', 553: 'nite', 554: 'wake', 555: 'online', 556: 'old', 557: 'full', 558: 'wife', 559: 'hot', 560: 'believe', 561: 'double', 562: 'await', 563: 'sae', 564: 'email', 565: 'else', 566: 'pm', 567: 'congrats', 568: 'music', 569: \"haven't\", 570: 'till', 571: 'open', 572: 'thinking', 573: 'beautiful', 574: 'hours', 575: 'food', 576: 'calling', 577: 'change', 578: 'chikku', 579: 'address', 580: 'decimal', 581: \"c's\", 582: 'poly', 583: 'lose', 584: 'busy', 585: 'goes', 586: 'sch', 587: 'test', 588: 'award', 589: 'texts', 590: 'lei', 591: 'tot', 592: 'cause', 593: 'hair', 594: 'lucky', 595: 'http', 596: 'details', 597: 'plus', 598: 'head', 599: 'private', 600: 'statement', 601: 'expires', 602: 'net', 603: 'afternoon', 604: 'movie', 605: 'noe', 606: 'leaving', 607: 'drop', 608: 'feeling', 609: 'wants', 610: 'loving', 611: 'info', 612: 'sun', 613: 'words', 614: 'worth', 615: 'bonus', 616: 'voucher', 617: 'okie', 618: 'choose', 619: 'smoke', 620: 'delivery', 621: 'treat', 622: 'smiling', 623: \"we'll\", 624: 'touch', 625: 'services', 626: 'angry', 627: 'lesson', 628: 'fast', 629: 'ninum', 630: 'mates', 631: 'tc', 632: 'both', 633: 'needs', 634: 'type', 635: 'happened', 636: 'identifier', 637: 'saturday', 638: 'available', 639: 'opt', 640: 'whatever', 641: 'card', 642: 'forget', 643: 'pics', 644: 'winner', 645: 'dating', 646: 'gd', 647: \"she's\", 648: 'charge', 649: 'kind', 650: 'saying', 651: 'don', 652: 'unsubscribe', 653: 'taking', 654: 'w', 655: 'these', 656: 'blue', 657: 'awesome', 658: 'set', 659: 'anyone', 660: 'second', 661: 'lots', 662: 'visit', 663: 'huh', 664: 'anytime', 665: 'auction', 666: 'pounds', 667: 'vouchers', 668: 'ring', 669: 'goin', 670: 'tomo', 671: 'hit', 672: 'story', 673: 'msgs', 674: 'search', 675: 'walk', 676: 'pic', 677: 'gone', 678: 'goodmorning', 679: 'listen', 680: 'unlimited', 681: 'operator', 682: 'bnum', 683: 'light', 684: 'talking', 685: 'party', 686: 'sounds', 687: 'camcorder', 688: 'smth', 689: 'boxnum', 690: 'pub', 691: 'took', 692: 'close', 693: 'happen', 694: 'sister', 695: 'nt', 696: 'news', 697: 'minute', 698: 'fri', 699: 'ha', 700: 'o', 701: 'rite', 702: 'grnum', 703: 'simple', 704: 'tho', 705: 'finally', 706: 'college', 707: 'neva', 708: 'yourself', 709: 'log', 710: 'dnt', 711: 'drink', 712: 'mobileupdnum', 713: 'download', 714: 'die', 715: 'xx', 716: 'row', 717: \"you've\", 718: 'whats', 719: 'oredi', 720: 'prob', 721: 'read', 722: 'todays', 723: 'freemsg', 724: 'fone', 725: 'friday', 726: 'frnd', 727: 'ltd', 728: 'mrng', 729: 'lets', 730: 'post', 731: 'weeks', 732: 'company', 733: 'alone', 734: 'content', 735: 'carlos', 736: 'wrong', 737: 'enter', 738: 'numam', 739: 'their', 740: 'girls', 741: 'dream', 742: 'mum', 743: 'darlin', 744: 'tired', 745: 'pretty', 746: 'nope', 747: 'frm', 748: 'fr', 749: 'loved', 750: 'frnds', 751: \"'\", 752: 'secret', 753: 'pobox', 754: 'offers', 755: 'gotta', 756: 'un', 757: 'chennai', 758: 'stupid', 759: 'thinks', 760: \"i'd\", 761: 'everyone', 762: 'luck', 763: 'found', 764: 'mu', 765: 'gas', 766: 'land', 767: 'knw', 768: 'wit', 769: 'hand', 770: 'snow', 771: 'jay', 772: 'sad', 773: 'f', 774: 'numbers', 775: 'nyt', 776: 'almost', 777: 'area', 778: 'takes', 779: 'project', 780: 'ipod', 781: 'player', 782: 'park', 783: 'bout', 784: 'semester', 785: 'noon', 786: 'final', 787: 'grins', 788: 'met', 789: 'song', 790: \"doesn't\", 791: 'wonderful', 792: 'ans', 793: 'christmas', 794: 'earlier', 795: 'fucking', 796: 'parents', 797: 'india', 798: 'bank', 799: 'poboxnum', 800: 'hows', 801: 'motorola', 802: 'wil', 803: 'sound', 804: 'information', 805: 'point', 806: 'march', 807: 'case', 808: 'decided', 809: 'energy', 810: 'nummths', 811: 'mobiles', 812: \"you'll\", 813: 'lovely', 814: 'redeemed', 815: 'credit', 816: 'reading', 817: 'bslvyl', 818: 'ass', 819: 'congratulations', 820: 'sleeping', 821: 'invited', 822: 'ac', 823: 'somebody', 824: 'mine', 825: 'crazy', 826: 'mayb', 827: 'wow', 828: 'meant', 829: 'happiness', 830: 'slowly', 831: 'ten', 832: 'side', 833: 'course', 834: 'ringtones', 835: 'th', 836: 'seeing', 837: 'muz', 838: 'extra', 839: 'hmmm', 840: 'sis', 841: 'gym', 842: 'used', 843: 'pass', 844: 'sea', 845: 'checking', 846: 'hard', 847: 'yar', 848: 'understand', 849: 'each', 850: 'father', 851: 'fancy', 852: 'askd', 853: 'small', 854: 'hmv', 855: 'write', 856: 'remove', 857: 'entered', 858: 'savamob', 859: 'gn', 860: 'tel', 861: 'complimentary', 862: 'pray', 863: 'doin', 864: 'surprise', 865: 'hmm', 866: 'lovable', 867: 'seriously', 868: 'deep', 869: 'mm', 870: 'txting', 871: 'rental', 872: 'ge', 873: 'drugs', 874: 'studying', 875: 'mode', 876: 'drive', 877: 'bcoz', 878: 'wana', 879: 'sunday', 880: 'through', 881: 'hee', 882: '…', 883: 'knew', 884: 'em', 885: 'tonite', 886: 'asking', 887: 'merry', 888: 'specially', 889: 'ends', 890: 'paper', 891: 'pete', 892: 'store', 893: 'clean', 894: 'rates', 895: 'least', 896: 'match', 897: 'del', 898: 'credits', 899: 'comuk', 900: 'england', 901: 'flag', 902: 'supposed', 903: 'rply', 904: 'charged', 905: 'cut', 906: 'direct', 907: 'difficult', 908: 'hold', 909: 'support', 910: 'reached', 911: 'different', 912: 'wine', 913: 'mr', 914: 'abiola', 915: 'hungry', 916: 'age', 917: 'laptop', 918: 'asap', 919: 'yr', 920: 'eh', 921: 'reason', 922: 'near', 923: 'weed', 924: 'press', 925: 'std', 926: 'wonder', 927: 'rs', 928: 'ex', 929: 'break', 930: 'empty', 931: 'quiz', 932: 'suitenum', 933: 'numlands', 934: 'booked', 935: 'far', 936: 'worried', 937: 'deal', 938: 'within', 939: 'charity', 940: 'etc', 941: 'lazy', 942: 'own', 943: 'link', 944: 'ive', 945: 'kate', 946: 'move', 947: 'worries', 948: 'onum', 949: 'fantastic', 950: 'awaiting', 951: 'ho', 952: 'gal', 953: 'moral', 954: 'callnumoptout', 955: 'normal', 956: 'aha', 957: 'wednesday', 958: 'film', 959: 'uncle', 960: 'sub', 961: 'reveal', 962: 'swing', 963: 'numg', 964: 'sign', 965: 'tampa', 966: 'hoping', 967: 'completely', 968: 'balance', 969: 'voice', 970: 'couple', 971: 'catch', 972: 'ago', 973: 'p', 974: 'picking', 975: 'against', 976: 'feels', 977: 'numnite', 978: 'rock', 979: 'monday', 980: 'al', 981: 'confirm', 982: 'computer', 983: 'welcome', 984: 'usf', 985: 'goto', 986: 'thinkin', 987: 'mood', 988: 'mah', 989: 'eg', 990: 'usual', 991: 'darren', 992: 'wishes', 993: 'oops', 994: 'ntt', 995: 'il', 996: 'red', 997: 'figure', 998: 'lover', 999: 'forever', 1000: 'disturb', 1001: 'gave', 1002: 'cheap', 1003: 'poor', 1004: 'caller', 1005: 'wishing', 1006: 'especially', 1007: 'none', 1008: 'john', 1009: 'spend', 1010: 'wkly', 1011: 'comp', 1012: 'registered', 1013: 'summer', 1014: 'laugh', 1015: \"b'day\", 1016: 'phones', 1017: 'iam', 1018: 'whole', 1019: 'mom', 1020: 'questions', 1021: 'correct', 1022: 'black', 1023: 'cake', 1024: 'convey', 1025: 'ice', 1026: 'mate', 1027: 'urself', 1028: 'felt', 1029: 'via', 1030: 'shower', 1031: 'valentine', 1032: 'using', 1033: 'discount', 1034: 'comin', 1035: 'j', 1036: 'rakhesh', 1037: \"isn't\", 1038: 'telling', 1039: 'street', 1040: 'reward', 1041: 'swt', 1042: 'giving', 1043: 'currently', 1044: 'outside', 1045: 'accept', 1046: 'planning', 1047: 'short', 1048: 'user', 1049: 'interested', 1050: 'showing', 1051: \"god's\", 1052: 'cinema', 1053: 'st', 1054: 'access', 1055: 'boytoy', 1056: 'hell', 1057: 'nonum', 1058: 'getzed', 1059: 'biz', 1060: 'numgbp', 1061: 'myself', 1062: 'dead', 1063: 'slow', 1064: 'ticket', 1065: 'ugh', 1066: 'high', 1067: 'under', 1068: 'somewhere', 1069: 'admirer', 1070: 'silent', 1071: 'training', 1072: 'whenever', 1073: 'eyes', 1074: 'south', 1075: 'copy', 1076: 'tickets', 1077: 'cost£num', 1078: 'password', 1079: 'shuhui', 1080: 'vl', 1081: 'mo', 1082: 'staying', 1083: 'cell', 1084: 'ar', 1085: 'seen', 1086: 'leaves', 1087: 'mnum', 1088: 'bxnum', 1089: 'imma', 1090: 'study', 1091: 'safe', 1092: 'tuesday', 1093: 'ending', 1094: 'dogging', 1095: 'login', 1096: 'picked', 1097: 'nah', 1098: 'loyalty', 1099: 'numu', 1100: 'workin', 1101: 'boss', 1102: 'inside', 1103: 'reaching', 1104: 'warm', 1105: 'ones', 1106: 'yep', 1107: 'midnight', 1108: 'cute', 1109: 'omw', 1110: 'umma', 1111: 'facebook', 1112: 'thnk', 1113: 'replying', 1114: 'bak', 1115: 'depends', 1116: 'quality', 1117: 'goodnight', 1118: 'sending', 1119: 'starts', 1120: 'sky', 1121: 'team', 1122: 'road', 1123: 'yahoo', 1124: 'hurry', 1125: 'coffee', 1126: 'kids', 1127: 'colleagues', 1128: 'txts', 1129: 'less', 1130: 'wap', 1131: 'numt', 1132: 'changed', 1133: 'rain', 1134: 'january', 1135: 'lect', 1136: 'glad', 1137: 'fault', 1138: 'joined', 1139: 'fullonsms', 1140: 'sknumxh', 1141: 'cover', 1142: 'stand', 1143: 'bill', 1144: 'save', 1145: 'men', 1146: 'lessons', 1147: 'bb', 1148: 'sofa', 1149: 'ldew', 1150: 'wnumjnumhl', 1151: 'single', 1152: 'style', 1153: 'numi', 1154: 'orchard', 1155: 'cold', 1156: 'malaria', 1157: 'ipnum', 1158: 'numwe', 1159: 'forwarded', 1160: \"t's\", 1161: 'rather', 1162: 'woke', 1163: 'plans', 1164: 'omg', 1165: 'possible', 1166: 'water', 1167: 'polys', 1168: 'starting', 1169: 'lookin', 1170: 'forward', 1171: 'loads', 1172: 'become', 1173: 'onto', 1174: 'childish', 1175: 'sort', 1176: 'during', 1177: 'slept', 1178: 'replied', 1179: 'txtauction', 1180: 'confidence', 1181: 'sony', 1182: 'la', 1183: 'frens', 1184: 'ldn', 1185: 'bluetooth', 1186: 'rose', 1187: 'works', 1188: 'gets', 1189: 'ate', 1190: 'kept', 1191: 'rent', 1192: 'mid', 1193: 'ts', 1194: 'budget', 1195: 'immediately', 1196: 'pin', 1197: 'thru', 1198: 'share', 1199: 'complete', 1200: 'theatre', 1201: 'strong', 1202: 'miracle', 1203: 'inc', 1204: 'students', 1205: 'yijue', 1206: 'slave', 1207: 'trouble', 1208: 'gay', 1209: 'truth', 1210: 'cafe', 1211: 'kano', 1212: 'texting', 1213: 'valued', 1214: 'blood', 1215: 'hw', 1216: 'realy', 1217: 'planned', 1218: 'agenum', 1219: 'inviting', 1220: 'sex', 1221: 'terms', 1222: 'bag', 1223: 'lost', 1224: 'official', 1225: 'cine', 1226: 'sale', 1227: 'kinda', 1228: 'longer', 1229: 'mon', 1230: 'gee', 1231: 'rest', 1232: 'self', 1233: 'buying', 1234: 'ended', 1235: 'excellent', 1236: 'months', 1237: 'ave', 1238: 'funny', 1239: 'train', 1240: 'process', 1241: 'turns', 1242: 'sit', 1243: 'moment', 1244: 'page', 1245: 'across', 1246: 'door', 1247: 'bathe', 1248: 'list', 1249: 'tenerife', 1250: 'joking', 1251: 'damn', 1252: 'pussy', 1253: 'tough', 1254: 'future', 1255: 'advance', 1256: 'cheers', 1257: 'present', 1258: 'round', 1259: 'cum', 1260: 'relax', 1261: 'fat', 1262: \"joy's\", 1263: 'fixed', 1264: 'recently', 1265: 'law', 1266: 'lacs', 1267: 'children', 1268: 'yrs', 1269: 'promise', 1270: 'sense', 1271: 'sell', 1272: 'arcade', 1273: 'freephone', 1274: 'valentines', 1275: 'aathi', 1276: 'except', 1277: 'lift', 1278: 'meaning', 1279: 'gettin', 1280: 'menu', 1281: 'cuz', 1282: 'nimya', 1283: 'behind', 1284: 'trust', 1285: 'request', 1286: 'callertune', 1287: 'bedroom', 1288: 'appreciate', 1289: 'nobody', 1290: 'doesnt', 1291: 'spree', 1292: 'eating', 1293: 'doctor', 1294: 'worse', 1295: 'london', 1296: 'apartment', 1297: 'seems', 1298: 'quick', 1299: 'custcare', 1300: 'air', 1301: 'costa', 1302: 'sol', 1303: 'toclaim', 1304: 'stockport', 1305: 'maxnummins', 1306: 'tick', 1307: 'following', 1308: 'spent', 1309: 'bath', 1310: 'representative', 1311: 'evng', 1312: 'situation', 1313: 'wherever', 1314: \"wasn't\", 1315: 'definitely', 1316: 'wer', 1317: 'handset', 1318: 'unsub', 1319: 'sp', 1320: 'sup', 1321: 'cal', 1322: 'ladies', 1323: 'others', 1324: \"you'd\", 1325: 'crave', 1326: 'version', 1327: 'unless', 1328: 'digital', 1329: 'fact', 1330: 'hg', 1331: 'add', 1332: 'heard', 1333: 'fix', 1334: 'aiyo', 1335: 'ta', 1336: 'social', 1337: 'space', 1338: 'urawinner', 1339: 'library', 1340: 'towards', 1341: 'boost', 1342: 'hv', 1343: 'wnumwq', 1344: 'normnump', 1345: 'mother', 1346: 'numoptout', 1347: 'yay', 1348: 'cup', 1349: 'tea', 1350: 'fingers', 1351: 'opinion', 1352: 'exciting', 1353: 'interesting', 1354: 'nxt', 1355: 'village', 1356: 'eatin', 1357: 'thursday', 1358: 'wun', 1359: 'campus', 1360: 'atm', 1361: 'decide', 1362: 'din', 1363: 'videophones', 1364: 'videochat', 1365: 'java', 1366: 'dload', 1367: 'noline', 1368: 'rentl', 1369: 'hook', 1370: 'simply', 1371: 'cry', 1372: 'logo', 1373: 'zed', 1374: 'waste', 1375: 'mark', 1376: 'pizza', 1377: 'straight', 1378: 'allah', 1379: 'due', 1380: 'loan', 1381: 'naughty', 1382: 'pix', 1383: 'asks', 1384: 'movies', 1385: 'pple', 1386: 'april', 1387: 'ish', 1388: 'looks', 1389: 'pictures', 1390: 'meh', 1391: 'activate', 1392: 'salary', 1393: 'vote', 1394: \"u've\", 1395: 'experience', 1396: 'alrite', 1397: 'totally', 1398: 'original', 1399: 'yan', 1400: 'jiu', 1401: 'listening', 1402: 'app', 1403: 'thurs', 1404: 'fyi', 1405: 'inclusive', 1406: 'lonely', 1407: 'teach', 1408: 'tour', 1409: 'sim', 1410: 'hotel', 1411: 'eng', 1412: 'wats', 1413: 'reference', 1414: 'arrive', 1415: 'wiv', 1416: 'green', 1417: 'arrange', 1418: 'mpnum', 1419: 'personal', 1420: 'return', 1421: 'kerala', 1422: 'sunny', 1423: 'rays', 1424: 'truly', 1425: 'numk', 1426: 'travel', 1427: 'earth', 1428: 'lemme', 1429: 'died', 1430: 'sunshine', 1431: 'respond', 1432: \"aren't\", 1433: 'plenty', 1434: \"uk's\", 1435: 'model', 1436: 'awake', 1437: 'results', 1438: 'daily', 1439: 'buzz', 1440: 'twice', 1441: 'sometimes', 1442: 'hr', 1443: 'happens', 1444: \"they're\", 1445: 'ride', 1446: 'sport', 1447: 'hai', 1448: 'serious', 1449: 'isnt', 1450: 'amazing', 1451: 'numday', 1452: 'vikky', 1453: 'wear', 1454: 'fantasy', 1455: 'boys', 1456: 'wed', 1457: 'chinese', 1458: 'stock', 1459: 'knows', 1460: 'internet', 1461: 'rcvd', 1462: 'mistake', 1463: 'local', 1464: 'flirt', 1465: 'optout', 1466: 'wnt', 1467: 'amt', 1468: 'tear', 1469: 'opportunity', 1470: 'usually', 1471: 'otherwise', 1472: 'hiya', 1473: 'hop', 1474: 'yest', 1475: 'liked', 1476: 'closed', 1477: 'including', 1478: 'shirt', 1479: 'loves', 1480: 'numd', 1481: 'bucks', 1482: 'kick', 1483: 'alex', 1484: 'choice', 1485: \"''ok''\", 1486: 'sed', 1487: 'minuts', 1488: 'latr', 1489: 'pissed', 1490: 'croydon', 1491: 'crnum', 1492: 'numwb', 1493: 'charges', 1494: 'nvm', 1495: 'spoke', 1496: 'remind', 1497: 'ahmad', 1498: 'entitled', 1499: 'looked', 1500: 'numgb', 1501: 'bold', 1502: 'itself', 1503: 'expensive', 1504: 'amount', 1505: 'lmao', 1506: 'willing', 1507: 'naked', 1508: \"today's\", 1509: 'tht', 1510: 'woman', 1511: 'cd', 1512: 'hunny', 1513: 'directly', 1514: \"where's\", 1515: 'weight', 1516: 'member', 1517: 'hl', 1518: 'boston', 1519: 'kb', 1520: 'qatar', 1521: 'meds', 1522: 'sitting', 1523: 'king', 1524: 'mrt', 1525: 'bother', 1526: \"num's\", 1527: 'sing', 1528: 'plane', 1529: 'selection', 1530: 'medical', 1531: 'nigeria', 1532: 'added', 1533: 'receipt', 1534: 'nums', 1535: 'lnumr', 1536: 'contract', 1537: 'hella', 1538: \"wat's\", 1539: 'kallis', 1540: 'broke', 1541: 'sick', 1542: 'flower', 1543: 'problems', 1544: 'er', 1545: 'cannot', 1546: 'however', 1547: 'envelope', 1548: 'weekends', 1549: 'basically', 1550: 'waking', 1551: 'nw', 1552: 'learn', 1553: 'tariffs', 1554: 'exam', 1555: 'five', 1556: 'barely', 1557: 'fighting', 1558: 'pc', 1559: 'comedy', 1560: 'url', 1561: 'skype', 1562: 'spk', 1563: 'dollars', 1564: 'bcums', 1565: 'affection', 1566: 'kettoda', 1567: 'manda', 1568: 'thts', 1569: 'birds', 1570: 'letter', 1571: 'ran', 1572: 'saved', 1573: 'passed', 1574: 'throw', 1575: \"did't\", 1576: 'total', 1577: 'intro', 1578: 'dropped', 1579: 'deliver', 1580: 'costs', 1581: 'surfing', 1582: 'uni', 1583: 'wkend', 1584: 'cars', 1585: 'matter', 1586: 'tells', 1587: 'loss', 1588: 'moan', 1589: 'accidentally', 1590: 'rooms', 1591: 'response', 1592: 'delivered', 1593: 'romantic', 1594: 'track', 1595: 'lead', 1596: \"who's\", 1597: 'pound', 1598: 'preferably', 1599: 'screaming', 1600: 'wanting', 1601: 'vip', 1602: 'anybody', 1603: 'dint', 1604: 'group', 1605: 'hands', 1606: 'seem', 1607: 'beer', 1608: 'jesus', 1609: 'ahead', 1610: 'flights', 1611: 'fall', 1612: 'cat', 1613: 'bloody', 1614: 'somethin', 1615: 'jess', 1616: 'station', 1617: 'searching', 1618: 'daddy', 1619: 'bright', 1620: 'married', 1621: 'xy', 1622: 'heavy', 1623: 'surprised', 1624: 'gorgeous', 1625: 'holding', 1626: 'sec', 1627: 'issues', 1628: 'appt', 1629: 'series', 1630: 'afraid', 1631: 'ages', 1632: 'appointment', 1633: 'common', 1634: 'smiles', 1635: 'pig', 1636: 'cancer', 1637: 'throat', 1638: 'hurts', 1639: 'cartoon', 1640: 'temple', 1641: 'church', 1642: 'anymore', 1643: 'voda', 1644: 'quoting', 1645: 'standard', 1646: 'ma', 1647: 'dey', 1648: 'aftr', 1649: 'numqxjnum', 1650: 'numae', 1651: 'jordan', 1652: 'belly', 1653: 'vodafone', 1654: 'hanging', 1655: 'egg', 1656: 'needed', 1657: 'taunton', 1658: 'players', 1659: 'holla', 1660: 'yer', 1661: 'wnumwx', 1662: 'character', 1663: 'unredeemed', 1664: 'mtmsgrcvdnum', 1665: 'brand', 1666: 'bay', 1667: 'texted', 1668: 'bugis', 1669: 'vary', 1670: 'i‘m', 1671: 'horny', 1672: 'excuse', 1673: 'bringing', 1674: 'iz', 1675: 'smart', 1676: 'subscription', 1677: 'nearly', 1678: 'centre', 1679: 'pages', 1680: 'photo', 1681: 'outta', 1682: 'scared', 1683: 'surely', 1684: 'themob', 1685: 'i‘ll', 1686: 'euronum', 1687: 'informed', 1688: 'ppl', 1689: 'jst', 1690: 'cam', 1691: 'moby', 1692: 'website', 1693: 'shd', 1694: 'note', 1695: 'dog', 1696: 'checked', 1697: 'italian', 1698: 'laughing', 1699: 'iq', 1700: 'football', 1701: 'joke', 1702: 'masters', 1703: 'airport', 1704: 'announcement', 1705: 'unable', 1706: 'running', 1707: 'revealed', 1708: \"ain't\", 1709: 'hospital', 1710: 'bloomberg', 1711: 'settled', 1712: 'singles', 1713: 'vry', 1714: 'indians', 1715: 'horrible', 1716: 'bf', 1717: \"did'nt\", 1718: 'wylie', 1719: 'country', 1720: 'indian', 1721: 'bet', 1722: 'three', 1723: 'battery', 1724: 'lik', 1725: 'addicted', 1726: 'current', 1727: 'discuss', 1728: 'settings', 1729: 'nokianum', 1730: 'assume', 1731: 'asleep', 1732: 'aiya', 1733: 'happening', 1734: 'exactly', 1735: 'girlfrnd', 1736: 'h', 1737: 'maid', 1738: 'murderer', 1739: 'murdered', 1740: 'public', 1741: 'govt', 1742: 'instituitions', 1743: 'rd', 1744: 'favour', 1745: 'idea', 1746: 'sha', 1747: 'regards', 1748: 'nummrw', 1749: 'takin', 1750: \"u're\", 1751: 'fantasies', 1752: 'site', 1753: 'bitch', 1754: 'weather', 1755: 'namenum', 1756: 'drug', 1757: 'lives', 1758: 'subscriber', 1759: 'dictionary', 1760: 'mt', 1761: 'system', 1762: 'sooner', 1763: 'intelligent', 1764: 'oz', 1765: 'answers', 1766: 'geeee', 1767: 'bday', 1768: 'cabin', 1769: '–', 1770: 'feb', 1771: 'waitin', 1772: 'sonyericsson', 1773: 'partner', 1774: 'tat', 1775: 'numish', 1776: 'xchat', 1777: 'tt', 1778: 'nature', 1779: 'clock', 1780: 'holder', 1781: 'vomit', 1782: 'nyc', 1783: 'pleased', 1784: 'review', 1785: 'sucks', 1786: 'pie', 1787: 'torch', 1788: 'pleasure', 1789: 'handle', 1790: 'whom', 1791: 'purity', 1792: 'hrs', 1793: 'armand', 1794: 'pack', 1795: 'imagine', 1796: 'adult', 1797: 'height', 1798: 'receiving', 1799: 'moms', 1800: 'english', 1801: 'losing', 1802: 'jazz', 1803: 'teeth', 1804: \"shouldn't\", 1805: 'role', 1806: 'wearing', 1807: 'insurance', 1808: 'that\\x92s', 1809: 'selling', 1810: 'pod', 1811: 'na', 1812: 'linerental', 1813: 'numxnump', 1814: 'jokes', 1815: 'gm', 1816: 'dare', 1817: 'songs', 1818: 'q', 1819: 'bye', 1820: \"let's\", 1821: 'bud', 1822: 'izzit', 1823: 'boo', 1824: 'prabha', 1825: 'sipix', 1826: 'timing', 1827: 'wrc', 1828: 'rally', 1829: 'lucozade', 1830: 'understanding', 1831: 'six', 1832: 'body', 1833: 'transaction', 1834: 'coins', 1835: 'dvd', 1836: 'profit', 1837: 'tyler', 1838: 'mad', 1839: 'notice', 1840: 'prepare', 1841: 'living', 1842: 'ttyl', 1843: 'posted', 1844: 'sura', 1845: 'followed', 1846: 'belovd', 1847: 'played', 1848: 'hostel', 1849: 'lecture', 1850: 'contacted', 1851: 'txtnum', 1852: 'grl', 1853: 'urn', 1854: 'click', 1855: 'begin', 1856: 'jamster', 1857: 'brought', 1858: 'smokes', 1859: 'season', 1860: 'maximize', 1861: 'cancel', 1862: 'santa', 1863: 'term', 1864: 'ibiza', 1865: 'ppm', 1866: 'lab', 1867: 'sn', 1868: 'askin', 1869: 'issue', 1870: 'suggest', 1871: 'practice', 1872: 'market', 1873: \"friend's\", 1874: 'tests', 1875: 'enuff', 1876: 'collecting', 1877: 'teasing', 1878: 'thm', 1879: 'cn', 1880: 'instantly', 1881: 'shouted', 1882: 'nummins', 1883: 'mtmsgnum', 1884: 'spending', 1885: 'derek', 1886: 'management', 1887: 'attend', 1888: 'fever', 1889: 'brings', 1890: 'pilates', 1891: 'prolly', 1892: 'keys', 1893: 'warner', 1894: 'med', 1895: 'butt', 1896: 'sore', 1897: 'hahaha', 1898: 'brain', 1899: 'scream', 1900: 'subpoly', 1901: 'spoken', 1902: 'wcnumnnumxx', 1903: 'ordered', 1904: 'polyph', 1905: 'record', 1906: 'women', 1907: 'tease', 1908: 'spook', 1909: 'eerie', 1910: 'diet', 1911: 'stopped', 1912: 'anywhere', 1913: 'wet', 1914: 'textoperator', 1915: 'insha', 1916: 'concert', 1917: 'gary', 1918: 'freak', 1919: 'threats', 1920: 'cleaning', 1921: 'tape', 1922: 'along', 1923: 'wtf', 1924: 'queen', 1925: 'farm', 1926: 'csbcmnumwcnumnnumxx', 1927: 'max£num', 1928: 'potential', 1929: 'talent', 1930: 'easier', 1931: 'expecting', 1932: 'fave', 1933: 'feelin', 1934: 'gravity', 1935: 'carefully', 1936: 'giv', 1937: 'caring', 1938: 'created', 1939: 'gap', 1940: 'slippers', 1941: 'meal', 1942: 'sometime', 1943: 'report', 1944: 'supervisor', 1945: 'tm', 1946: 'shortly', 1947: 'title', 1948: 'random', 1949: 'sheets', 1950: 'ws', 1951: 'wah', 1952: 'drunk', 1953: 'nap', 1954: 'kisses', 1955: 'cmnum', 1956: 'apps', 1957: 'booking', 1958: 'upgrade', 1959: 'poboxnumwnumwq', 1960: 'xnum', 1961: 'elsewhere', 1962: 'ad', 1963: 'walked', 1964: 'connect', 1965: 'fathima', 1966: 'aiyah', 1967: 've', 1968: 'various', 1969: 'brothas', 1970: 'collected', 1971: 'fml', 1972: 'mknum', 1973: 'yun', 1974: 'smoking', 1975: 'nights', 1976: 'painful', 1977: 'boring', 1978: 'inform', 1979: 'released', 1980: 'morphine', 1981: 'postcode', 1982: 'responding', 1983: 'frndship', 1984: 'marry', 1985: 'yor', 1986: 'gimme', 1987: 'captain', 1988: 'regular', 1989: 'further', 1990: 'beware', 1991: 'ru', 1992: 'regret', 1993: 'gals', 1994: 'chain', 1995: 'violence', 1996: 'history', 1997: 'contents', 1998: 'pink', 1999: 'bathing', 2000: 'prove', 2001: 'china', 2002: 'yoga', 2003: 'rem', 2004: 'uncles', 2005: 'biggest', 2006: 'competition', 2007: 'careful', 2008: 'sender', 2009: 'wallpaper', 2010: 'bottle', 2011: 'cbe', 2012: 'euro', 2013: 'requests', 2014: 'stranger', 2015: 'eye', 2016: 'rule', 2017: 'pongal', 2018: 'diff', 2019: 'shorter', 2020: 'rush', 2021: 'often', 2022: 'vava', 2023: 'decision', 2024: 'mas', 2025: 'goodnite', 2026: 'shame', 2027: 'valuable', 2028: 'score', 2029: 'popped', 2030: 'si', 2031: 'downloads', 2032: 'gudnite', 2033: 'ths', 2034: 'tis', 2035: 'register', 2036: 'legal', 2037: 'exact', 2038: 'hopefully', 2039: 'ignore', 2040: 'dark', 2041: 'raining', 2042: 'unsold', 2043: 'ref', 2044: 'idiot', 2045: 'addie', 2046: 'art', 2047: 'buns', 2048: 'loverboy', 2049: 'lido', 2050: 'wnum', 2051: 'bmw', 2052: 'urgently', 2053: 'shortage', 2054: 'source', 2055: 'arng', 2056: 'transfered', 2057: 'howz', 2058: 'fear', 2059: 'yeh', 2060: 'mite', 2061: 'seemed', 2062: 'aiyar', 2063: 'banks', 2064: 'power', 2065: 'citizen', 2066: 'monthly', 2067: 'cross', 2068: 'ntwk', 2069: 'prefer', 2070: 'exhausted', 2071: 'low', 2072: \"dsn't\", 2073: \"'t\", 2074: 'bid', 2075: 'purchase', 2076: 'se', 2077: 'switch', 2078: 'female', 2079: 'instead', 2080: 'pieces', 2081: 'sighs', 2082: 'photos', 2083: 'ptbo', 2084: 'remains', 2085: 'bro', 2086: 'bros', 2087: 'ful', 2088: 'shy', 2089: 'alcohol', 2090: 'innings', 2091: 'avatar', 2092: 'genuine', 2093: 'numpercent', 2094: 'arun', 2095: 'quote', 2096: 'interview', 2097: 'raji', 2098: 'buff', 2099: 'callers', 2100: 'chasing', 2101: 'american', 2102: 'jen', 2103: 'inches', 2104: 'everybody', 2105: 'persons', 2106: 'freezing', 2107: 'file', 2108: 'transfer', 2109: 'skilgme', 2110: 'considering', 2111: 'esplanade', 2112: 'measure', 2113: 'names', 2114: 'ibhltd', 2115: 'ldnwnumh', 2116: 'idk', 2117: 'machan', 2118: 'confirmed', 2119: 'files', 2120: 'laid', 2121: 'polyphonic', 2122: 'hols', 2123: 'four', 2124: 'screen', 2125: 'gently', 2126: 'connection', 2127: 'fool', 2128: 'railway', 2129: 'mmm', 2130: 'respect', 2131: 'drinks', 2132: 'suite', 2133: 'shld', 2134: 'roger', 2135: 'wisdom', 2136: 'alwys', 2137: 'snake', 2138: 'kidz', 2139: 'touched', 2140: 'reminder', 2141: 'ure', 2142: 'don\\x92t', 2143: 'tncs', 2144: 'invite', 2145: 'spell', 2146: 'fair', 2147: 'numxxxxxxx', 2148: 'msgrcvdhg', 2149: 'numyrs', 2150: 'drivin', 2151: 'billed', 2152: 'wonders', 2153: 'personality', 2154: 'numrd', 2155: 'itz', 2156: 'numwu', 2157: 'lady', 2158: 'txtin', 2159: 'numinfo', 2160: 'moon', 2161: 'quickly', 2162: 'xxxx', 2163: 'returned', 2164: 'networks', 2165: \"we'd\", 2166: 'welp', 2167: 'wins', 2168: 'lousy', 2169: 'wondering', 2170: 'prey', 2171: 'bought', 2172: 'past', 2173: 'sight', 2174: 'white', 2175: 'tcs', 2176: 'gives', 2177: 'likes', 2178: 'tablets', 2179: 'exams', 2180: 'deleted', 2181: 'sry', 2182: 'skip', 2183: \"week's\", 2184: 'boat', 2185: 'okey', 2186: 'thanksgiving', 2187: 'gossip', 2188: 'babes', 2189: \"mum's\", 2190: 'maga', 2191: 'taken', 2192: 'murder', 2193: 'haiz', 2194: 'cornwall', 2195: 'quit', 2196: 'yogasana', 2197: 'abi', 2198: 'cwnumwx', 2199: 'instructions', 2200: 'grand', 2201: 'porn', 2202: 'suntec', 2203: 'hun', 2204: 'doc', 2205: 'tessy', 2206: 'favor', 2207: 'shijas', 2208: \"'til\", 2209: \"she'll\", 2210: 'nichols', 2211: 'honeybee', 2212: 'sweetest', 2213: 'laughed', 2214: 'havnt', 2215: 'crack', 2216: 'soup', 2217: 'sen', 2218: 'nummorow', 2219: 'marriage', 2220: 'sorting', 2221: 'aint', 2222: 'raise', 2223: 'step', 2224: 'slap', 2225: 'strike', 2226: 'december', 2227: 'nat', 2228: 'meetin', 2229: 'locations', 2230: 'ecnuma', 2231: 'vijay', 2232: 'fromm', 2233: 'honey', 2234: 'wa', 2235: 'matches', 2236: \"he'll\", 2237: 'members', 2238: 'symbol', 2239: 'weird', 2240: 'doggy', 2241: 'tb', 2242: 'le', 2243: 'follow', 2244: 'di', 2245: 'fees', 2246: 'display', 2247: 'numdays', 2248: 'realize', 2249: 'blow', 2250: \"couldn't\", 2251: 'tuition', 2252: 'paid', 2253: 'returns', 2254: 'flat', 2255: 'credited', 2256: 'ringtoneking', 2257: 'flaked', 2258: 'eggs', 2259: 'toa', 2260: 'payoh', 2261: 'journey', 2262: 'urgnt', 2263: 'hon', 2264: 'befor', 2265: 'activities', 2266: 'paris', 2267: 'str', 2268: 'scotland', 2269: 'floor', 2270: 'lines', 2271: 'cheaper', 2272: 'jan', 2273: 'vodka', 2274: 'standing', 2275: 'option', 2276: 'blah', 2277: 'catching', 2278: 'freefone', 2279: 'numstoptxt', 2280: 'bein', 2281: 'letters', 2282: 'dirty', 2283: 'bite', 2284: 'fill', 2285: 'settle', 2286: 'lie', 2287: 'cud', 2288: 'hate', 2289: 'subs', 2290: 'picture', 2291: 'dearer', 2292: 'dem', 2293: \"wouldn't\", 2294: 'macho', 2295: 'bigger', 2296: 'loud', 2297: 'miles', 2298: 'cream', 2299: 'weak', 2300: 'moved', 2301: 'stops', 2302: 'ron', 2303: 'winning', 2304: 'rang', 2305: 'yetunde', 2306: 'frying', 2307: 'innum', 2308: 'fifteen', 2309: 'oni', 2310: 'fb', 2311: 'promises', 2312: 'milk', 2313: 'impossible', 2314: 'ubi', 2315: 'blackberry', 2316: 'alfie', 2317: \"moon's\", 2318: 'mnums', 2319: 'nokias', 2320: 'wedding', 2321: 'bin', 2322: 'hint', 2323: 'knum', 2324: 'closer', 2325: 'dearnum', 2326: 'bestnum', 2327: 'closnum', 2328: 'lvblefrnd', 2329: 'jstfrnd', 2330: 'cutefrnd', 2331: 'lifpartnr', 2332: 'swtheart', 2333: 'bstfrnd', 2334: 'enemy', 2335: 'putting', 2336: 'numja', 2337: 'falls', 2338: 'missin', 2339: 'sugar', 2340: 'upset', 2341: 'pending', 2342: 'refused', 2343: \"'help'\", 2344: 'crab', 2345: 'footprints', 2346: 'whos', 2347: 'action', 2348: 'spl', 2349: 'fightng', 2350: 'somenum', 2351: 'dificult', 2352: 'cc', 2353: 'bishan', 2354: 'karaoke', 2355: 'community', 2356: 'hug', 2357: 'senthil', 2358: 'embarassed', 2359: 'becoz', 2360: 'records', 2361: 'xuhui', 2362: 'pg', 2363: 'woken', 2364: 'manage', 2365: 'silently', 2366: 'genius', 2367: 'sknum', 2368: 'numwp', 2369: 'ideas', 2370: 'i\\x92m', 2371: 'definite', 2372: 'housewives', 2373: 'landlines', 2374: 'natural', 2375: 'screamed', 2376: 'renewal', 2377: 'norm', 2378: 'understood', 2379: 'propsd', 2380: 'gv', 2381: 'lv', 2382: 'lttrs', 2383: 'threw', 2384: 'aproach', 2385: 'dt', 2386: 'truck', 2387: 'speeding', 2388: 'wn', 2389: \"'hw\", 2390: 'thy', 2391: 'lived', 2392: 'happily', 2393: 'numgthr', 2394: 'drinking', 2395: 'evrydy', 2396: 'pull', 2397: 'kidding', 2398: 'cousin', 2399: 'google', 2400: 'swatch', 2401: 'relatives', 2402: 'benefits', 2403: 'popcorn', 2404: 'kiosk', 2405: 'clearing', 2406: 'consider', 2407: 'science', 2408: 'chocolate', 2409: 'melt', 2410: 'sunlight', 2411: 'tirunelvali', 2412: 'cust', 2413: 'flight', 2414: 'sufficient', 2415: 'partnership', 2416: 'grave', 2417: 'halloween', 2418: 'philosophy', 2419: 'property', 2420: 'passionate', 2421: 'cramps', 2422: 'kegger', 2423: 'rocks', 2424: 'gnumga', 2425: 'regarding', 2426: 'membership', 2427: 'blu', 2428: 'protect', 2429: 'sib', 2430: 'sensitive', 2431: 'passwords', 2432: 'desparate', 2433: 'august', 2434: 'oic', 2435: 'posts', 2436: 'infernal', 2437: 'distract', 2438: 'worlds', 2439: 'discreet', 2440: 'solved', 2441: 'brilliant', 2442: 'callcost', 2443: 'mobilesvary', 2444: 'block', 2445: 'howard', 2446: 'curry', 2447: 'named', 2448: 'sweets', 2449: 'recovery', 2450: 'nuther', 2451: 'sigh', 2452: 'bahamas', 2453: 'cruise', 2454: 'successful', 2455: 'british', 2456: 'hotels', 2457: 'dial', 2458: 'swnumss', 2459: 'fills', 2460: 'gaps', 2461: 'essential', 2462: 'blessings', 2463: 'california', 2464: 'odi', 2465: 'speaking', 2466: 'sam', 2467: 'nic', 2468: 'fancies', 2469: 'lsnumhb', 2470: 'rofl', 2471: 'belive', 2472: \"we've\", 2473: 'concentrate', 2474: 'papers', 2475: 'web', 2476: 'numstop', 2477: 'violated', 2478: 'privacy', 2479: 'paperwork', 2480: 'loxahatchee', 2481: 'tree', 2482: 'burning', 2483: 'stars', 2484: 'aunty', 2485: 'funk', 2486: 'tonesnumu', 2487: 'bleh', 2488: 'dhoni', 2489: 'answering', 2490: 'eurodisinc', 2491: 'trav', 2492: 'aco', 2493: 'entrynum', 2494: 'morefrmmob', 2495: 'shracomorsglsuplt', 2496: 'lsnum', 2497: 'numaj', 2498: 'panic', 2499: 'happend', 2500: 'wasted', 2501: 'visionsms', 2502: 'dancing', 2503: 'ela', 2504: 'mids', 2505: 'numhr', 2506: 'delay', 2507: 'mini', 2508: 'potato', 2509: 'tortilla', 2510: 'eta', 2511: 'that‘s', 2512: 'cheese', 2513: 'package', 2514: 'shoppin', 2515: 'mokka', 2516: 'covers', 2517: 'plaza', 2518: 'stopsms', 2519: 'titles', 2520: \"guy's\", 2521: 'waheed', 2522: 'nydc', 2523: 'ola', 2524: 'shipping', 2525: 'wud', 2526: 'star', 2527: 'generally', 2528: 'mix', 2529: 'verify', 2530: 'usher', 2531: 'britney', 2532: 'numh', 2533: 'numppw', 2534: 'wkg', 2535: 'btw', 2536: 'location', 2537: 'eight', 2538: 'flirting', 2539: 'nervous', 2540: 'knowing', 2541: 'crnumbt', 2542: 'fixedline', 2543: 'toughest', 2544: 'pee', 2545: 'miserable', 2546: 'effects', 2547: 'control', 2548: 'massive', 2549: 'crap', 2550: 'july', 2551: 'escape', 2552: 'kavalan', 2553: 'textbuddy', 2554: 'gaytextbuddy', 2555: 'breath', 2556: 'yellow', 2557: 'prem', 2558: 'nos', 2559: 'aww', 2560: 'iscoming', 2561: 'breathe', 2562: 'clearly', 2563: 'print', 2564: 'sleepwell', 2565: \"cann't\", 2566: 'technical', 2567: 'brief', 2568: 'garage', 2569: 'combine', 2570: 'actor', 2571: 'unemployed', 2572: 'expression', 2573: 'fuckin', 2574: 'furniture', 2575: 'testing', 2576: 'galileo', 2577: 'oooh', 2578: 'sarcasm', 2579: 'rewarding', 2580: 'dresser', 2581: 'joanna', 2582: 'anti', 2583: 'atlanta', 2584: 'lovejen', 2585: 'error', 2586: 'hol', 2587: 'premium', 2588: 'amused', 2589: 'kickoff', 2590: 'adoring', 2591: 'thread', 2592: 'bottom', 2593: 'flash', 2594: 'madam', 2595: 'msgnump', 2596: 'numrcv', 2597: 'hlp', 2598: 'foley', 2599: 'prizes', 2600: 'stretch', 2601: 'castor', 2602: 'ey', 2603: 'chase', 2604: 'audition', 2605: 'vomiting', 2606: 'worst', 2607: 'failed', 2608: 'pushes', 2609: 'edge', 2610: 'playing', 2611: 'ba', 2612: 'flaky', 2613: 'parent', 2614: 'lou', 2615: 'dedicated', 2616: 'dedicate', 2617: 'raj', 2618: 'kadeem', 2619: 'thangam', 2620: 'unbelievable', 2621: 'jason', 2622: 'uh', 2623: 'heads', 2624: 'toot', 2625: 'fringe', 2626: 'executive', 2627: 'cherish', 2628: 'sharing', 2629: 'stomach', 2630: 'boye', 2631: 'minmobsmorelkpoboxnumhpnumfl', 2632: 'picsfreenum', 2633: 'vid', 2634: 'numyears', 2635: 'oreo', 2636: 'truffles', 2637: 'boxnumnnumqp', 2638: 'shirts', 2639: 'dearly', 2640: 'ias', 2641: 'interflora', 2642: 'treated', 2643: 'gamestar', 2644: 'active', 2645: '£numk', 2646: 'scoring', 2647: 'pen', 2648: 'denis', 2649: 'grnumprizes', 2650: 'theory', 2651: 'jiayin', 2652: 'nummarrow', 2653: 'tom', 2654: 'dubsack', 2655: 'reg', 2656: 'forum', 2657: 'gpu', 2658: 'replacement', 2659: 'slightly', 2660: 'fav', 2661: 'darlings', 2662: 'wld', 2663: 'schedule', 2664: 'yck', 2665: 'roommates', 2666: 'lions', 2667: 'lionm', 2668: 'mono', 2669: 'lionp', 2670: 'enjoyed', 2671: 'natalja', 2672: 'natnum', 2673: 'geeeee', 2674: 'repair', 2675: 'hang', 2676: 'adore', 2677: 'born', 2678: 'center', 2679: 'careers', 2680: 'wishin', 2681: 'walking', 2682: 'poem', 2683: 'cheer', 2684: 'books', 2685: 'count', 2686: 'behave', 2687: 'scold', 2688: 'swiss', 2689: 'crore', 2690: 'jobs', 2691: 'delhi', 2692: 'lane', 2693: 'roads', 2694: 'rich', 2695: 'politicians', 2696: 'success', 2697: 'boyfriend', 2698: 'mths', 2699: 'fujitsu', 2700: 'petey', 2701: 'cld', 2702: 'cuddle', 2703: 'batch', 2704: 'evry', 2705: 'msging', 2706: 'lib', 2707: 'av', 2708: 'bck', 2709: 'dan', 2710: 'kent', 2711: 'vale', 2712: 'shut', 2713: 'usc', 2714: 'secretary', 2715: 'blessing', 2716: 'invaders', 2717: 'orig', 2718: 'console', 2719: 'aunts', 2720: 'helen', 2721: 'ibh', 2722: 'bird', 2723: 'netcollex', 2724: \"when's\", 2725: 'onion', 2726: 'petrol', 2727: 'shesil', 2728: 'bruce', 2729: \"mom's\", 2730: 'reasonable', 2731: 'sleepy', 2732: 'amongst', 2733: 'flies', 2734: 'tog', 2735: 'mth', 2736: 'theres', 2737: 'huge', 2738: 'storming', 2739: 'phne', 2740: 'wt', 2741: 'margaret', 2742: 'grahmbell', 2743: 'invnted', 2744: 'telphone', 2745: 'numget', 2746: \"parents'\", 2747: 'habit', 2748: 'outstanding', 2749: 'sac', 2750: 'carry', 2751: 'plm', 2752: 'boxnumqu', 2753: 'jeans', 2754: 'tonights', 2755: 'rice', 2756: 'difficulties', 2757: 'curious', 2758: 'tmrw', 2759: 'gautham', 2760: 'removed', 2761: 'hyde', 2762: 'mel', 2763: 'vegas', 2764: 'stays', 2765: 'networking', 2766: 'field', 2767: 'necessarily', 2768: 'headin', 2769: 'messenger', 2770: 'callin', 2771: 'sweetie', 2772: 'gentle', 2773: 'royal', 2774: 'atlast', 2775: 'lyk', 2776: 'numuz', 2777: 'ideal', 2778: 'front', 2779: 'cooked', 2780: \"'ll\", 2781: 'doors', 2782: 'racing', 2783: 'conditions', 2784: 'mag', 2785: 'sept', 2786: 'diwali', 2787: 'jolt', 2788: 'hallaq', 2789: 'whether', 2790: 'rude', 2791: 'slo', 2792: 'city', 2793: 'tscsnumwinawk', 2794: 'numperwksub', 2795: 'answered', 2796: 'ericsson', 2797: 'ic', 2798: 'grace', 2799: 'mobno', 2800: 'adam', 2801: 'txtno', 2802: 'ads', 2803: 'nummoro', 2804: 'complaint', 2805: 'airtel', 2806: 'tomarrow', 2807: 'vewy', 2808: 'os', 2809: 'yummy', 2810: 'gentleman', 2811: 'dignity', 2812: 'shitload', 2813: 'ques', 2814: 'suits', 2815: 'nummorrow', 2816: 'lick', 2817: 'mouth', 2818: 'admin', 2819: 'building', 2820: 'polo', 2821: 'wnumj', 2822: 'numhl', 2823: 'superior', 2824: 'bar', 2825: 'forgets', 2826: 'infront', 2827: 'wise', 2828: 'eaten', 2829: 'dress', 2830: 'sux', 2831: 'buzy', 2832: 'although', 2833: 'films', 2834: 'depressed', 2835: 'wind', 2836: 'knock', 2837: 'whose', 2838: 'mobilesdirect', 2839: 'ornumstoptxt', 2840: 'def', 2841: 'amy', 2842: 'cha', 2843: 'desperate', 2844: 'piss', 2845: 'realise', 2846: 'terrible', 2847: 'nummonths', 2848: 'finishing', 2849: 'divorce', 2850: 'jsco', 2851: 'effect', 2852: 'bk', 2853: 'neway', 2854: 'fly', 2855: 'thoughts', 2856: 'craziest', 2857: 'singing', 2858: 'chicken', 2859: 'fan', 2860: 'attached', 2861: 'feet', 2862: 'lounge', 2863: 'woulda', 2864: 'advise', 2865: 'recent', 2866: 'superb', 2867: 'beneath', 2868: 'pale', 2869: 'drinkin', 2870: 'alive', 2871: 'beauty', 2872: 'pimples', 2873: 'deliveredtomorrow', 2874: 'middle', 2875: 'proof', 2876: 'swimming', 2877: 'silence', 2878: 'numa', 2879: 'allow', 2880: 'propose', 2881: 'funky', 2882: 'salam', 2883: 'pride', 2884: 'respectful', 2885: 'gastroenteritis', 2886: 'replace', 2887: 'temp', 2888: 'reduce', 2889: 'limiting', 2890: 'illness', 2891: 'mca', 2892: 'conform', 2893: 'actual', 2894: 'waited', 2895: 'maneesha', 2896: 'satisfied', 2897: 'toll', 2898: 'polyh', 2899: \"dat's\", 2900: 'musthu', 2901: 'sian', 2902: 'it‘s', 2903: 'arms', 2904: 'argument', 2905: 'argue', 2906: 'nummiles', 2907: 'contacts', 2908: 'nitros', 2909: 'driver', 2910: 'format', 2911: 'bloke', 2912: 'zoe', 2913: 'chatting', 2914: 'numwks', 2915: 'forms', 2916: 'fucked', 2917: 'celebrate', 2918: 'magical', 2919: 'dressed', 2920: 'key', 2921: 'dislikes', 2922: 'cared', 2923: 'detroit', 2924: 'anthony', 2925: 'uks', 2926: 'numgift', 2927: 'comnumwinnumppmxnumagenum', 2928: 'paying', 2929: 'ranjith', 2930: 'ruin', 2931: 'aeronautics', 2932: 'professors', 2933: 'calld', 2934: 'aeroplane', 2935: 'hurried', 2936: 'datz', 2937: 'newest', 2938: 'favorite', 2939: 'dokey', 2940: 'guessing', 2941: 'prepared', 2942: 'knackered', 2943: 'anniversary', 2944: 'remembered', 2945: 'inshah', 2946: \"roommate's\", 2947: 'exhaust', 2948: 'donate', 2949: 'whr', 2950: 'minor', 2951: 'crisis', 2952: 'earn', 2953: 'upnum', 2954: 'supply', 2955: 'cds', 2956: 'subsnum', 2957: 'numwinnumppmxnum', 2958: 'ground', 2959: 'eek', 2960: 'given', 2961: 'a£num', 2962: 'greatest', 2963: 'courage', 2964: 'bear', 2965: 'defeat', 2966: \"'melle\", 2967: 'melle', 2968: 'oru', 2969: 'minnaminunginte', 2970: 'nurungu', 2971: 'vettam', 2972: 'west', 2973: 'coast', 2974: 'resume', 2975: 'child', 2976: 'duchess', 2977: 'canada', 2978: 'anythin', 2979: 'abta', 2980: 'sleepin', 2981: 'killing', 2982: 'aclnumpm', 2983: 'push', 2984: 'applebees', 2985: 'language', 2986: 'lush', 2987: 'stress', 2988: 'favourite', 2989: 'roommate', 2990: 'bat', 2991: 'fran', 2992: 'woot', 2993: 'imp', 2994: 'drms', 2995: 'claims', 2996: 'talks', 2997: 'sentence', 2998: 'career', 2999: 'ear', 3000: 'basic', 3001: 'major', 3002: 'guide', 3003: 'album', 3004: 'annie', 3005: 'boxnumsknumch', 3006: 'ability', 3007: 'lnumtr', 3008: 'apologise', 3009: 'dot', 3010: 'radio', 3011: 'doubt', 3012: 'lovers', 3013: 'whn', 3014: 'greet', 3015: 'lies', 3016: 'pool', 3017: 'celebration', 3018: 'enjoyin', 3019: 'transport', 3020: 'tayseer', 3021: 'tissco', 3022: 'subscribed', 3023: 'helpline', 3024: 'prescription', 3025: 'occupy', 3026: 'cares', 3027: 'strange', 3028: 'advice', 3029: 'upto', 3030: 'ms', 3031: 'cme', 3032: 'stuck', 3033: 'possession', 3034: 'lyfu', 3035: 'lyf', 3036: 'ali', 3037: 'ke', 3038: 'meow', 3039: 'everywhere', 3040: 'figures', 3041: 'bowl', 3042: 'numfind', 3043: 'slots', 3044: 'neck', 3045: 'nok', 3046: 'ache', 3047: 'morn', 3048: 'expired', 3049: 'juicy', 3050: 'disturbing', 3051: 'misbehaved', 3052: 'mis', 3053: 'japanese', 3054: 'proverb', 3055: 'alert', 3056: 'james', 3057: 'textcomp', 3058: 'cm', 3059: 'abj', 3060: 'serving', 3061: 'garden', 3062: 'bulbs', 3063: 'seeds', 3064: 'scotsman', 3065: 'gonum', 3066: 'notxt', 3067: 'cochin', 3068: 'accordingly', 3069: \"blake's\", 3070: 'jacket', 3071: 'largest', 3072: 'numlp', 3073: 'jaya', 3074: 'germany', 3075: 'jokin', 3076: 'mnumuz', 3077: 'business', 3078: 'department', 3079: 'dick', 3080: 'mummy', 3081: 'hip', 3082: 'birthdate', 3083: 'calculation', 3084: 'sue', 3085: 'granite', 3086: 'explosive', 3087: 'nasdaq', 3088: 'cdgt', 3089: 'walmart', 3090: 'oil', 3091: 'position', 3092: 'sheffield', 3093: 'opinions', 3094: 'darling', 3095: 'packs', 3096: 'itcould', 3097: 'moments', 3098: 'hill', 3099: 'bags', 3100: 'bills', 3101: 'reality', 3102: 'reaction', 3103: 'maturity', 3104: 'chances', 3105: 'cshnum', 3106: 'tsandcs', 3107: \"there're\", 3108: 'incredible', 3109: 'onumfwd', 3110: 'nummin', 3111: 'opening', 3112: 'result', 3113: 'medicine', 3114: 'moji', 3115: 'jealous', 3116: 'ummmmmaah', 3117: 'legs', 3118: 'recharge', 3119: 'neft', 3120: 'beneficiary', 3121: 'academic', 3122: 'tons', 3123: 'dai', 3124: 'select', 3125: 'nit', 3126: 'perfect', 3127: 'garbage', 3128: 'bread', 3129: 'upload', 3130: 'event', 3131: 'hardcore', 3132: 'ned', 3133: 'hurting', 3134: 'main', 3135: 'tues', 3136: 'lk', 3137: 'chart', 3138: 'previous', 3139: 'kid', 3140: 'sum', 3141: 'reasons', 3142: 'sarcastic', 3143: 'lil', 3144: 'bec', 3145: 'rub', 3146: 'booty', 3147: 'dance', 3148: 'compromised', 3149: 'filled', 3150: 'dealing', 3151: 'calls£num', 3152: 'wiskey', 3153: 'brandy', 3154: 'rum', 3155: 'gin', 3156: 'scotch', 3157: 'shampain', 3158: 'kudiyarasu', 3159: 'dhina', 3160: 'vaazhthukkal', 3161: 'kaiez', 3162: 'transfr', 3163: 'borrow', 3164: 'celeb', 3165: 'pocketbabe', 3166: 'environment', 3167: 'terrific', 3168: 'siva', 3169: 'forevr', 3170: 'gotten', 3171: 'disconnect', 3172: \"'terrorist'\", 3173: 'confirmd', 3174: 'verified', 3175: 'cnn', 3176: 'ibn', 3177: 'oranges', 3178: 'updnum', 3179: 'parked', 3180: 'goldviking', 3181: 'bruv', 3182: 'bbd', 3183: 'pre', 3184: 'cancelled', 3185: 'affair', 3186: 'guilty', 3187: 'several', 3188: 'deus', 3189: 'twelve', 3190: 'dippeditinadew', 3191: 'lovingly', 3192: 'itwhichturnedinto', 3193: 'gifted', 3194: 'tomeandsaid', 3195: 'rhythm', 3196: 'tension', 3197: 'tank', 3198: 'useful', 3199: 'coat', 3200: 'male', 3201: 'cookies', 3202: 'flip', 3203: 'fren', 3204: 'annoying', 3205: 'accident', 3206: 'horo', 3207: 'cuddling', 3208: 'foot', 3209: 'penis', 3210: 'clear', 3211: 'avoiding', 3212: 'fab', 3213: 'constantly', 3214: 'windows', 3215: 'joy', 3216: 'drove', 3217: 'messy', 3218: 'liverpool', 3219: 'ansr', 3220: 'tyrone', 3221: 'thx', 3222: \"u'll\", 3223: 'officially', 3224: 'agree', 3225: 'yuo', 3226: 'ese', 3227: 'tihs', 3228: 'faster', 3229: 'northampton', 3230: 'excuses', 3231: 'mnth', 3232: 'tkts', 3233: 'ganesh', 3234: 'responsibility', 3235: 'dumb', 3236: 'include', 3237: 'shock', 3238: 'onwards', 3239: 'freedom', 3240: 'fastest', 3241: 'growing', 3242: 'administrator', 3243: 'desert', 3244: 'islands', 3245: 'mnumxy', 3246: 'sake', 3247: 'ag', 3248: 'promo', 3249: 'telly', 3250: 'logos', 3251: 'didn‘t', 3252: 'wnumjhl', 3253: 'tooo', 3254: \"'simple'\", 3255: 'steam', 3256: 'sales', 3257: 'anyways', 3258: 'sorted', 3259: 'explain', 3260: 'ctxt', 3261: 'mtmsg', 3262: 'soryda', 3263: 'sory', 3264: 'gold', 3265: 'agalla', 3266: 'sptv', 3267: 'hockey', 3268: 'goals', 3269: 'wales', 3270: 'numtxt', 3271: 'nahi', 3272: 'zindgi', 3273: 'wo', 3274: 'jo', 3275: 'colours', 3276: 'numgeva', 3277: 'east', 3278: 'island', 3279: 'sinco', 3280: 'payee', 3281: 'icicibank', 3282: 'frauds', 3283: 'disclose', 3284: 'kicks', 3285: 'tech', 3286: 'mahal', 3287: 'loveme', 3288: 'frog', 3289: 'madnum', 3290: 'gbp', 3291: 'tlp', 3292: 'expressoffer', 3293: 'causing', 3294: 'slp', 3295: 'muah', 3296: 'foreign', 3297: 'stamps', 3298: 'grow', 3299: 'software', 3300: 'dining', 3301: 'asp', 3302: \"everybody's\", 3303: 'suprman', 3304: 'matrixnum', 3305: 'starwarsnum', 3306: 'dave', 3307: 'remain', 3308: 'don‘t', 3309: 'range', 3310: 'auto', 3311: 'tirupur', 3312: 'tomorro', 3313: 'probs', 3314: 'obviously', 3315: 'leona', 3316: 'andros', 3317: 'fetch', 3318: 'shipped', 3319: 'poop', 3320: 'river', 3321: 'funeral', 3322: 'lookatme', 3323: 'havin', 3324: 'mails', 3325: 'sacrifice', 3326: 'beg', 3327: 'birla', 3328: 'soft', 3329: 'connections', 3330: 'sachin', 3331: 'purpose', 3332: 'homeowners', 3333: 'tenants', 3334: 'previously', 3335: 'shore', 3336: 'waves', 3337: 'cleared', 3338: 'movietrivia', 3339: 'joining', 3340: 'beloved', 3341: 'places', 3342: 'randomly', 3343: 'loyal', 3344: 'customers', 3345: 'february', 3346: 'specific', 3347: 'lays', 3348: 'cashbin', 3349: 'chill', 3350: 'hoped', 3351: 'survey', 3352: 'l', 3353: 'txttowin', 3354: 'challenge', 3355: 'wave', 3356: 'prof', 3357: 'student', 3358: 'gona', 3359: 'sathya', 3360: 'apparently', 3361: 'super', 3362: 'xxxxx', 3363: 'bluff', 3364: 'hardly', 3365: 'pap', 3366: 'dry', 3367: 'continue', 3368: 'messaged', 3369: 'otside', 3370: 'hsbc', 3371: 'perhaps', 3372: \"hasn't\", 3373: 'pan', 3374: 'textpod', 3375: 'ph', 3376: 'thousands', 3377: 'suppose', 3378: 'becomes', 3379: 'numgo', 3380: 'ofice', 3381: 'finance', 3382: 'avent', 3383: 'sticky', 3384: 'reckon', 3385: 'saucy', 3386: 'stones', 3387: 'diamonds', 3388: 'numfil', 3389: \"num'o\", 3390: 'delete', 3391: 'fa', 3392: 'postcard', 3393: 'ruining', 3394: 'heading', 3395: 'mnths', 3396: 'callback', 3397: 'ee', 3398: 'nalla', 3399: 'spider', 3400: 'payment', 3401: 'scrounge', 3402: 'items', 3403: 'differ', 3404: 'mumtaz', 3405: 'killed', 3406: \"mumtaz's\", 3407: 'research', 3408: 'purse', 3409: 'jada', 3410: 'kusruthi', 3411: 'matured', 3412: 'stylish', 3413: 'argh', 3414: 'successfully', 3415: 'coin', 3416: 'turn', 3417: 'dates', 3418: 'smashed', 3419: 'bootydelious', 3420: 'ahhhh', 3421: 'manky', 3422: 'scouse', 3423: 'steve', 3424: 'travelling', 3425: 'inmind', 3426: 'recreation', 3427: 'shun', 3428: 'bian', 3429: 'glass', 3430: 'exhibition', 3431: 'xam', 3432: 'hall', 3433: 'hesitation', 3434: 'intha', 3435: 'ponnungale', 3436: 'ipaditan', 3437: 'ceiling', 3438: 'inspection', 3439: 'nursery', 3440: 'shoul', 3441: 'cutting', 3442: 'setting', 3443: 'greece', 3444: 'z', 3445: 'humans', 3446: 'chillin', 3447: 'appeal', 3448: 'thriller', 3449: 'director', 3450: 'mac', 3451: 'mb', 3452: 'lovin', 3453: 'cashed', 3454: 'announced', 3455: 'blog', 3456: 'entirely', 3457: \"prashanthettan's\", 3458: 'voicemail', 3459: 'jnumq', 3460: \"taylor's\", 3461: 'indeed', 3462: 'papa', 3463: 'gifts', 3464: 'cliff', 3465: 'rounds', 3466: 'converter', 3467: 'suffering', 3468: 'dysentry', 3469: 'payasam', 3470: 'rinu', 3471: 'warned', 3472: 'sprint', 3473: 'honestly', 3474: 'promptly', 3475: 'burnt', 3476: 'risks', 3477: 'inever', 3478: 'ne', 3479: 'wrking', 3480: 'colin', 3481: 'farrell', 3482: 'swat', 3483: 'mre', 3484: 'timi', 3485: 'sd', 3486: 'walls', 3487: 'bunkers', 3488: 'peaceful', 3489: 'fredericksburg', 3490: 'reserve', 3491: 'thirunelvali', 3492: 'tackle', 3493: 'signing', 3494: 'recd', 3495: 'hack', 3496: 'backdoor', 3497: 'fraction', 3498: 'neonum', 3499: 'subscribe', 3500: 'dps', 3501: 'bcm', 3502: 'jack', 3503: 'helpful', 3504: 'pretend', 3505: 'hypotheticalhuagauahahuagahyuhagga', 3506: \"hadn't\", 3507: 'clocks', 3508: 'realised', 3509: 'wahay', 3510: 'wee', 3511: 'rajini', 3512: 'headset', 3513: 'adp', 3514: 'rr', 3515: 'owns', 3516: 'afterwards', 3517: 'slices', 3518: 'shouting', 3519: 'investigate', 3520: 'dhanush', 3521: 'crickiting', 3522: 'hottest', 3523: 'erm', 3524: 'woodland', 3525: 'avenue', 3526: 'parish', 3527: 'magazine', 3528: 'telephone', 3529: 'mailed', 3530: 'varma', 3531: 'reserves', 3532: 'november', 3533: 'smsco', 3534: 'nummax', 3535: 'ga', 3536: 'someplace', 3537: 'listed', 3538: 'recorded', 3539: 'landmark', 3540: 'bob', 3541: 'barry', 3542: 'ben', 3543: 'sunnum', 3544: 'affairs', 3545: 'peace', 3546: 'blessed', 3547: 'durban', 3548: 'isaiah', 3549: 'practising', 3550: 'curtsey', 3551: 'adsense', 3552: 'approved', 3553: \"'xam\", 3554: 'numthing', 3555: 'answr', 3556: 'huiming', 3557: 'ortxt', 3558: 'obedient', 3559: 'rgent', 3560: 'armenia', 3561: 'swann', 3562: 'taste', 3563: 'fish', 3564: 'dull', 3565: 'classes', 3566: 'dodgey', 3567: 'scrumptious', 3568: 'korean', 3569: \"leona's\", 3570: 'firmware', 3571: 'recognise', 3572: 'wuld', 3573: 'draws', 3574: 'callfreefone', 3575: 'of£num', 3576: 'smartcall', 3577: 'subscriptnnumgbp', 3578: 'landlineonly', 3579: 'losers', 3580: 'literally', 3581: 'cumming', 3582: 'validnumhrs', 3583: 'thnx', 3584: 'dollar', 3585: 'apology', 3586: 'blame', 3587: 'gods', 3588: 'tool', 3589: 'manageable', 3590: 'fridge', 3591: 'gauti', 3592: 'sehwag', 3593: 'checkin', 3594: 'mising', 3595: 'grab', 3596: 'warwick', 3597: 'tmw', 3598: 'canceled', 3599: \"havn't\", 3600: 'stalking', 3601: 'applausestore', 3602: 'monthlysubscription', 3603: 'maxnum', 3604: 'csc', 3605: 'evaporated', 3606: 'stealing', 3607: \"employer's\", 3608: 'dolls', 3609: 'patrick', 3610: 'swayze', 3611: 'stink', 3612: 'apeshit', 3613: 'stuffed', 3614: 'writhing', 3615: \"rct'\", 3616: 'thnq', 3617: 'adrian', 3618: 'rgds', 3619: 'vatian', 3620: 'everyones', 3621: 'babysitting', 3622: 'natalie', 3623: 'natalienumknum', 3624: 'engagement', 3625: 'fixd', 3626: 'shocking', 3627: 'njan', 3628: 'vilikkam', 3629: 'sudn', 3630: 'cheque', 3631: 'cried', 3632: '£numaward', 3633: 'tke', 3634: 'motherfucker', 3635: 'swell', 3636: \"that'd\", 3637: 'scenario', 3638: 'improved', 3639: 'responce', 3640: 'tall', 3641: 'chiong', 3642: 'abroad', 3643: 'xxsp', 3644: 'stopcost', 3645: 'ooh', 3646: 'numgot', 3647: 'moseley', 3648: 'weds', 3649: 'goods', 3650: 'sometme', 3651: 'cheetos', 3652: 'goodo', 3653: 'ratio', 3654: 'okday', 3655: \"gumby's\", 3656: 'secretly', 3657: 'dateboxnumessexcmnumxn', 3658: 'numthfeb', 3659: 'returning', 3660: 'staff', 3661: 'kilos', 3662: 'lotr', 3663: 'pity', 3664: 'suggestions', 3665: 'numunum', 3666: 'lambu', 3667: 'ji', 3668: 'batchlor', 3669: 'daaaaa', 3670: 'dracula', 3671: 'ghost', 3672: 'addamsfa', 3673: 'munsters', 3674: 'exorcist', 3675: 'twilight', 3676: 'ahold', 3677: 'jos', 3678: 'pierre', 3679: 'cardin', 3680: 'turned', 3681: 'teacher', 3682: 'wheellock', 3683: 'thgt', 3684: \"fren's\", 3685: 'bids', 3686: 'invest', 3687: 'reliant', 3688: 'yeovil', 3689: 'motor', 3690: 'max', 3691: 'boxnumsknumwpnumppmnum', 3692: 'proze', 3693: 'norcorp', 3694: 'tix', 3695: 'sized', 3696: 'clarify', 3697: 'preponed', 3698: 'nus', 3699: 'sc', 3700: 'specialise', 3701: 'wad', 3702: 'memorable', 3703: 'breakfast', 3704: 'hamper', 3705: 'fired', 3706: 'acting', 3707: 'unspoken', 3708: 'burns', 3709: 'birth', 3710: 'gut', 3711: 'wrenching', 3712: 'borin', 3713: 'boggy', 3714: 'biatch', 3715: 'upgrdcentre', 3716: 'simpsons', 3717: 'band', 3718: 'langport', 3719: 'surrender', 3720: 'leg', 3721: 'musta', 3722: 'overdid', 3723: 'rpl', 3724: 'cnl', 3725: 'jog', 3726: 'robinson', 3727: \"alex's\", 3728: 'romcapspam', 3729: 'presence', 3730: 'outgoing', 3731: 'misscall', 3732: 'frndz', 3733: 'nummissed', 3734: 'tensed', 3735: 'enufcredeit', 3736: 'tocall', 3737: 'ileave', 3738: 'lip', 3739: 'caveboy', 3740: 'needa', 3741: 'mcat', 3742: 'numgoten', 3743: 'scammers', 3744: 'lo', 3745: 'loans', 3746: 'ay', 3747: 'jez', 3748: 'todo', 3749: 'workand', 3750: 'whilltake', 3751: 'puzzeles', 3752: 'weigh', 3753: 'heehee', 3754: 'kothi', 3755: 'marandratha', 3756: 'sary', 3757: 'tim', 3758: 'bollox', 3759: 'tol', 3760: 'belongs', 3761: 'fated', 3762: 'shoranur', 3763: 'incident', 3764: 'fuelled', 3765: 'concern', 3766: 'prior', 3767: 'grief', 3768: 'bcaz', 3769: 'trends', 3770: 'pros', 3771: 'cons', 3772: 'description', 3773: 'nuclear', 3774: 'fusion', 3775: 'iter', 3776: 'jet', 3777: 'bookshelf', 3778: 'possibility', 3779: 'ammae', 3780: 'steering', 3781: 'upping', 3782: 'grams', 3783: 'rats', 3784: 'themes', 3785: 'sip', 3786: 'cappuccino', 3787: 'depression', 3788: 'disappeared', 3789: 'goggles', 3790: 'beerage', 3791: 'dobby', 3792: 'numthmarch', 3793: 'availa', 3794: 'talents', 3795: 'hdd', 3796: 'casing', 3797: 'bitching', 3798: 'acted', 3799: \"derek's\", 3800: 'scarcasim', 3801: 'totes', 3802: 'pai', 3803: 'seh', 3804: 'lingo', 3805: 'vu', 3806: 'bcmnumwcnumnnumxx', 3807: 'badrith', 3808: 'urfeeling', 3809: 'bettersn', 3810: 'probthat', 3811: 'overdose', 3812: 'srs', 3813: 'engin', 3814: 'complementary', 3815: 'wanum', 3816: 'numpx', 3817: 'greetings', 3818: 'excused', 3819: 'packing', 3820: 'describe', 3821: 'numppmpoboxnumbhambnumxe', 3822: 'ahhh', 3823: 'vaguely', 3824: 'panther', 3825: 'sugababes', 3826: 'zebra', 3827: 'animation', 3828: 'badass', 3829: 'hoody', 3830: 'animal', 3831: 'reminding', 3832: 'bcmnum', 3833: 'wishlist', 3834: 'section', 3835: 'forums', 3836: 'nitro', 3837: 'stands', 3838: 'nitz', 3839: 'smoked', 3840: 'hm', 3841: 'headache', 3842: 'idc', 3843: 'weaseling', 3844: 'lnly', 3845: 'tamilnadu', 3846: 'ridden', 3847: 'mall', 3848: 'notified', 3849: 'marketing', 3850: 'stated', 3851: 'fixes', 3852: 'spelling', 3853: 'tunde', 3854: 'distance', 3855: 'exposed', 3856: 'christmassy', 3857: 'poorly', 3858: 'punishment', 3859: 'brb', 3860: 'kill', 3861: 'rushing', 3862: 'underdtand', 3863: 'stability', 3864: 'tranquility', 3865: 'vibrant', 3866: 'colourful', 3867: 'ashley', 3868: 'fifa', 3869: 'held', 3870: 'selflessness', 3871: 'dao', 3872: 'stuffs', 3873: \"it'snot\", 3874: \"child's\", 3875: 'unintentional', 3876: 'nonetheless', 3877: 'gailxx', 3878: 'professional', 3879: 'tiger', 3880: 'woods', 3881: 'rajitha', 3882: 'ranju', 3883: 'kanji', 3884: 'nowhere', 3885: 'ikno', 3886: 'doesdiscount', 3887: 'shitinnit', 3888: 'proper', 3889: 'tongued', 3890: 'ploughing', 3891: 'pile', 3892: 'ironing', 3893: 'chinky', 3894: 'supports', 3895: 'srt', 3896: 'psnum', 3897: 'usb', 3898: 'faglord', 3899: 'watched', 3900: 'watts', 3901: \"mine's\", 3902: 'jd', 3903: 'accounts', 3904: 'okors', 3905: 'mojibiola', 3906: 'motivating', 3907: \"finn's\", 3908: 'faded', 3909: 'glory', 3910: 'ralphs', 3911: 'loo', 3912: 'ed', 3913: 'nummorro', 3914: 'passion', 3915: 'dena', 3916: 'keyword', 3917: 'witin', 3918: 'dismay', 3919: 'passable', 3920: 'phd', 3921: 'spageddies', 3922: 'jumpers', 3923: 'hat', 3924: 'belt', 3925: 'cribbs', 3926: 'deltomorrow', 3927: 'bluray', 3928: 'excited', 3929: \"\\x93it's\", 3930: 'flowers', 3931: 'nudist', 3932: 'themed', 3933: 'gain', 3934: 'obey', 3935: 'tiring', 3936: 'modules', 3937: 'concentrating', 3938: 'beyond', 3939: 'biro', 3940: 'mina', 3941: 'psp', 3942: 'perf', 3943: \"station's\", 3944: 'mentionned', 3945: 'ciao', 3946: 'olol', 3947: 'printed', 3948: 'disastrous', 3949: 'fried', 3950: 'spares', 3951: 'looovvve', 3952: 'provided', 3953: 'tonesnumyou', 3954: 'aids', 3955: 'patent', 3956: 'smokin', 3957: 'fones', 3958: 'wild', 3959: 'stopnumstop', 3960: 'meatballs', 3961: 'nhs', 3962: 'numb', 3963: 'terminated', 3964: 'inconvenience', 3965: 'numwq', 3966: 'summers', 3967: 'matched', 3968: 'helpnum', 3969: 'individual', 3970: 'gong', 3971: 'kaypoh', 3972: 'squatting', 3973: 'nowadays', 3974: 'notixiquating', 3975: 'laxinorficated', 3976: 'bambling', 3977: 'entropication', 3978: 'oblisingately', 3979: 'opted', 3980: 'masteriastering', 3981: 'amplikater', 3982: 'fidalfication', 3983: 'champlaxigating', 3984: 'atrocious', 3985: 'wotz', 3986: 'junna', 3987: 'spoil', 3988: 'kane', 3989: 'shud', 3990: 'tagged', 3991: 'unconscious', 3992: 'adults', 3993: 'abnormally', 3994: 'related', 3995: 'trade', 3996: 'arul', 3997: 'sarasota', 3998: 'entrepreneurs', 3999: 'directors', 4000: 'lac', 4001: 'deposited', 4002: \"'taxless'\", 4003: 'suply', 4004: 'projects', 4005: 'imf', 4006: 'blocked', 4007: 'rights', 4008: 'corrupt', 4009: 'itna', 4010: 'karo', 4011: 'ki', 4012: 'pura', 4013: 'padhe', 4014: 'spatula', 4015: 'sickness', 4016: 'ibm', 4017: 'hp', 4018: 'toshiba', 4019: 'whereare', 4020: 'friendsare', 4021: 'thekingshead', 4022: 'canlove', 4023: 'nosh', 4024: 'deficient', 4025: 'outs', 4026: 'emotion', 4027: 'prayrs', 4028: 'othrwise', 4029: 'legitimat', 4030: 'efreefone', 4031: 'ebay', 4032: 'stu', 4033: 'truble', 4034: 'evone', 4035: 'hates', 4036: 'overtime', 4037: 'nigpun', 4038: 'parkin', 4039: 'photoshop', 4040: 'leading', 4041: 'pause', 4042: 'olowoyey', 4043: 'edu', 4044: 'argentina', 4045: 'zhong', 4046: 'qing', 4047: 'act', 4048: 'quiet', 4049: 'beth', 4050: 'charlie', 4051: 'spoons', 4052: 'premier', 4053: 'purchases', 4054: 'randy', 4055: 'bits', 4056: 'impressively', 4057: 'sensible', 4058: 'apart', 4059: \"'need'\", 4060: \"'comfort'\", 4061: \"'luxury'\", 4062: 'sold', 4063: 'wipro', 4064: 'lindsay', 4065: 'bars', 4066: 'heron', 4067: 'fowler', 4068: 'answerin', 4069: 'sundayish', 4070: 'chick', 4071: 'boobs', 4072: 'sentiment', 4073: 'rowdy', 4074: 'attitude', 4075: 'attractive', 4076: 'irritating', 4077: 'safely', 4078: 'pump', 4079: 'downstem', 4080: 'prestige', 4081: 'nan', 4082: 'bari', 4083: 'hudgi', 4084: 'yorge', 4085: 'pataistha', 4086: 'ertini', 4087: 'breather', 4088: 'granted', 4089: 'fulfil', 4090: 'xavier', 4091: 'gam', 4092: 'nigro', 4093: 'scratching', 4094: 'dependents', 4095: 'ambrith', 4096: 'madurai', 4097: 'dha', 4098: 'marrge', 4099: 'remembr', 4100: \"tantrum's\", 4101: 'jerry', 4102: 'irritates', 4103: 'fails', 4104: 'express', 4105: 'spaces', 4106: 'embassy', 4107: \"hi'\", 4108: 'chinatown', 4109: 'porridge', 4110: 'claypot', 4111: 'yam', 4112: 'fishhead', 4113: 'beehoon', 4114: 'tok', 4115: 'errors', 4116: 'correction', 4117: 'crucial', 4118: \"someone's\", 4119: 'noncomittal', 4120: 'motivate', 4121: 'darkness', 4122: 'shining', 4123: 'clover', 4124: 'dub', 4125: 'je', 4126: \"'maangalyam\", 4127: 'alaipayuthe', 4128: 'sells', 4129: 'opps', 4130: 'confused', 4131: \"tt's\", 4132: 'ayo', 4133: 'travelled', 4134: 'forgotten', 4135: 'crammed', 4136: 'hui', 4137: 'xin', 4138: 'expect', 4139: 'nauseous', 4140: 'dieting', 4141: 'ninish', 4142: 'icky', 4143: 'freek', 4144: 'tight', 4145: 'chief', 4146: 'bell', 4147: 'june', 4148: 'linear', 4149: 'algebra', 4150: 'pouch', 4151: 'recognises', 4152: 'craving', 4153: 'watever', 4154: 'relation', 4155: 'built', 4156: 'lonlines', 4157: 'lotz', 4158: 'memories', 4159: 'mostly', 4160: 'sports', 4161: 'footbl', 4162: 'crckt', 4163: 'north', 4164: 'carolina', 4165: 'texas', 4166: 'gre', 4167: 'lyrics', 4168: 'eldest', 4169: 'xafter', 4170: 'cst', 4171: 'chg', 4172: 'path', 4173: 'appear', 4174: 'paths', 4175: 'starving', 4176: 'slaaaaave', 4177: 'summon', 4178: 'playng', 4179: 'reverse', 4180: 'cheating', 4181: 'mathematics', 4182: 'withdraw', 4183: 'anyhow', 4184: 'ericson', 4185: 'der', 4186: 'luks', 4187: 'modl', 4188: 'african', 4189: 'soil', 4190: 'topped', 4191: 'bubbletext', 4192: 'tgxxrz', 4193: 'shoes', 4194: \"ashley's\", 4195: 'chechi', 4196: 'we‘re', 4197: 'approve', 4198: 'panalam', 4199: 'brah', 4200: 'owned', 4201: 'possessive', 4202: 'western', 4203: 'nasty', 4204: 'filthyguys', 4205: 'nummsgs', 4206: 'gauge', 4207: \"patty's\", 4208: 'interest', 4209: 'promotion', 4210: 'jontin', 4211: 'smiled', 4212: 'apples', 4213: 'pairs', 4214: 'malarky', 4215: 'hundreds', 4216: 'handsomes', 4217: 'beauties', 4218: 'aunties', 4219: 'salesman', 4220: 'mary', 4221: 'jane', 4222: 'guessin', 4223: 'praveesh', 4224: 'delicious', 4225: 'hlday', 4226: 'camp', 4227: 'amrca', 4228: 'serena', 4229: 'limit', 4230: 'boundaries', 4231: 'endless', 4232: 'payments', 4233: 'fedex', 4234: 'coccooning', 4235: 'nosy', 4236: 'reacting', 4237: 'freaked', 4238: 'ceri', 4239: 'rebel', 4240: 'dreamz', 4241: 'buddy', 4242: 'blokes', 4243: 'congratulation', 4244: 'learned', 4245: 'fake', 4246: 'reache', 4247: 'derp', 4248: 'abusers', 4249: 'rocking', 4250: 'ashes', 4251: 'clarification', 4252: 'death', 4253: 'robs', 4254: 'avenge', 4255: 'matthew', 4256: 'lux', 4257: 'ppmnum', 4258: 'gprs', 4259: 'mumhas', 4260: 'beendropping', 4261: 'theplace', 4262: 'adress', 4263: 'hairdressers', 4264: 'beforehand', 4265: 'exp', 4266: 'numapr', 4267: 'cupboard', 4268: 'court', 4269: 'lubly', 4270: 'refund', 4271: 'epi', 4272: 'hesitate', 4273: 'weakness', 4274: 'notebook', 4275: 'matric', 4276: 'srsly', 4277: 'yi', 4278: 'ubandu', 4279: 'installing', 4280: 'disk', 4281: 'suzy', 4282: 'ffffffffff', 4283: 'adjustable', 4284: 'cooperative', 4285: 'allows', 4286: 'swimsuit', 4287: 'allowed', 4288: 'alternative', 4289: \"term's\", 4290: 'giggle', 4291: 'possibly', 4292: 'personnumdie', 4293: 'nvq', 4294: 'qet', 4295: 'easily', 4296: 'dom', 4297: 'broken', 4298: 'unnecessarily', 4299: 'affectionate', 4300: 'wlcome', 4301: 'lion', 4302: 'ambitious', 4303: 'spirit', 4304: 'raiden', 4305: 'copied', 4306: 'baig', 4307: 'watches', 4308: 'silver', 4309: 'elaine', 4310: 'sittin', 4311: 'drops', 4312: 'scary', 4313: 'tkls', 4314: 'stoptxtstop£num', 4315: 'fnumq', 4316: 'lifetime', 4317: 'ingredients', 4318: \"biola's\", 4319: 'fne', 4320: 'stitch', 4321: 'trouser', 4322: '£nummillion', 4323: 'pptnumxnum', 4324: 'wnumtnumjy', 4325: 'haircut', 4326: 'breezy', 4327: 'winnumppmxnumagenum', 4328: \"aunty's\", 4329: 'byatch', 4330: 'whassup', 4331: 'sliding', 4332: 'quiteamuzing', 4333: 'that\\x92scool', 4334: 'probpop', 4335: 'cu', 4336: 'satthen', 4337: 'numbrekkie', 4338: 'psxtra', 4339: 'lrg', 4340: 'portions', 4341: 'rayan', 4342: 'macleran', 4343: 'hellogorgeous', 4344: 'lst', 4345: 'nitw', 4346: 'texd', 4347: 'hopeu', 4348: 'numward', 4349: 'jaz', 4350: 'whatsup', 4351: 'headstart', 4352: 'rummer', 4353: 'backwards', 4354: 'uncomfortable', 4355: 'tirunelvai', 4356: 'complain', 4357: 'bettr', 4358: 'bsnl', 4359: 'offc', 4360: 'nd', 4361: 'mmmm', 4362: 'weaknesses', 4363: \"knee's\", 4364: 'exposes', 4365: 'pulls', 4366: 'wicked', 4367: 'bx', 4368: 'lakhs', 4369: 'gram', 4370: 'permission', 4371: 'occasion', 4372: 'celebrated', 4373: 'reflection', 4374: 'values', 4375: 'desires', 4376: 'affections', 4377: 'traditions', 4378: 'buzzzz', 4379: 'chest', 4380: 'cock', 4381: 'vibrator', 4382: 'shake', 4383: 'varaya', 4384: 'elaya', 4385: 'arnt', 4386: 'xxxxxxxxxxxxxx', 4387: 'balloon', 4388: 'numchannel', 4389: 'leadership', 4390: 'skills', 4391: 'psychic', 4392: 'aust', 4393: 'kit', 4394: 'strip', 4395: 'ignum', 4396: 'oja', 4397: 'thasa', 4398: 'messed', 4399: 'shudvetold', 4400: 'urgran', 4401: 'illspeak', 4402: 'unummoro', 4403: 'studyn', 4404: \"fr'ndship\", 4405: 'needle', 4406: 'evn', 4407: 'numfew', 4408: 'seconds', 4409: 'conected', 4410: 'invention', 4411: 'accessible', 4412: 'lanum', 4413: 'attraction', 4414: 'sorrows', 4415: 'fight', 4416: 'proove', 4417: 'planet', 4418: 'praises', 4419: 'makiing', 4420: 'sambar', 4421: 'loneliness', 4422: 'pouts', 4423: 'stomps', 4424: 'hypertension', 4425: 'passes', 4426: 'taxi', 4427: 'ing', 4428: 'ptnum', 4429: 'realized', 4430: 'grateful', 4431: 'happier', 4432: 'posting', 4433: 'accordin', 4434: 'discussed', 4435: 'kay', 4436: 'phasing', 4437: 'fourth', 4438: 'dimension', 4439: 'bristol', 4440: 'les', 4441: 'rudi', 4442: 'snoring', 4443: 'sends', 4444: 'ink', 4445: 'cook', 4446: 'electricity', 4447: 'pookie', 4448: 'hopeso', 4449: 'amnow', 4450: 'ithink', 4451: 'tonsolitusaswell', 4452: 'layin', 4453: 'bedreal', 4454: 'lotsof', 4455: 'commercial', 4456: 'hiding', 4457: 'smsservices', 4458: 'yourinclusive', 4459: 'forwarding', 4460: 'downs', 4461: 'fletcher', 4462: 'suffers', 4463: 'companies', 4464: 'responsible', 4465: 'suppliers', 4466: 'guarantee', 4467: 'arr', 4468: 'oscar', 4469: 'seing', 4470: 'asssssholeeee', 4471: 'alaikkum', 4472: 'nachos', 4473: 'attracts', 4474: 'wtc', 4475: 'weiyi', 4476: 'typical', 4477: 'shb', 4478: 'rimac', 4479: 'cardiff', 4480: 'radiator', 4481: 'specify', 4482: 'domain', 4483: 'nusstu', 4484: 'fundamentals', 4485: 'whoever', 4486: 'semiobscure', 4487: 'mus', 4488: 'reassuring', 4489: 'irritation', 4490: 'loses', 4491: 'lifebook', 4492: 'nottingham', 4493: 'nummph', 4494: 'dileep', 4495: 'muchand', 4496: 'venugopal', 4497: 'mentioned', 4498: 'lay', 4499: 'bimbo', 4500: \"ugo's\", 4501: 'goal', 4502: 'crash', 4503: 'vomitin', 4504: 'audrie', 4505: 'autocorrect', 4506: 'companion', 4507: 'chef', 4508: 'listener', 4509: 'organizer', 4510: 'sympathetic', 4511: 'athletic', 4512: 'courageous', 4513: 'determined', 4514: 'dependable', 4515: 'psychologist', 4516: 'pest', 4517: 'exterminator', 4518: 'psychiatrist', 4519: 'healer', 4520: 'stylist', 4521: 'aaniye', 4522: 'pudunga', 4523: 'venaam', 4524: 'swoop', 4525: 'disc', 4526: 'ovulate', 4527: 'fret', 4528: 'filling', 4529: 'stil', 4530: 'tobed', 4531: 'such', 4532: 'oooooh', 4533: 'lock', 4534: 'locks', 4535: 'jenne', 4536: 'mystery', 4537: 'opened', 4538: 'cloth', 4539: 'coulda', 4540: 'subtoitles', 4541: 'necesity', 4542: 'witout', 4543: \"hw'd\", 4544: 'colleg', 4545: \"wat'll\", 4546: 'wth', 4547: 'functions', 4548: 'events', 4549: \"espe'll\", 4550: 'irritated', 4551: 'numwrd', 4552: 'wthout', 4553: 'takecare', 4554: 'numnights', 4555: 'uve', 4556: 'wildest', 4557: 'honeymoon', 4558: 'outfit', 4559: 'dough', 4560: 'tbs', 4561: 'persolvo', 4562: 'for£num', 4563: 'kath', 4564: 'manchester', 4565: 'punish', 4566: 'lodging', 4567: 'hen', 4568: \"shade's\", 4569: 'blogging', 4570: 'magicalsongs', 4571: 'blogspot', 4572: 'exorcism', 4573: 'emily', 4574: 'hugs', 4575: 'snogs', 4576: 'voted', 4577: 'parties', 4578: 'numeva', 4579: 'taught', 4580: 'becaus', 4581: 'hes', 4582: 'verifying', 4583: 'prabu', 4584: 'thesis', 4585: '£numcall', 4586: 'callcostnumppmmobilesvary', 4587: 'nigh', 4588: 'paragon', 4589: 'msgrcvd', 4590: 'customercare', 4591: '“harry', 4592: 'potter', 4593: 'phoenix', 4594: 'harry', 4595: 'among', 4596: 'readers', 4597: 'triple', 4598: 'echo', 4599: 'oyster', 4600: 'sashimi', 4601: 'rumbling', 4602: 'september', 4603: 'swashbuckling', 4604: 'guessed', 4605: 'finalise', 4606: 'restock', 4607: 'woo', 4608: 'hoo', 4609: 'fit', 4610: 'lark', 4611: 'kills', 4612: 'tarpon', 4613: 'springs', 4614: 'remembrs', 4615: 'everytime', 4616: 'hero', 4617: 'apt', 4618: 'fo', 4619: 'senor', 4620: 'missions', 4621: 'replacing', 4622: 'hourish', 4623: 'stage', 4624: \"unicef's\", 4625: 'asian', 4626: 'tsunami', 4627: 'disaster', 4628: 'fund', 4629: 'getnumannumth', 4630: 'brolly', 4631: 'franxx', 4632: 'olympics', 4633: 'gopalettan', 4634: 'participate', 4635: 'route', 4636: 'que', 4637: 'pases', 4638: 'buen', 4639: 'tiempo', 4640: \"tyler's\", 4641: \"ta's\", 4642: 'rip', 4643: 'uterus', 4644: 'pandy', 4645: 'numw', 4646: 'technologies', 4647: 'hype', 4648: 'studio', 4649: 'bedrm', 4650: 'signin', 4651: 'calm', 4652: 'downon', 4653: 'theacusations', 4654: 'itxt', 4655: 'iwana', 4656: 'wotu', 4657: 'thew', 4658: 'haventcn', 4659: 'nething', 4660: 'tarot', 4661: 'earliest', 4662: 'aunt', 4663: 'nike', 4664: 'flurries', 4665: 'normally', 4666: 'gua', 4667: 'faber', 4668: 'payednumday', 4669: 'havbeen', 4670: 'rise', 4671: 'nummy', 4672: 'havebeen', 4673: 'preschoolco', 4674: 'ordinator', 4675: 'feelingood', 4676: 'shhhhh', 4677: 'restrictions', 4678: 'buddys', 4679: 'bani', 4680: \"ü'll\", 4681: 'apologetic', 4682: 'fallen', 4683: 'actin', 4684: 'spoilt', 4685: 'caught', 4686: 'badly', 4687: 'approx', 4688: 'arrow', 4689: 'panasonic', 4690: 'bluetoothhdset', 4691: 'doublemins', 4692: 'doubletxt', 4693: 'poking', 4694: 'everyday', 4695: 'maintaining', 4696: 'thus', 4697: 'restrict', 4698: 'fuuuuck', 4699: 'burger', 4700: 'repeat', 4701: 'mention', 4702: 'served', 4703: \"basket's\", 4704: 'hvae', 4705: 'computational', 4706: 'minded', 4707: 'minapn', 4708: 'lsnumbb', 4709: 'luckily', 4710: 'starring', 4711: 'feathery', 4712: 'bowa', 4713: 'hpnum', 4714: 'numyf', 4715: 'tacos', 4716: 'peach', 4717: 'tasts', 4718: 'peoples', 4719: 'cl', 4720: 'orh', 4721: 'hunt', 4722: 'waliking', 4723: \"weather's\", 4724: 'numnnumqp', 4725: 'stopbcm', 4726: 'sf', 4727: 'revision', 4728: 'boyf', 4729: 'interviw', 4730: 'exeter', 4731: 'justbeen', 4732: 'overa', 4733: 'brains', 4734: 'mush', 4735: 'dessert', 4736: 'detail', 4737: 'acc', 4738: 'shortcode', 4739: 'refunded', 4740: 'shanil', 4741: 'exchanged', 4742: 'uncut', 4743: 'diamond', 4744: 'dino', 4745: 'lancaster', 4746: 'couldn\\x92t', 4747: 'b\\x92day', 4748: 'stuffing', 4749: 'hittng', 4750: 'reflex', 4751: 'chachi', 4752: 'pl', 4753: 'tiz', 4754: 'kanagu', 4755: 'attending', 4756: 'pants', 4757: 'virgin', 4758: 'sumfing', 4759: 'parts', 4760: 'adventure', 4761: 'educational', 4762: 'woul', 4763: 'curfew', 4764: 'gibe', 4765: 'getsleep', 4766: 'studdying', 4767: 'numwaxsto', 4768: 'stereo', 4769: 'mi', 4770: 'unknown', 4771: 'mc', 4772: 'calicut', 4773: 'rpnum', 4774: 'regalportfolio', 4775: 'infact', 4776: 'gaze', 4777: 'nri', 4778: \"yetty's\", 4779: 'disagreeable', 4780: 'wrkin', 4781: 'someonone', 4782: 'numtimes', 4783: 'werethe', 4784: 'monkeespeople', 4785: 'monkeyaround', 4786: 'howdy', 4787: 'howu', 4788: 'foundurself', 4789: 'jobyet', 4790: 'sausage', 4791: 'dept', 4792: 'ryan', 4793: 'resizing', 4794: 'mental', 4795: 'mobstorequiznumppm', 4796: 'glorious', 4797: 'finds', 4798: 'coaxing', 4799: 'images', 4800: 'fond', 4801: 'souveniers', 4802: 'cougar', 4803: 'breaking', 4804: 'cstore', 4805: 'gail', 4806: 'yaxxx', 4807: 'textbook', 4808: 'algorithms', 4809: 'edition', 4810: \"something's\", 4811: 'invitation', 4812: 'cali', 4813: \"bloke's\", 4814: 'weddin', 4815: 'responsibilities', 4816: 'eastenders', 4817: 'compare', 4818: 'herself', 4819: 'violet', 4820: 'tulip', 4821: 'lily', 4822: 'wkent', 4823: 'numpnum', 4824: 'command', 4825: 'toppoly', 4826: 'tune', 4827: 'pole', 4828: 'coincidence', 4829: 'greatness', 4830: 'hu', 4831: 'navigate', 4832: 'choosing', 4833: 'require', 4834: 'guidance', 4835: 'becz', 4836: 'undrstndng', 4837: 'avoids', 4838: 'suffer', 4839: 'wannum', 4840: 'westlife', 4841: 'unbreakable', 4842: 'untamed', 4843: 'unkempt', 4844: 'windy', 4845: 'stoners', 4846: 'ree', 4847: 'showers', 4848: 'possessiveness', 4849: 'poured', 4850: 'golden', 4851: 'jacuzzi', 4852: 'handed', 4853: 'mega', 4854: 'asda', 4855: 'counts', 4856: 'subscribers', 4857: 'olave', 4858: 'mandara', 4859: 'trishul', 4860: 'enc', 4861: 'elama', 4862: 'mudyadhu', 4863: 'sall', 4864: 'hehe', 4865: 'shexy', 4866: 'lyricalladie', 4867: 'hmmross', 4868: 'tooth', 4869: 'ornumoptout', 4870: 'hvnumd', 4871: 'problematic', 4872: 'wahleykkum', 4873: 'visitor', 4874: 'gate', 4875: 'charles', 4876: 'hor', 4877: 'powerful', 4878: 'weapon', 4879: \"'heart'\", 4880: 'hcl', 4881: 'requires', 4882: 'freshers', 4883: 'suman', 4884: 'telephonic', 4885: 'indyarocks', 4886: 'hos', 4887: 'brother‘s', 4888: 'scraped', 4889: 'barrel', 4890: 'misfits', 4891: 'offense', 4892: 'yalru', 4893: 'astne', 4894: 'innu', 4895: 'mundhe', 4896: 'halla', 4897: 'bilo', 4898: 'program', 4899: 'edhae', 4900: 'ovr', 4901: 'vargu', 4902: 'salmon', 4903: 'dang', 4904: 'correctly', 4905: 'hillsborough', 4906: 'tram', 4907: 'vic', 4908: 'bangbabes', 4909: 'bangb', 4910: 'form', 4911: 'clark', 4912: 'utter', 4913: 'piece', 4914: \"priscilla's\", 4915: 'ouch', 4916: 'stayed', 4917: \"it'll\", 4918: 'stamped', 4919: 'bray', 4920: 'wicklow', 4921: 'eire', 4922: 'cheesy', 4923: 'frosty', 4924: 'snowman', 4925: 'mei', 4926: 'haven', 4927: 'bao', 4928: 'sugardad', 4929: 'yupz', 4930: 'barred', 4931: 'stores', 4932: 'twat', 4933: 'dungerees', 4934: 'decking', 4935: 'punch', 4936: 'girlie', 4937: 'brison', 4938: 'bunch', 4939: 'lotto', 4940: 'breathing', 4941: 'foward', 4942: 'configure', 4943: 'bcum', 4944: 'mys', 4945: 'grandfather', 4946: 'lul', 4947: 'nurses', 4948: 'shes', 4949: 'obese', 4950: 'oyea', 4951: 'meanwhile', 4952: 'twins', 4953: \"how're\", 4954: 'throwing', 4955: 'deciding', 4956: 'explicit', 4957: 'secs', 4958: 'gsex', 4959: 'wcnumn', 4960: 'numxx', 4961: 'presnts', 4962: 'bcz', 4963: 'jeevithathile', 4964: 'irulinae', 4965: 'neekunna', 4966: 'prakasamanu', 4967: 'sneham', 4968: 'prakasam', 4969: 'ennal', 4970: \"'that\", 4971: 'mns', 4972: \"is'love'\", 4973: 'grumpy', 4974: 'lying', 4975: 'varunnathu', 4976: 'edukkukayee', 4977: 'raksha', 4978: 'ollu', 4979: 'vco', 4980: 'clas', 4981: 'farting', 4982: 'chit', 4983: 'logon', 4984: 'wnuma', 4985: 'numzf', 4986: 'erotic', 4987: 'ecstacy', 4988: 'cherthala', 4989: 'bfore', 4990: 'tmorow', 4991: 'engaged', 4992: 'multis', 4993: 'cashto', 4994: 'getstop', 4995: 'php', 4996: 'channel', 4997: 'size', 4998: 'elephant', 4999: 'shove', 5000: 'um', 5001: 'mentor', 5002: 'percent', 5003: 'removal', 5004: 'starve', 5005: 'jia', 5006: 'showered', 5007: \"er'ything\", 5008: 'lipo', 5009: \"anything's\", 5010: 'planettalkinstant', 5011: 'banneduk', 5012: 'bathroom', 5013: 'spacebucks', 5014: 'snickering', 5015: 'chords', 5016: 'ours', 5017: 'europe', 5018: 'ignorant', 5019: 'efficient', 5020: 'jap', 5021: 'zoom', 5022: 'garments', 5023: \"partner's\", 5024: 'method', 5025: 'topic', 5026: 'stairs', 5027: 'phews', 5028: 'creep', 5029: 'lapdancer', 5030: 'gnum', 5031: 'numda', 5032: 'numppmsg', 5033: 'laready', 5034: 'hire', 5035: 'hitman', 5036: \"when're\", 5037: 'mcr', 5038: 'you\\x92re', 5039: 'shitstorm', 5040: 'attributed', 5041: 'props', 5042: 'axis', 5043: 'yunny', 5044: 'massages', 5045: 'categories', 5046: 'ethnicity', 5047: 'census', 5048: 'transcribing', 5049: 'habba', 5050: 'chgs', 5051: 'rcv', 5052: 'ore', 5053: 'owo', 5054: 'fro', 5055: 'stagwood', 5056: 'winterstone', 5057: 'victors', 5058: 'dawns', 5059: 'refreshed', 5060: 'audiitions', 5061: 'relocate', 5062: 'champ', 5063: 'glasgow', 5064: 'wright', 5065: 'rnum', 5066: 'visa', 5067: 'gucci', 5068: 'horniest', 5069: 'lag', 5070: 'saibaba', 5071: 'colany', 5072: 'whore', 5073: 'txtstar', 5074: \"harish's\", 5075: 'transfred', 5076: 'acnt', 5077: 'surname', 5078: 'clue', 5079: 'spanish', 5080: 'begins', 5081: 'base', 5082: 'famous', 5083: 'develop', 5084: \"'anything'\", 5085: 'unconditionally', 5086: 'temper', 5087: \"'married'\", 5088: 'lit', 5089: 'fire', 5090: 'tnc', 5091: 'comnumwinnumppmxnumagenumsubscription', 5092: 'drunkard', 5093: 'cnum', 5094: 'numxxx', 5095: 'soooo', 5096: 'provider', 5097: 'tming', 5098: 'banned', 5099: 'dialogue', 5100: 'reltnship', 5101: 'wipe', 5102: 'tears', 5103: 'alter', 5104: 'taylor', 5105: 'assumed', 5106: \"ron's\", 5107: 'intrude', 5108: 'randomlly', 5109: 'finishd', 5110: 'purple', 5111: 'yelow', 5112: 'brown', 5113: 'color', 5114: 'saeed', 5115: 'recharged', 5116: 'arrived', 5117: 'amigos', 5118: 'burn', 5119: 'prescribed', 5120: 'unni', 5121: 'alot', 5122: 'ors', 5123: 'stool', 5124: 'postponed', 5125: 'stocked', 5126: 'shola', 5127: 'sagamu', 5128: 'lautech', 5129: 'vital', 5130: 'completes', 5131: 'education', 5132: 'zealand', 5133: 'paypal', 5134: 'voila', 5135: 'pockets', 5136: 'fetching', 5137: 'astrology', 5138: 'clubnummobiles', 5139: 'clubnum', 5140: 'numwt', 5141: 'helens', 5142: 'princes', 5143: \"shit's\", 5144: 'detailed', 5145: 'squishy', 5146: 'mwahs', 5147: 'pathaya', 5148: 'enketa', 5149: 'maraikara', 5150: \"pa'\", 5151: 'mnumbp', 5152: 'numyr', 5153: 'warranty', 5154: 'p£num', 5155: 'jam', 5156: 'hannaford', 5157: 'wheat', 5158: 'chex', 5159: 'faggot', 5160: 'numqfnum', 5161: 'ripped', 5162: 'clubmoby', 5163: 'vitamin', 5164: 'floppy', 5165: 'snappy', 5166: 'onwords', 5167: 'mtnl', 5168: 'mumbai', 5169: 'tscsnum', 5170: 'numwinawk', 5171: 'numperweeksub', 5172: 'drizzling', 5173: 'abeg', 5174: 'sponsors', 5175: 'arrested', 5176: 'ams', 5177: 'lightly', 5178: 'custom', 5179: 'checkboxes', 5180: 'lanre', 5181: \"fakeye's\", 5182: 'eckankar', 5183: 'casualty', 5184: 'stuffnummoro', 5185: 'includes', 5186: 'convince', 5187: 'witot', 5188: 'nummega', 5189: 'pixels', 5190: 'numoptical', 5191: 'numdigital', 5192: 'dooms', 5193: 'wating', 5194: 'holby', 5195: 'apo', 5196: 'spun', 5197: 'wrld', 5198: 'nytho', 5199: 'tx', 5200: 'fonin', 5201: 'nummwen', 5202: 'frmcloud', 5203: 'erutupalam', 5204: 'thandiyachu', 5205: 'luton', 5206: 'unique', 5207: 'areyouunique', 5208: 'esaplanade', 5209: 'repent', 5210: 'cozy', 5211: 'sth', 5212: 'specs', 5213: 'pxnum', 5214: 'lfnum', 5215: 'teenager', 5216: 'status', 5217: 'frequently', 5218: 'ynum', 5219: 'heroes', 5220: 'tips', 5221: 'resent', 5222: 'queries', 5223: 'customersqueries', 5224: 'netvision', 5225: 'bike', 5226: 'horse', 5227: 'doesn\\x92t', 5228: \"valentine's\", 5229: 'rtf', 5230: 'sphosting', 5231: 'hava', 5232: \"mummy's\", 5233: 'positive', 5234: 'negative', 5235: 'hmmmm', 5236: 'lobby', 5237: 'grownup', 5238: \"l'm\", 5239: 'goodnoon', 5240: 'vill', 5241: 'parco', 5242: 'nb', 5243: 'orc', 5244: 'allday', 5245: 'jjc', 5246: 'tendencies', 5247: 'shoot', 5248: 'prompts', 5249: 'lucyxx', 5250: 'pdate', 5251: 'yhl', 5252: 'canteen', 5253: 'tms', 5254: 'widelive', 5255: 'index', 5256: 'wml', 5257: 'numbnumanumecefnumffnum', 5258: 'truenum', 5259: 'jul', 5260: 'sexychat', 5261: 'changing', 5262: 'diapers', 5263: 'owed', 5264: 'bowls', 5265: \"nobody's\", 5266: 'faggy', 5267: '\\x96', 5268: 'beverage', 5269: 'pist', 5270: 'slice', 5271: 'breadstick', 5272: 'salon', 5273: 'wifi', 5274: 'blanked', 5275: 'i‘ve', 5276: 'salt', 5277: 'wounds', 5278: 'shaking', 5279: 'barring', 5280: 'sudden', 5281: 'influx', 5282: 'maths', 5283: 'chapter', 5284: 'noisy', 5285: 'length', 5286: 'dose', 5287: 'tablet', 5288: 'grumble', 5289: 'meaningful', 5290: 'mornin', 5291: 'mw', 5292: 'tuth', 5293: 'mallika', 5294: 'sherawat', 5295: 'cronum', 5296: 'fink', 5297: 'promised', 5298: 'carlie', 5299: 'minmobsmore', 5300: 'lkpoboxnumhpnumfl', 5301: 'machines', 5302: 'iron', 5303: 'karnan', 5304: 'yummmm', 5305: 'hiphop', 5306: 'muhommad', 5307: 'penny', 5308: 'yelling', 5309: 'scrappy', 5310: 'slide', 5311: 'youphone', 5312: 'athome', 5313: 'youwanna', 5314: 'cosign', 5315: 'twinks', 5316: 'bears', 5317: 'scallies', 5318: 'skins', 5319: 'jocks', 5320: \"weekend's\", 5321: 'okies', 5322: 'uploaded', 5323: 'tats', 5324: 'numpound', 5325: 'hppnss', 5326: 'sorrow', 5327: 'goodfriend', 5328: 'goigng', 5329: 'perfume', 5330: 'begun', 5331: 'registration', 5332: 'permanent', 5333: 'residency', 5334: 'defer', 5335: 'admission', 5336: 'harder', 5337: 'nbme', 5338: 'sparkling', 5339: 'breaks', 5340: 'shortbreaks', 5341: 'org', 5342: 'timin', 5343: \"riley's\", 5344: 'pansy', 5345: 'jungle', 5346: 'pooja', 5347: 'sweatter', 5348: 'steamboat', 5349: 'wesleys', 5350: 'woah', 5351: 'realising', 5352: \"s'fine\", 5353: 'dammit', 5354: 'steak', 5355: 'howda', 5356: 'mathe', 5357: 'en', 5358: 'samachara', 5359: 'significant', 5360: 'gist', 5361: 'consistently', 5362: 'practicum', 5363: 'links', 5364: 'ears', 5365: 'prayers', 5366: 'drama', 5367: 'struggling', 5368: 'ego', 5369: \"'if\", 5370: \"invited'\", 5371: 'necessity', 5372: 'reppurcussions', 5373: 'sacked', 5374: 'emailed', 5375: 'yifeng', 5376: 'devouring', 5377: 'toledo', 5378: 'weirdo', 5379: 'units', 5380: 'practicing', 5381: 'accent', 5382: 'dental', 5383: 'nmde', 5384: 'harri', 5385: 'chrgd', 5386: 'numexit', 5387: 'rearrange', 5388: 'dormitory', 5389: 'astronomer', 5390: 'starer', 5391: 'election', 5392: 'recount', 5393: 'hitler', 5394: 'eleven', 5395: 'rayman', 5396: 'golf', 5397: 'activnum', 5398: 'termsapply', 5399: 'coimbatore', 5400: 'waaaat', 5401: 'lololo', 5402: 'prominent', 5403: 'cheek', 5404: 'establish', 5405: 'dock', 5406: 'rolled', 5407: 'newscaster', 5408: 'dabbles', 5409: 'flute', 5410: 'wheel', 5411: 'corect', 5412: 'speling', 5413: 'math', 5414: 'convincing', 5415: 'neglect', 5416: 'genus', 5417: 'innocent', 5418: 'terror', 5419: 'cruel', 5420: 'decent', 5421: 'joker', 5422: 'importantly', 5423: 'table', 5424: 'lambda', 5425: 'stressed', 5426: 'hitter', 5427: 'sorta', 5428: 'blown', 5429: 'sos', 5430: 'healthy', 5431: 'wining', 5432: 'hont', 5433: 'satsgettin', 5434: 'numper', 5435: 'peak', 5436: 'nannys', 5437: 'makin', 5438: 'weirdy', 5439: 'brownies', 5440: 'asthma', 5441: 'attack', 5442: 'grr', 5443: 'pharmacy', 5444: 'crashing', 5445: 'buz', 5446: 'wedlunch', 5447: 'outsomewhere', 5448: 'adrink', 5449: 'numwatershd', 5450: 'fromwrk', 5451: 'bthere', 5452: 'petexxx', 5453: 'reunion', 5454: 'internal', 5455: 'extract', 5456: 'brainless', 5457: 'doll', 5458: 'vehicle', 5459: 'sariyag', 5460: 'madoke', 5461: 'barolla', 5462: 'hubby', 5463: 'fiting', 5464: 'load', 5465: 'mj', 5466: 'hearing', 5467: 'janx', 5468: 'dads', 5469: 'anum', 5470: 'divert', 5471: 'wadebridge', 5472: 'univ', 5473: 'flyng', 5474: 'aries', 5475: 'sleeps', 5476: 'prometazine', 5477: 'syrup', 5478: 'nummls', 5479: 'feed', 5480: 'chk', 5481: 'dict', 5482: 'freaking', 5483: 'myspace', 5484: 'logged', 5485: 'naal', 5486: 'eruku', 5487: 'burden', 5488: 'uniform', 5489: 'digi', 5490: 'coupla', 5491: 'wks', 5492: 'younger', 5493: 'babies', 5494: 'sane', 5495: 'helping', 5496: 'avo', 5497: 'splash', 5498: 'plumbers', 5499: 'wrench', 5500: 'dirt', 5501: 'flowing', 5502: 'chores', 5503: 'exist', 5504: 'hail', 5505: 'mist', 5506: 'tddnewsletter', 5507: 'emcnum', 5508: 'thedailydraw', 5509: 'dozens', 5510: 'prizeswith', 5511: 'image', 5512: 'hugging', 5513: 'gang', 5514: 'cudnt', 5515: 'ctla', 5516: 'ente', 5517: 'ishtamayoo', 5518: 'bakrid', 5519: 'non', 5520: 'judgemental', 5521: 'fridays', 5522: 'bhaskar', 5523: 'gotto', 5524: 'numcmnum', 5525: 'tightly', 5526: 'hrishi', 5527: 'brighten', 5528: 'agents', 5529: 'experiment', 5530: 'bsn', 5531: 'advising', 5532: 'rows', 5533: 'logoff', 5534: 'borderline', 5535: 'creative', 5536: 'philosophical', 5537: 'hole', 5538: 'ipad', 5539: 'smash', 5540: 'religiously', 5541: 'konw', 5542: 'waht', 5543: 'rael', 5544: 'gving', 5545: 'exmpel', 5546: 'jsut', 5547: 'evrey', 5548: 'splleing', 5549: 'wrnog', 5550: 'sitll', 5551: 'raed', 5552: 'wihtuot', 5553: 'ayn', 5554: 'mitsake', 5555: 'mandan', 5556: 'mmmmmmm', 5557: 'snuggles', 5558: 'contented', 5559: 'whispers', 5560: 'slower', 5561: 'maniac', 5562: 'skyving', 5563: 'gdeve', 5564: 'minimum', 5565: 'prix', 5566: 'teaching', 5567: 'slob', 5568: 'brainy', 5569: '»num', 5570: 'evey', 5571: 'evaluation', 5572: 'pocked', 5573: 'poboxnumldnsnum', 5574: 'missionary', 5575: 'approaching', 5576: 'sankranti', 5577: 'republic', 5578: 'shivratri', 5579: 'ugadi', 5580: 'fools', 5581: 'independence', 5582: 'teachers', 5583: 'childrens', 5584: 'festival', 5585: 'dasara', 5586: 'mornings', 5587: 'afternoons', 5588: 'evenings', 5589: 'rememberi', 5590: \"your's\", 5591: 'basketball', 5592: 'outdoors', 5593: 'ym', 5594: 'holy', 5595: \"weren't\", 5596: 'shorts', 5597: 'meets', 5598: 'rules', 5599: 'bend', 5600: 'thia', 5601: 'inlude', 5602: 'previews', 5603: 'poo', 5604: 'sang', 5605: \"'uptown\", 5606: \"girl'\", 5607: 'nanny', 5608: 'sooo', 5609: 'honesty', 5610: 'decisions', 5611: 'rejected', 5612: 'callnum', 5613: 'rstm', 5614: 'swnum', 5615: 'numss', 5616: 'mcfly', 5617: 'ab', 5618: 'sara', 5619: 'jorge', 5620: 'smith', 5621: 'webadres', 5622: 'geting', 5623: 'slip', 5624: 'referin', 5625: \"mei's\", 5626: 'velachery', 5627: 'hamster', 5628: 'butting', 5629: 'vs', 5630: 'keeping', 5631: 'famamus', 5632: 'pubs', 5633: 'frankie', 5634: 'bennys', 5635: 'moves', 5636: 'prevent', 5637: 'dehydration', 5638: 'fluids', 5639: 'gsoh', 5640: 'spam', 5641: 'gigolo', 5642: 'mens', 5643: 'oncall', 5644: 'mjzgroup', 5645: 'numrcvd', 5646: 'becausethey', 5647: 'wnumrg', 5648: 'mobsi', 5649: 'nnumdx', 5650: 'logging', 5651: 'geoenvironmental', 5652: 'implications', 5653: 'rebtel', 5654: 'firefox', 5655: 'lower', 5656: 'sunoco', 5657: 'openin', 5658: 'formal', 5659: 'puttin', 5660: 'andrews', 5661: 'relaxing', 5662: 'sooooo', 5663: 'luxury', 5664: 'canary', 5665: 'involved', 5666: 'tunji', 5667: 'fucks', 5668: 'payed', 5669: 'suganya', 5670: 'uses', 5671: 'ignoring', 5672: 'engalnd', 5673: 'mia', 5674: 'elliot', 5675: 'kissing', 5676: 'escalator', 5677: 'helloooo', 5678: 'welcomes', 5679: 'poboxnumwnumtgnump', 5680: 'gibbs', 5681: 'mike', 5682: 'hussey', 5683: 'xclusive', 5684: 'clubsaisai', 5685: 'soiree', 5686: 'speciale', 5687: 'zouk', 5688: 'roses', 5689: 'priest', 5690: 'cooped', 5691: 'browsin', 5692: 'compulsory', 5693: 'monoc', 5694: 'monos', 5695: 'polyc', 5696: 'stream', 5697: 'textnum', 5698: 'bookedthe', 5699: 'hut', 5700: 'rv', 5701: 'haven\\x92t', 5702: 'rvx', 5703: 'wrongly', 5704: 'dvg', 5705: 'vinobanagar', 5706: 'condition', 5707: 'rightio', 5708: 'arent', 5709: 'burgundy', 5710: 'captaining', 5711: 'latests', 5712: 'llc', 5713: 'ny', 5714: 'usa', 5715: 'msgrcvdnum', 5716: 'limping', 5717: 'aa', 5718: 'nte', 5719: 'nordstrom', 5720: 'everynum', 5721: 'ava', 5722: 'goodtime', 5723: 'oli', 5724: 'melnite', 5725: 'ifink', 5726: 'everythin', 5727: 'lnumrs', 5728: 'christ', 5729: 'zac', 5730: 'period', 5731: 'wondar', 5732: 'flim', 5733: 'worrying', 5734: 'quizzes', 5735: 'vijaykanth', 5736: 'drunken', 5737: 'hundred', 5738: 'batsman', 5739: 'videos', 5740: 'shsex', 5741: 'netun', 5742: 'fgkslpopw', 5743: 'fgkslpo', 5744: 'tonght', 5745: 'joys', 5746: 'lifeis', 5747: 'daywith', 5748: 'somewheresomeone', 5749: 'tosend', 5750: 'greeting', 5751: 'hogolo', 5752: 'kodstini', 5753: 'necklace', 5754: 'madstini', 5755: 'hogli', 5756: 'mutai', 5757: 'eerulli', 5758: 'kodthini', 5759: 'salad', 5760: 'beers', 5761: 'scenery', 5762: 'complaining', 5763: 'heat', 5764: 'applyed', 5765: 'fainting', 5766: 'housework', 5767: 'cuppa', 5768: 'seeking', 5769: 'corporation', 5770: 'jersey', 5771: 'devils', 5772: 'wings', 5773: 'incorrect', 5774: 'macedonia', 5775: 'únum', 5776: 'poboxoxnumwnumwq', 5777: 'waqt', 5778: 'pehle', 5779: 'naseeb', 5780: 'zyada', 5781: 'kisi', 5782: 'ko', 5783: 'kuch', 5784: 'milta', 5785: 'hum', 5786: 'sochte', 5787: 'ham', 5788: 'jeetey', 5789: 'confuses', 5790: 'darker', 5791: 'styling', 5792: 'financial', 5793: 'pence', 5794: 'prepayment', 5795: 'completing', 5796: 'unintentionally', 5797: 'trains', 5798: 'warning', 5799: 'fellow', 5800: 'walsall', 5801: 'tue', 5802: 'terry', 5803: 'optin', 5804: 'bbc', 5805: 'charts', 5806: 'pickle', 5807: 'nver', 5808: 'somtimes', 5809: 'hearts', 5810: 'prasanth', 5811: 'ettans', 5812: 'placement', 5813: 'coughing', 5814: 'smaller', 5815: 'capacity', 5816: 'raviyog', 5817: 'peripherals', 5818: 'bhayandar', 5819: 'posible', 5820: 'century', 5821: 'frwd', 5822: 'hidden', 5823: 'ding', 5824: 'tai', 5825: 'feng', 5826: 'reservations', 5827: 'rhode', 5828: 'bong', 5829: 'winnersclub', 5830: 'gbpnum', 5831: 'keen', 5832: 'league', 5833: 'punto', 5834: 'tee', 5835: 'cheery', 5836: 'treats', 5837: 'necessary', 5838: 'profile', 5839: 'bpo', 5840: 'msn', 5841: 'hotmail', 5842: 'flatter', 5843: 'pints', 5844: 'carlin', 5845: 'certainly', 5846: 'puts', 5847: 'perspective', 5848: 'irene', 5849: 'ere', 5850: 'busnum', 5851: 'cres', 5852: 'numph', 5853: 'numwkg', 5854: 'èn', 5855: 'lists', 5856: 'grandma', 5857: 'parade', 5858: 'amk', 5859: 'ummma', 5860: 'footie', 5861: 'phil', 5862: 'neville', 5863: 'boldnum', 5864: 'wendy', 5865: \"jay's\", 5866: 'impatient', 5867: 'belligerent', 5868: 'expert', 5869: 'westshore', 5870: 'macs', 5871: 'printing', 5872: 'handing', 5873: 'khelate', 5874: 'kintu', 5875: 'opponenter', 5876: 'dhorte', 5877: 'lage', 5878: 'ktv', 5879: 'chuckin', 5880: 'trainners', 5881: 'carryin', 5882: 'bac', 5883: 'converted', 5884: 'yourjob', 5885: 'i\\x92llspeak', 5886: 'soonlots', 5887: 'spare', 5888: 'wahala', 5889: 'manual', 5890: 'reset', 5891: 'troubleshooting', 5892: 'lingerie', 5893: 'bridal', 5894: 'petticoatdreams', 5895: 'weddingfriend', 5896: 'billy', 5897: 'jogging', 5898: 'alertfrom', 5899: 'jeri', 5900: 'stewartsize', 5901: 'numkbsubject', 5902: 'prescripiton', 5903: 'drvgsto', 5904: 'jon', 5905: 'spain', 5906: 'dinero', 5907: '\\x91rents', 5908: 'numpes', 5909: 'vivek', 5910: 'cps', 5911: 'outages', 5912: 'conserve', 5913: 'urgh', 5914: 'coach', 5915: 'smells', 5916: 'chip', 5917: 'duvet', 5918: 'predictive', 5919: 'sppok', 5920: 'gimmi', 5921: 'goss', 5922: 'bridgwater', 5923: 'banter', 5924: 'antelope', 5925: 'toplay', 5926: 'fieldof', 5927: 'selfindependence', 5928: 'contention', 5929: 'costumes', 5930: 'yowifes', 5931: 'formatting', 5932: 'aslamalaikkum', 5933: 'tohar', 5934: 'beeen', 5935: 'muht', 5936: 'albi', 5937: 'mufti', 5938: 'mahfuuz', 5939: 'sts', 5940: 'rounder', 5941: 'required', 5942: 'experiencehttp', 5943: 'vouchnumme', 5944: 'etlp', 5945: 'eventually', 5946: 'build', 5947: 'tolerance', 5948: 'hits', 5949: 'checkmate', 5950: 'chess', 5951: 'persian', 5952: 'phrase', 5953: 'shah', 5954: 'maat', 5955: 'restaurant', 5956: 'forgive', 5957: 'spice', 5958: 'gokila', 5959: 'worms', 5960: 'enjoying', 5961: 'cab', 5962: 'steps', 5963: 'bomb', 5964: 'catches', 5965: 'spoiled', 5966: 'costume', 5967: 'attended', 5968: 'okmail', 5969: 'maintain', 5970: 'sh', 5971: 'jas', 5972: 'shitin', 5973: 'defo', 5974: 'hardest', 5975: 'millions', 5976: 'lekdog', 5977: 'grinder', 5978: 'sitter', 5979: 'kaitlyn', 5980: 'quarter', 5981: 'elections', 5982: 'shouldn‘t', 5983: 'quitting', 5984: 'leastnumtimes', 5985: \"wudn't\", 5986: 'rumour', 5987: 'you‘ll', 5988: 'sunroof', 5989: 'continent', 5990: 'interfued', 5991: 'nationwide', 5992: 'newport', 5993: 'shrek', 5994: 'soz', 5995: 'imat', 5996: 'mums', 5997: 'wallet', 5998: 'tahan', 5999: 'anot', 6000: 'jelly', 6001: 'didntgive', 6002: 'bellearlier', 6003: 'bedbut', 6004: 'thepub', 6005: 'uwana', 6006: 'jenxxx', 6007: 'ax', 6008: 'numapple', 6009: 'numtulsi', 6010: 'leaf', 6011: 'numlemon', 6012: 'numcup', 6013: 'bone', 6014: 'problms', 6015: 'litres', 6016: 'watr', 6017: 'diseases', 6018: 'snd', 6019: 'loooooool', 6020: 'couch', 6021: 'rents', 6022: 'clever', 6023: 'guesses', 6024: 'attach', 6025: 'villa', 6026: 'cereals', 6027: 'gari', 6028: 'lined', 6029: 'hmvnum', 6030: 'ujhhhhhhh', 6031: 'sandiago', 6032: 'parantella', 6033: 'donno', 6034: 'scorable', 6035: 'jeremiah', 6036: 'comingdown', 6037: 'waheeda', 6038: 'cloud', 6039: 'raping', 6040: 'dudes', 6041: 'poker', 6042: 'unsubscribed', 6043: 'hunks', 6044: 'gotbabes', 6045: 'subscriptions', 6046: 'mgs', 6047: 'thankyou', 6048: 'clip', 6049: 'mmsto', 6050: 'elvis', 6051: 'presleys', 6052: 'steal', 6053: 'goinnumbed', 6054: 'onlynummore', 6055: 'trips', 6056: 'spys', 6057: 'mistakes', 6058: 'skyped', 6059: 'kz', 6060: 'ultimatum', 6061: 'countin', 6062: 'aburo', 6063: 'weekdays', 6064: 'nails', 6065: 'trek', 6066: 'outbid', 6067: 'simonwatsonnum', 6068: 'shinco', 6069: 'plyr', 6070: 'smsrewards', 6071: 'notifications', 6072: 'cheyyamo', 6073: 'strongly', 6074: 'creativity', 6075: 'stifled', 6076: 'moving', 6077: 'lamp', 6078: 'caroline', 6079: 'flew', 6080: 'window', 6081: \"treatin'\", 6082: 'treacle', 6083: 'placed', 6084: 'babyjontet', 6085: 'dr', 6086: 'shelf', 6087: 'avalarr', 6088: 'hollalater', 6089: 'tonexs', 6090: 'renewed', 6091: 'clubzed', 6092: 'billing', 6093: 'thinl', 6094: 'gage', 6095: 'deck', 6096: 'cnupdates', 6097: 'newsletter', 6098: 'alerts', 6099: 'pisces', 6100: 'aquarius', 6101: 'prospects', 6102: 'bleak', 6103: 'macha', 6104: 'mindset', 6105: 'snowboarding', 6106: 'das', 6107: 'iknow', 6108: 'wellda', 6109: 'peril', 6110: 'studentfinancial', 6111: 'arithmetic', 6112: 'percentages', 6113: 'we‘ll', 6114: 'remb', 6115: 'eviction', 6116: 'spiral', 6117: 'michael', 6118: 'riddance', 6119: 'numxxnum', 6120: 'fox', 6121: 'frndsship', 6122: 'dwn', 6123: 'numlions', 6124: 'ukp', 6125: 'resubmit', 6126: 'expiry', 6127: 'formally', 6128: 'praying', 6129: 'pop', 6130: 'geknum', 6131: 'someday', 6132: 'danger', 6133: 'peeps', 6134: 'comment', 6135: 'posh', 6136: 'chaps', 6137: 'trial', 6138: 'prods', 6139: 'champneys', 6140: 'dob', 6141: 'li', 6142: 'lecturer', 6143: 'repeating', 6144: 'prices', 6145: 'syllabus', 6146: 'avoid', 6147: 'missunderstding', 6148: \"one's\", 6149: 'settling', 6150: 'happenin', 6151: 'force', 6152: 'iraq', 6153: 'afghanistan', 6154: 'stable', 6155: 'honest', 6156: 'traveling', 6157: 'meat', 6158: 'supreme', 6159: 'sections', 6160: 'clearer', 6161: 'multiply', 6162: 'independently', 6163: 'division', 6164: 'showed', 6165: 'hustle', 6166: 'forth', 6167: 'harlem', 6168: 'jb', 6169: 'throws', 6170: 'brothers', 6171: 'hasnt', 6172: 'occurs', 6173: 'dled', 6174: 'amanda', 6175: 'regard', 6176: 'renewing', 6177: 'upgrading', 6178: 'subject', 6179: 'pei', 6180: 'webnummobile', 6181: 'lanumwu', 6182: 'txtx', 6183: 'buyer', 6184: \"dad's\", 6185: 'phonenum', 6186: 'gosh', 6187: 'spose', 6188: 'pounded', 6189: 'oral', 6190: 'painting', 6191: 'hanks', 6192: 'lotsly', 6193: 'recycling', 6194: 'earning', 6195: 'magic', 6196: 'loose', 6197: 'pax', 6198: 'deposit', 6199: 'smell', 6200: 'tobacco', 6201: \"joke's\", 6202: 'university', 6203: 'florida', 6204: 'rahul', 6205: 'dengra', 6206: 'surgical', 6207: 'emergency', 6208: 'unfolds', 6209: 'compliments', 6210: 'juswoke', 6211: 'boatin', 6212: 'docks', 6213: 'spinout', 6214: 'creepy', 6215: 'poboxnumnnumtfnump', 6216: 'physics', 6217: 'smoothly', 6218: 'challenging', 6219: 'baaaaabe', 6220: 'misss', 6221: 'youuuuu', 6222: 'brdget', 6223: 'jones', 6224: 'arngd', 6225: 'walkin', 6226: 'unfortuntly', 6227: 'bites', 6228: 'frnt', 6229: 'sayin', 6230: \"month's\", 6231: 'ow', 6232: 'shell', 6233: 'unconsciously', 6234: 'unhappy', 6235: 'brin', 6236: 'properly', 6237: 'sheet', 6238: 'guoyang', 6239: 'ummifying', 6240: 'thanxnum', 6241: 'cer', 6242: 'tescos', 6243: 'sqnum', 6244: 'arrival', 6245: 'aah', 6246: 'fumbling', 6247: 'dorothy', 6248: 'kiefer', 6249: 'awww', 6250: 'unconvinced', 6251: 'elaborate', 6252: 'willpower', 6253: 'forfeit', 6254: 'shiny', 6255: 'warming', 6256: 'constant', 6257: 'breaker', 6258: 'deluxe', 6259: 'features', 6260: 'graphics', 6261: 'bbdeluxe', 6262: 'sindu', 6263: 'absolutely', 6264: 'realnum', 6265: 'pushbutton', 6266: 'dontcha', 6267: 'babygoodbye', 6268: 'golddigger', 6269: 'webeburnin', 6270: 'lifted', 6271: 'hopes', 6272: 'approaches', 6273: 'altonum', 6274: 'crossing', 6275: 'sem', 6276: 'enna', 6277: 'kalaachutaarama', 6278: 'seekers', 6279: 'wasnt', 6280: 'phoned', 6281: 'easter', 6282: 'jerk', 6283: 'cheat', 6284: \"world's\", 6285: 'happiest', 6286: 'characters', 6287: 'differences', 6288: 'faith', 6289: 'stayin', 6290: 'he\\x92s', 6291: 'numgetha', 6292: 'thesmszone', 6293: 'anonymous', 6294: 'masked', 6295: 'abuse', 6296: 'chapel', 6297: 'frontierville', 6298: 'simpler', 6299: \"x'mas\", 6300: 'ikea', 6301: 'browser', 6302: 'surf', 6303: 'numtcr', 6304: 'retired', 6305: 'doinat', 6306: 'sday', 6307: 'murali', 6308: 'wildlife', 6309: 'wantnumcome', 6310: 'thatnumworzels', 6311: 'wizzle', 6312: 'tex', 6313: 'mecause', 6314: 'werebored', 6315: 'okden', 6316: 'uin', 6317: 'sound\\x92s', 6318: 'likeyour', 6319: 'grnumfun', 6320: 'updat', 6321: 'countinlots', 6322: 'miwa', 6323: 'arguing', 6324: 'gmw', 6325: 'connected', 6326: 'nighters', 6327: 'persevered', 6328: 'asjesus', 6329: 'wrote', 6330: \"no's\", 6331: 'ou', 6332: 'ooooooh', 6333: 'yoville', 6334: 'begging', 6335: 'pleasured', 6336: 'pressies', 6337: 'certificate', 6338: 'publish', 6339: 'chad', 6340: 'gymnastics', 6341: 'christians', 6342: 'subscribenumgbp', 6343: 'txtstop', 6344: 'increase', 6345: 'meive', 6346: 'gotany', 6347: 'webpage', 6348: 'roles', 6349: 'outreach', 6350: 'checkup', 6351: 'aka', 6352: 'smear', 6353: 'bnumu', 6354: 'marsms', 6355: 'bnumutele', 6356: 'gender', 6357: 'wither', 6358: 'numf', 6359: 'stash', 6360: 'value', 6361: 'brisk', 6362: 'walks', 6363: 'envy', 6364: \"see's\", 6365: 'downloaded', 6366: 'doit', 6367: 'mymoby', 6368: 'virtual', 6369: 'jaklin', 6370: 'scratches', 6371: 'adding', 6372: 'zeros', 6373: 'savings', 6374: 'debating', 6375: \"dip's\", 6376: 'thet', 6377: 'skinny', 6378: 'casting', 6379: 'stone', 6380: 'syria', 6381: 'audrey', 6382: 'aldrine', 6383: 'rtm', 6384: 'baaaaaaaabe', 6385: 'finishes', 6386: 'ofcourse', 6387: 'grandmas', 6388: 'hungover', 6389: 'digits', 6390: 'received', 6391: 'cruisin', 6392: 'jenny', 6393: 'specialisation', 6394: 'labor', 6395: 'shakara', 6396: 'beggar', 6397: 'mmmmm', 6398: 'guides', 6399: 'lately', 6400: 'suggestion', 6401: 'lands', 6402: 'helps', 6403: 'forgt', 6404: 'identification', 6405: 'hme', 6406: 'mobs', 6407: 'breathenum', 6408: 'crazyin', 6409: 'sleepingwith', 6410: 'finest', 6411: 'ymca', 6412: 'poboxnumonumwnumwq', 6413: 'shijutta', 6414: 'liquor', 6415: 'loko', 6416: 'resend', 6417: 'symptoms', 6418: 'intention', 6419: 'visitors', 6420: 'jot', 6421: \"'rencontre'\", 6422: 'mountains', 6423: 'studies', 6424: 'anyones', 6425: 'paranoid', 6426: \"dobby's\", 6427: 'extreme', 6428: 'sic', 6429: 'nummp', 6430: 'poet', 6431: 'imagination', 6432: 'swollen', 6433: 'glands', 6434: 'halfnumth', 6435: 'silly', 6436: 'isn‘t', 6437: 'likely', 6438: 'stressfull', 6439: 'adds', 6440: \"armand's\", 6441: 'passport', 6442: 'ibored', 6443: 'accommodation', 6444: 'global', 6445: 'phbnum', 6446: 'hides', 6447: 'secrets', 6448: 'nnum', 6449: 'fondly', 6450: 'thot', 6451: 'gyno', 6452: 'shoving', 6453: 'belong', 6454: 'archive', 6455: 'lasting', 6456: 'trackmarque', 6457: 'vipclubnumu', 6458: 'difference', 6459: 'keeps', 6460: 'we\\x92ve', 6461: 'mint', 6462: 'lips', 6463: 'ajith', 6464: 'rt', 6465: 'pro', 6466: 'redeemable', 6467: 'shifad', 6468: 'raised', 6469: 'hunting', 6470: 'initiate', 6471: 'sorts', 6472: 'bare', 6473: 'wnumin', 6474: 'numutxt', 6475: 'thin', 6476: 'arguments', 6477: 'fed', 6478: 'himso', 6479: 'duffer', 6480: 'rubber', 6481: 'numprice', 6482: \"b'tooth\", 6483: 'dnumwv', 6484: 'chop', 6485: 'reminded', 6486: 'kitty', 6487: 'shaved', 6488: 'barbie', 6489: \"ken's\", 6490: 'french', 6491: 'fooled', 6492: 'immed', 6493: 'deepest', 6494: 'darkest', 6495: 'gei', 6496: 'tron', 6497: 'dl', 6498: 'completed', 6499: 'degree', 6500: 'wenever', 6501: 'managed', 6502: 'oxygen', 6503: 'resort', 6504: 'roller', 6505: 'pattern', 6506: 'consent', 6507: 'fring', 6508: 'noi\\x92m', 6509: 'js', 6510: 'flood', 6511: 'busetop', 6512: 'grasp', 6513: 'tcr', 6514: 'lacking', 6515: 'particular', 6516: \"dramastorm's\", 6517: 'solihull', 6518: 'reception', 6519: 'eightish', 6520: 'carpark', 6521: 'daytime', 6522: 'busty', 6523: 'janinexx', 6524: 'shattered', 6525: 'bhaji', 6526: 'cricketer', 6527: 'cultures', 6528: 'module', 6529: 'blank', 6530: 'sayy', 6531: 'computerless', 6532: 'invoices', 6533: 'impression', 6534: 'printer', 6535: 'groovy', 6536: 'groovying', 6537: 'videosound', 6538: 'videosounds', 6539: 'musicnews', 6540: 'chickened', 6541: 'woould', 6542: 'factory', 6543: 'trained', 6544: 'advisors', 6545: 'dialling', 6546: 'vday', 6547: 'parachute', 6548: 'fishrman', 6549: 'sack', 6550: 'strtd', 6551: 'throwin', 6552: 'numstone', 6553: \"mrng''\", 6554: 'ultimately', 6555: 'tor', 6556: 'motive', 6557: 'tui', 6558: 'achieve', 6559: 'korli', 6560: 'onam', 6561: 'sirji', 6562: 'tata', 6563: 'aig', 6564: 'disappointment', 6565: 'virgins', 6566: 'sexual', 6567: 'theirs', 6568: 'equally', 6569: 'uneventful', 6570: 'pesky', 6571: 'cyclists', 6572: 'xxxxxx', 6573: 'situations', 6574: 'loosing', 6575: 'patty', 6576: 'haul', 6577: 'lodge', 6578: 'ijust', 6579: 'talked', 6580: 'pours', 6581: 'sumnum', 6582: 'cards', 6583: 'paining', 6584: 'tau', 6585: 'sar', 6586: 'piah', 6587: 'board', 6588: 'overheating', 6589: 'reslove', 6590: 'inst', 6591: \"numovernum's\", 6592: 'unclaimed', 6593: 'closingdatenum', 6594: 'claimcode', 6595: 'mnummnum', 6596: 'numpmmorefrommobilenumbremoved', 6597: 'mobypoboxnumlsnumyf', 6598: 'grocers', 6599: 'yavnt', 6600: 'newquay', 6601: 'numim', 6602: 'talkin', 6603: 'secured', 6604: 'unsecured', 6605: 'staring', 6606: 'sources', 6607: 'unhappiness', 6608: 'lov', 6609: 'tolerat', 6610: 'bcs', 6611: 'comfort', 6612: 'kotees', 6613: 'nearer', 6614: 'incomm', 6615: 'friendships', 6616: 'roast', 6617: 'tap', 6618: 'spile', 6619: 'seven', 6620: 'broad', 6621: 'canal', 6622: 'merely', 6623: 'relationship', 6624: 'wherevr', 6625: 'whenevr', 6626: 'gudnyt', 6627: \"fuck's\", 6628: 'tallahassee', 6629: 'plate', 6630: 'leftovers', 6631: 'drugdealer', 6632: 'arestaurant', 6633: 'squid', 6634: 'dosomething', 6635: 'pshew', 6636: 'piggy', 6637: 'kalainar', 6638: 'thenampet', 6639: 'fifty', 6640: \"'its\", 6641: 'somewhat', 6642: 'laden', 6643: 'wrecked', 6644: 'inconvenient', 6645: 'kappa', 6646: 'justify', 6647: 'can\\x92t', 6648: 'isn\\x92t', 6649: 'it\\x92s', 6650: 'shite', 6651: 'kip', 6652: 'simulate', 6653: 'readiness', 6654: 'aptitude', 6655: 'palm', 6656: 'taka', 6657: 'bcmsfwcnumnnumxx', 6658: 'buyers', 6659: 'edison', 6660: 'rightly', 6661: 'speechless', 6662: 'viva', 6663: 'gnt', 6664: 'marking', 6665: 'roomate', 6666: 'graduated', 6667: 'styles', 6668: 'shadow', 6669: 'spring', 6670: 'axel', 6671: 'akon', 6672: 'eyed', 6673: 'gained', 6674: 'kg', 6675: 'pressure', 6676: 'limits', 6677: 'unum', 6678: 'knickers', 6679: 'nikiyunum', 6680: 'drastic', 6681: 'poortiyagi', 6682: 'odalebeku', 6683: 'hanumanji', 6684: 'hanuman', 6685: 'bajarangabali', 6686: 'maruti', 6687: 'pavanaputra', 6688: 'sankatmochan', 6689: 'ramaduth', 6690: 'mahaveer', 6691: 'janarige', 6692: 'ivatte', 6693: 'kalisidare', 6694: 'olage', 6695: 'ondu', 6696: 'keluviri', 6697: 'maretare', 6698: 'inde', 6699: 'dodda', 6700: 'problum', 6701: 'nalli', 6702: 'siguviri', 6703: 'idu', 6704: 'matra', 6705: 'neglet', 6706: 'adi', 6707: 'entey', 6708: 'nattil', 6709: 'kittum', 6710: 'marvel', 6711: 'ultimate', 6712: 'numball', 6713: 'repairs', 6714: 'ovulation', 6715: 'followin', 6716: 'wrks', 6717: 'gobi', 6718: 'arts', 6719: 'intrepid', 6720: 'duo', 6721: 'pract', 6722: 'flung', 6723: 'machi', 6724: 'splashmobile', 6725: 'subscrition', 6726: 'costing', 6727: 'conacted', 6728: 'poboxnumnnumtfnum', 6729: 'conveying', 6730: 'raglan', 6731: 'edward', 6732: 'cricket', 6733: 'closeby', 6734: 'jaykwon', 6735: 'thuglyfe', 6736: 'falconerf', 6737: 'prone', 6738: 'dealer', 6739: 'lunsford', 6740: 'tmorrow', 6741: 'accomodate', 6742: 'portal', 6743: 'mmmmmm', 6744: \"don'tnumgetnumtext\", 6745: 'sometext', 6746: 'lnum', 6747: 'buses', 6748: 'gon', 6749: 'progress', 6750: 'jabo', 6751: 'classmates', 6752: 'numcfcanuma', 6753: 'enters', 6754: 'gonnamissu', 6755: 'buttheres', 6756: 'aboutas', 6757: 'merememberin', 6758: 'asthere', 6759: 'ofsi', 6760: 'breakin', 6761: 'yaxx', 6762: 'opener', 6763: 'evo', 6764: 'stressful', 6765: 'netflix', 6766: 'skateboarding', 6767: 'despite', 6768: 'thrown', 6769: 'winds', 6770: 'bandages', 6771: 'drivby', 6772: 'numquit', 6773: 'edrunk', 6774: 'iff', 6775: 'pthis', 6776: 'senrd', 6777: 'dnot', 6778: 'dancce', 6779: 'drum', 6780: 'basq', 6781: 'ihave', 6782: 'numnhite', 6783: 'ros', 6784: 'xxxxxxx', 6785: 'owl', 6786: 'licks', 6787: 'apnt', 6788: 'millers', 6789: \"'doctors'\", 6790: 'reminds', 6791: 'meg', 6792: 'dats', 6793: 'dogg', 6794: 'monster', 6795: 'optimistic', 6796: 'improve', 6797: 'abbey', 6798: 'dogbreath', 6799: 'sounding', 6800: 'offline', 6801: \"anjola's\", 6802: 'numstoptx', 6803: 'taj', 6804: 'lesser', 6805: 'known', 6806: 'facts', 6807: \"shahjahan's\", 6808: 'wifes', 6809: 'shahjahan', 6810: 'husband', 6811: 'arises', 6812: 'hari', 6813: 'rebooting', 6814: 'sapna', 6815: 'manege', 6816: \"y'day\", 6817: 'hogidhe', 6818: 'chinnu', 6819: 'swalpa', 6820: 'agidhane', 6821: 'exe', 6822: 'appy', 6823: 'fizz', 6824: 'contains', 6825: 'victoria', 6826: 'traffic', 6827: 'arm', 6828: 'shot', 6829: 'qi', 6830: 'suddenly', 6831: 'uncountable', 6832: 'noun', 6833: 'noooooooo', 6834: 'squeeeeeze', 6835: 'frndshp', 6836: 'luvd', 6837: 'sez', 6838: 'arab', 6839: 'evrynum', 6840: 'eshxxxxxxxxxxx', 6841: 'cocksuckers', 6842: 'ipads', 6843: 'worthless', 6844: 'novelty', 6845: 'speed', 6846: 'fights', 6847: 'spiritual', 6848: 'gent', 6849: 'iouri', 6850: \"ryan's\", 6851: 'tallent', 6852: 'wasting', 6853: 'epsilon', 6854: 'bbq', 6855: 'closes', 6856: 'breeze', 6857: 'fresh', 6858: 'twittering', 6859: 'explicitly', 6860: 'nora', 6861: 'crashed', 6862: 'cuddled', 6863: 'dancin', 6864: 'numxxxxxxxxx', 6865: 'ashwini', 6866: 'leo', 6867: 'regretted', 6868: 'opposite', 6869: 'asia', 6870: 'bothering', 6871: 'dismissial', 6872: 'atten', 6873: 'numstchoice', 6874: 'wesley', 6875: \"how've\", 6876: 'cantdo', 6877: 'anythingtomorrow', 6878: 'myparents', 6879: 'aretaking', 6880: 'outfor', 6881: 'katexxx', 6882: 'alian', 6883: 'spotty', 6884: 'province', 6885: 'sterling', 6886: 'young', 6887: 'tattoos', 6888: 'cthen', 6889: 'conclusion', 6890: 'references', 6891: 'cutie', 6892: 'hills', 6893: 'callsnum', 6894: 'santacalling', 6895: \"xin's\", 6896: 'perumbavoor', 6897: 'diddy', 6898: 'neighbor', 6899: 'toothpaste', 6900: 'indicate', 6901: 'tlk', 6902: 'hhahhaahahah', 6903: 'nig', 6904: 'leonardo', 6905: 'openings', 6906: 'upcharge', 6907: \"there'll\", 6908: 'shindig', 6909: 'julianaland', 6910: 'oblivious', 6911: 'capital', 6912: 'snatch', 6913: 'spontaneously', 6914: 'goodevening', 6915: 'application', 6916: 'broadband', 6917: 'processed', 6918: 'installation', 6919: 'snap', 6920: 'quizclub', 6921: 'rwm', 6922: 'ccna', 6923: \"g's\", 6924: 'ammo', 6925: 'ak', 6926: 'neither', 6927: 'sterm', 6928: 'resolved', 6929: 'gnarls', 6930: 'barkleys', 6931: 'fwiw', 6932: 'afford', 6933: 'drpd', 6934: 'deeraj', 6935: 'deepak', 6936: 'bless', 6937: 'ew', 6938: 'jp', 6939: 'mofo', 6940: 'perform', 6941: 'oi', 6942: 'diesel', 6943: 'split', 6944: 'deduct', 6945: 'justthought', 6946: 'i\\x92d', 6947: 'sayhey', 6948: 'endof', 6949: 'offdam', 6950: 'nevamind', 6951: 'numhook', 6952: 'uwant', 6953: 'skye', 6954: 'doesn', 6955: 'gota', 6956: 'anand', 6957: 'impressed', 6958: 'funs', 6959: 'watchin', 6960: 'receivea', 6961: 'klnum', 6962: 'tip', 6963: 'textand', 6964: 'choices', 6965: 'toss', 6966: 'gudninum', 6967: 'chez', 6968: 'jules', 6969: 'neshanth', 6970: 'coveragd', 6971: 'vasai', 6972: 'tag', 6973: 'laundry', 6974: 'underwear', 6975: 'bras', 6976: 'strewn', 6977: 'pillows', 6978: 'refilled', 6979: 'inr', 6980: 'keralacircle', 6981: 'prepaid', 6982: 'kr', 6983: 'timings', 6984: 'strnum', 6985: 'classic', 6986: 'pert', 6987: 'head…', 6988: 'hearin', 6989: 'doke', 6990: 'laying', 6991: 'lotta', 6992: 'childporn', 6993: 'hopeing', 6994: 'wasn‘t', 6995: 'sisters', 6996: 'callon', 6997: 'gandhipuram', 6998: 'ducking', 6999: 'chinchillas', 7000: 'bundle', 7001: 'deals', 7002: 'avble', 7003: 'mf', 7004: 'cmon', 7005: 'replies', 7006: 'gep', 7007: 'continued', 7008: 'president', 7009: 'unlike', 7010: 'docs', 7011: 'patients', 7012: 'turkeys', 7013: 'dine', 7014: 'stripes', 7015: 'skirt', 7016: 'nuerologist', 7017: 'va', 7018: 'beta', 7019: 'performed', 7020: 'flirtparty', 7021: 'replysnum', 7022: 'nor', 7023: 'prediction', 7024: 'u’ve', 7025: 'instant', 7026: 'screwd', 7027: 'eighth', 7028: 'blankets', 7029: 'womdarfull', 7030: 'authorise', 7031: 'narcotics', 7032: 'convenience', 7033: 'stalk', 7034: 'profiles', 7035: 'everyso', 7036: 'panicks', 7037: 'folks', 7038: 'level', 7039: 'dent', 7040: 'numnyt', 7041: 'poyyarikatur', 7042: 'kolathupalayam', 7043: 'unjalur', 7044: 'erode', 7045: 'satanic', 7046: 'imposter', 7047: 'destiny', 7048: 'lasagna', 7049: 'tscs', 7050: 'skillgame', 7051: 'numwinaweek', 7052: 'numppermesssubscription', 7053: 'dice', 7054: 'dudette', 7055: 'ft', 7056: 'combination', 7057: 'brownie', 7058: 'chloe', 7059: 'eachother', 7060: 'missy', 7061: 'changes', 7062: 'appendix', 7063: 'db', 7064: 'somerset', 7065: 'endowed', 7066: 'numcncl', 7067: 'stopcs', 7068: 'num£num', 7069: 'freenumday', 7070: \"george's\", 7071: 'predicting', 7072: 'inch', 7073: 'accumulation', 7074: 'consensus', 7075: 'spreadsheet', 7076: 'determine', 7077: 'entire', 7078: 'yeesh', 7079: 'resolution', 7080: 'frank'}\n"
     ]
    }
   ],
   "source": [
    "print(tokenizer.index_word)"
   ]
  },
  {
   "cell_type": "code",
   "execution_count": 39,
   "metadata": {},
   "outputs": [],
   "source": [
    "# assign an integer to each word \n",
    "X_train_seq = tokenizer.texts_to_sequences(X_train)\n",
    "X_test_seq = tokenizer.texts_to_sequences(X_test)"
   ]
  },
  {
   "cell_type": "code",
   "execution_count": 40,
   "metadata": {},
   "outputs": [],
   "source": [
    "from keras.preprocessing.sequence import pad_sequences\n",
    "\n",
    "X_train_seq_padded = pad_sequences(X_train_seq, maxlen = 50)\n",
    "X_test_seq_padded = pad_sequences(X_test_seq, maxlen = 50)"
   ]
  },
  {
   "cell_type": "code",
   "execution_count": 91,
   "metadata": {},
   "outputs": [
    {
     "data": {
      "text/plain": [
       "array([[   0,    0,    0, ...,   43,   13,   15],\n",
       "       [   0,    0,    0, ...,  275,   27,  333],\n",
       "       [   0,    0,    0, ..., 3426,  425,  526],\n",
       "       ...,\n",
       "       [   0,    0,    0, ..., 3353,  218,  190],\n",
       "       [   0,    0,    0, ...,  726,    3,    1],\n",
       "       [   0,    0,    0, ..., 7080,   57,  179]])"
      ]
     },
     "execution_count": 91,
     "metadata": {},
     "output_type": "execute_result"
    }
   ],
   "source": [
    "X_train_seq_padded"
   ]
  },
  {
   "cell_type": "code",
   "execution_count": 41,
   "metadata": {},
   "outputs": [
    {
     "name": "stdout",
     "output_type": "stream",
     "text": [
      "Model: \"sequential\"\n",
      "_________________________________________________________________\n",
      "Layer (type)                 Output Shape              Param #   \n",
      "=================================================================\n",
      "embedding (Embedding)        (None, None, 32)          226592    \n",
      "_________________________________________________________________\n",
      "lstm (LSTM)                  (None, 32)                8320      \n",
      "_________________________________________________________________\n",
      "dense (Dense)                (None, 32)                1056      \n",
      "_________________________________________________________________\n",
      "dense_1 (Dense)              (None, 1)                 33        \n",
      "=================================================================\n",
      "Total params: 236,001\n",
      "Trainable params: 236,001\n",
      "Non-trainable params: 0\n",
      "_________________________________________________________________\n"
     ]
    }
   ],
   "source": [
    "# Building Model\n",
    "from keras.models import Sequential\n",
    "from keras.layers import Dense, Embedding, LSTM\n",
    "\n",
    "model = Sequential()\n",
    "\n",
    "model.add(Embedding(len(tokenizer.index_word)+1, 32))\n",
    "model.add(LSTM(32, dropout=0, recurrent_dropout=0))\n",
    "model.add(Dense(32, activation='relu'))\n",
    "model.add(Dense(1, activation='sigmoid'))\n",
    "model.summary()"
   ]
  },
  {
   "cell_type": "code",
   "execution_count": 42,
   "metadata": {},
   "outputs": [],
   "source": [
    "# Compile the model\n",
    "model.compile(optimizer='adam',\n",
    "              loss='binary_crossentropy',\n",
    "              metrics=['accuracy'] )"
   ]
  },
  {
   "cell_type": "code",
   "execution_count": 43,
   "metadata": {
    "scrolled": true
   },
   "outputs": [
    {
     "name": "stdout",
     "output_type": "stream",
     "text": [
      "Epoch 1/20\n",
      "131/131 [==============================] - 18s 30ms/step - loss: 0.4450 - accuracy: 0.8602 - val_loss: 0.0729 - val_accuracy: 0.9741\n",
      "Epoch 2/20\n",
      "131/131 [==============================] - 2s 13ms/step - loss: 0.0423 - accuracy: 0.9860 - val_loss: 0.0434 - val_accuracy: 0.9835\n",
      "Epoch 3/20\n",
      "131/131 [==============================] - 2s 13ms/step - loss: 0.0174 - accuracy: 0.9959 - val_loss: 0.0383 - val_accuracy: 0.9885\n",
      "Epoch 4/20\n",
      "131/131 [==============================] - 2s 13ms/step - loss: 0.0124 - accuracy: 0.9977 - val_loss: 0.0418 - val_accuracy: 0.9871\n",
      "Epoch 5/20\n",
      "131/131 [==============================] - 2s 13ms/step - loss: 0.0046 - accuracy: 0.9993 - val_loss: 0.0434 - val_accuracy: 0.9878\n",
      "Epoch 6/20\n",
      "131/131 [==============================] - 2s 13ms/step - loss: 0.0015 - accuracy: 0.9998 - val_loss: 0.0462 - val_accuracy: 0.9878\n",
      "Epoch 7/20\n",
      "131/131 [==============================] - 2s 13ms/step - loss: 3.7726e-04 - accuracy: 1.0000 - val_loss: 0.0451 - val_accuracy: 0.9871\n",
      "Epoch 8/20\n",
      "131/131 [==============================] - 2s 13ms/step - loss: 9.5357e-04 - accuracy: 0.9999 - val_loss: 0.0459 - val_accuracy: 0.9892\n",
      "Epoch 9/20\n",
      "131/131 [==============================] - 2s 13ms/step - loss: 7.4116e-04 - accuracy: 0.9994 - val_loss: 0.0460 - val_accuracy: 0.9885\n",
      "Epoch 10/20\n",
      "131/131 [==============================] - 2s 13ms/step - loss: 3.7884e-04 - accuracy: 1.0000 - val_loss: 0.0513 - val_accuracy: 0.9899\n",
      "Epoch 11/20\n",
      "131/131 [==============================] - 2s 13ms/step - loss: 1.1277e-04 - accuracy: 1.0000 - val_loss: 0.0562 - val_accuracy: 0.9899\n",
      "Epoch 12/20\n",
      "131/131 [==============================] - 2s 13ms/step - loss: 6.5652e-05 - accuracy: 1.0000 - val_loss: 0.0565 - val_accuracy: 0.9892\n",
      "Epoch 13/20\n",
      "131/131 [==============================] - 2s 13ms/step - loss: 5.6058e-05 - accuracy: 1.0000 - val_loss: 0.0600 - val_accuracy: 0.9899\n",
      "Epoch 14/20\n",
      "131/131 [==============================] - 2s 13ms/step - loss: 4.4283e-05 - accuracy: 1.0000 - val_loss: 0.0619 - val_accuracy: 0.9899\n",
      "Epoch 15/20\n",
      "131/131 [==============================] - 2s 13ms/step - loss: 2.3780e-05 - accuracy: 1.0000 - val_loss: 0.0619 - val_accuracy: 0.9892\n",
      "Epoch 16/20\n",
      "131/131 [==============================] - 2s 13ms/step - loss: 2.4924e-05 - accuracy: 1.0000 - val_loss: 0.0643 - val_accuracy: 0.9899\n",
      "Epoch 17/20\n",
      "131/131 [==============================] - 2s 13ms/step - loss: 2.1488e-05 - accuracy: 1.0000 - val_loss: 0.0651 - val_accuracy: 0.9899\n",
      "Epoch 18/20\n",
      "131/131 [==============================] - 2s 13ms/step - loss: 1.8435e-05 - accuracy: 1.0000 - val_loss: 0.0670 - val_accuracy: 0.9899\n",
      "Epoch 19/20\n",
      "131/131 [==============================] - 2s 13ms/step - loss: 1.5394e-05 - accuracy: 1.0000 - val_loss: 0.0678 - val_accuracy: 0.9899\n",
      "Epoch 20/20\n",
      "131/131 [==============================] - 2s 13ms/step - loss: 1.3145e-05 - accuracy: 1.0000 - val_loss: 0.0692 - val_accuracy: 0.9899\n"
     ]
    }
   ],
   "source": [
    "model_history = model.fit(X_train_seq_padded, \n",
    "                          y_train,\n",
    "                          batch_size=32, \n",
    "                          epochs=20,\n",
    "                          validation_data=(X_test_seq_padded, y_test))"
   ]
  },
  {
   "cell_type": "code",
   "execution_count": 44,
   "metadata": {},
   "outputs": [
    {
     "data": {
      "image/png": "[encoded data removed]",
      "text/plain": [
       "<Figure size 432x288 with 1 Axes>"
      ]
     },
     "metadata": {
      "needs_background": "light"
     },
     "output_type": "display_data"
    }
   ],
   "source": [
    "acc = model_history.history['accuracy']\n",
    "val_acc = model_history.history['val_{}'.format('accuracy')]\n",
    "epochs = range(1, len(acc) + 1)\n",
    "\n",
    "plt.plot(epochs, acc, label='Training Accuracy')\n",
    "plt.plot(epochs, val_acc, label='Validation Accuracy')\n",
    "plt.title('Results for {}'.format('accuracy'))\n",
    "plt.legend()\n",
    "plt.show()"
   ]
  },
  {
   "cell_type": "code",
   "execution_count": 77,
   "metadata": {
    "scrolled": false
   },
   "outputs": [
    {
     "data": {
      "text/plain": [
       "array([[0.31627744]], dtype=float32)"
      ]
     },
     "execution_count": 77,
     "metadata": {},
     "output_type": "execute_result"
    }
   ],
   "source": [
    "model.predict([3865])"
   ]
  },
  {
   "cell_type": "markdown",
   "metadata": {},
   "source": [
    "Okay I think I fucked up this step. The main issue is that before padding each text sequences, we had transformed our text data to be represented by integers. As a result, it is the integer data that was used during the fitting process, which subsequently means our predict function only accepts integer inputs. "
   ]
  },
  {
   "cell_type": "markdown",
   "metadata": {},
   "source": [
    "### Quick fix"
   ]
  },
  {
   "cell_type": "code",
   "execution_count": 96,
   "metadata": {},
   "outputs": [],
   "source": [
    "def preprocess_it(text):\n",
    "    clean = text.apply(lambda x: clean_text(x))\n",
    "    tokened = tokenizer.texts_to_sequences(clean)\n",
    "    padded = pad_sequences(tokened, maxlen=50)\n",
    "    return padded"
   ]
  },
  {
   "cell_type": "code",
   "execution_count": 101,
   "metadata": {},
   "outputs": [
    {
     "data": {
      "text/plain": [
       "0.99940836"
      ]
     },
     "execution_count": 101,
     "metadata": {},
     "output_type": "execute_result"
    }
   ],
   "source": [
    "model.predict(preprocess_it(pd.Series(['you have won £1000 cash! call to claim your prize.'])))[0][0]"
   ]
  },
  {
   "cell_type": "markdown",
   "metadata": {},
   "source": [
    "## Predict!"
   ]
  },
  {
   "cell_type": "code",
   "execution_count": 105,
   "metadata": {},
   "outputs": [
    {
     "name": "stdout",
     "output_type": "stream",
     "text": [
      "0.00015029311\n",
      "[0.00015029311, 'ham']\n"
     ]
    }
   ],
   "source": [
    "def predict_message(pred_text):\n",
    "    \n",
    "    def preprocess_it(text):\n",
    "        clean = text.apply(lambda x: clean_text(x))\n",
    "        tokened = tokenizer.texts_to_sequences(clean)\n",
    "        padded = pad_sequences(tokened, maxlen=50)\n",
    "        return padded\n",
    "    \n",
    "    prediction = model.predict(\n",
    "        preprocess_it( pd.Series([pred_text]) )\n",
    "    )\n",
    "    prediction = prediction[0][0]\n",
    "    print(prediction)\n",
    "    return [prediction, \"ham\" if prediction <0.5 else \"spam\"]\n",
    "\n",
    "pred_text = \"how are you doing today?\"\n",
    "prediction = predict_message(pred_text)\n",
    "print(prediction)"
   ]
  },
  {
   "cell_type": "code",
   "execution_count": 106,
   "metadata": {},
   "outputs": [
    {
     "name": "stdout",
     "output_type": "stream",
     "text": [
      "0.00015029311\n",
      "0.9959926\n",
      "8.319138e-06\n",
      "0.5814633\n",
      "0.99940836\n",
      "3.6685637e-05\n",
      "5.6207873e-06\n",
      "You passed the challenge. Great job!\n"
     ]
    }
   ],
   "source": [
    "# Run this cell to test your function and model. Do not modify contents.\n",
    "def test_predictions():\n",
    "    test_messages = [\"how are you doing today\",\n",
    "                   \"sale today! to stop texts call 98912460 4\",\n",
    "                   \"i dont want to go. can we try it a different day? available sat\",\n",
    "                   \"our new mobile video service is live. just install on your phone to start watching.\",\n",
    "                   \"you have won £1000 cash! call to claim your prize.\",\n",
    "                   \"i'll bring it tomorrow. don't forget the milk.\",\n",
    "                   \"wow, is your arm alright. that happened to me one time too\"\n",
    "                  ]\n",
    "\n",
    "    test_answers = [\"ham\", \"spam\", \"ham\", \"spam\", \"spam\", \"ham\", \"ham\"]\n",
    "    passed = True\n",
    "\n",
    "    for msg, ans in zip(test_messages, test_answers):\n",
    "        prediction = predict_message(msg)\n",
    "    \n",
    "    if prediction[1] != ans:\n",
    "        passed = False\n",
    "\n",
    "    if passed:\n",
    "        print(\"You passed the challenge. Great job!\")\n",
    "    else:\n",
    "        print(\"You haven't passed yet. Keep trying.\")\n",
    "\n",
    "test_predictions()"
   ]
  },
  {
   "cell_type": "code",
   "execution_count": null,
   "metadata": {},
   "outputs": [],
   "source": []
  }
 ],
 "metadata": {
  "kernelspec": {
   "display_name": "Python 3",
   "language": "python",
   "name": "python3"
  },
  "language_info": {
   "codemirror_mode": {
    "name": "ipython",
    "version": 3
   },
   "file_extension": ".py",
   "mimetype": "text/x-python",
   "name": "python",
   "nbconvert_exporter": "python",
   "pygments_lexer": "ipython3",
   "version": "3.8.5"
  }
 },
 "nbformat": 4,
 "nbformat_minor": 4
}
