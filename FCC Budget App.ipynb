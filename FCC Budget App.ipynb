{
 "cells": [
  {
   "cell_type": "code",
   "execution_count": 17,
   "metadata": {},
   "outputs": [],
   "source": [
    "withdraw(111, {\"amount\": 200, \"description\": ['nothing']})"
   ]
  },
  {
   "cell_type": "code",
   "execution_count": 56,
   "metadata": {},
   "outputs": [],
   "source": [
    "class Category:\n",
    "    def __init__(self, name):\n",
    "        self.ledger = []\n",
    "        self.name = name\n",
    "        self.total = 0\n",
    "\n",
    "    def budget():\n",
    "        pass\n",
    "\n",
    "    def ledger():\n",
    "        pass\n",
    "\n",
    "    def deposit(self, amount, description= \"\"):\n",
    "        self.total += amount\n",
    "        \n",
    "        self.ledger.append({\n",
    "            \"amount\": amount,\n",
    "            \"description\": description\n",
    "        })\n",
    "        \n",
    "\n",
    "    def withdraw(self, amount, description= \"\"):\n",
    "        if amount > self.total:\n",
    "            return False\n",
    "        else:\n",
    "            self.total -= amount\n",
    "            self.ledger.append({\n",
    "                \"amount\": -amount,\n",
    "                \"description\": description\n",
    "            })\n",
    "            return True\n",
    "\n",
    "    def get_balance(self):\n",
    "        return self.total\n",
    "\n",
    "    def transfer(self, amount, other_category):\n",
    "        if amount > self.total:\n",
    "            return False\n",
    "        else:\n",
    "            self.total -= amount\n",
    "            self.ledger.append({\n",
    "                \"amount\": -amount,\n",
    "                \"description\": f\"Transfer to {other_category.name}\"\n",
    "            })\n",
    "            \n",
    "            other_category.total += amount\n",
    "            other_category.ledger.append({\n",
    "                \"amount\": amount,\n",
    "                \"description\": f\"Transfer from {self.name}\"\n",
    "            })\n",
    "            return True\n",
    "\n",
    "    def check_funds(self, amount):\n",
    "        if amount > self.total:\n",
    "            return False\n",
    "        else:\n",
    "            return True\n",
    "    \n",
    "    def __str__(self):\n",
    "        title = f\"{self.name:*^30}\"\n",
    "            # idk how this works\n",
    "        \n",
    "        string1 = \"\"\n",
    "        string2 = \"\"\n",
    "        total = 0\n",
    "\n",
    "        for i in range(len(self.ledger)):\n",
    "            string1 += f\"{self.ledger[i]['description'][0:23]:23}\" + \\\n",
    "                f\"{self.ledger[i]['amount']:>7.2f}\" + '\\n'\n",
    "            total += self.ledger[i]['amount']               \n",
    "            \n",
    "        total = format(self.total, \".2f\")\n",
    "            \n",
    "        return title + '\\n' + string1 + string2 + \"Total: \" + str(total)"
   ]
  },
  {
   "cell_type": "code",
   "execution_count": 57,
   "metadata": {},
   "outputs": [
    {
     "name": "stdout",
     "output_type": "stream",
     "text": [
      "************Foood*************\n",
      "XD ddwerahaha          9100.44\n",
      "kill meeeeeeer ssdfe   -1302.00\n",
      "Total: 7798.44\n"
     ]
    }
   ],
   "source": [
    "x = Category(\"Foood\")\n",
    "x.deposit(9100.43665, \"XD ddwerahaha\")\n",
    "x.withdraw(1302, \"kill meeeeeeer ssdfe\")\n",
    "print(x)"
   ]
  },
  {
   "cell_type": "code",
   "execution_count": 58,
   "metadata": {},
   "outputs": [
    {
     "name": "stdout",
     "output_type": "stream",
     "text": [
      "*************Doof*************\n",
      "                       1023.34\n",
      "fekssdfe               -202.00\n",
      "Total: 821.34\n"
     ]
    }
   ],
   "source": [
    "y = Category(\"Doof\")\n",
    "y.deposit(1023.34)\n",
    "y.withdraw(202, \"fekssdfe\")\n",
    "print(y)"
   ]
  },
  {
   "cell_type": "code",
   "execution_count": 59,
   "metadata": {},
   "outputs": [
    {
     "name": "stdout",
     "output_type": "stream",
     "text": [
      "************Foood*************\n",
      "XD ddwerahaha          9100.44\n",
      "kill meeeeeeer ssdfe   -1302.00\n",
      "Transfer to Doof       -2003.00\n",
      "Total: 5795.44\n",
      "*************Doof*************\n",
      "                       1023.34\n",
      "fekssdfe               -202.00\n",
      "Transfer from Foood    2003.00\n",
      "Total: 2824.34\n"
     ]
    }
   ],
   "source": [
    "x.transfer(2003, y)\n",
    "print(x)\n",
    "print(y)"
   ]
  },
  {
   "cell_type": "code",
   "execution_count": 51,
   "metadata": {},
   "outputs": [],
   "source": [
    "classes = []\n",
    "a = Category(\"A\")\n",
    "b = Category(\"B\")\n",
    "c = Category(\"C\")\n",
    "\n",
    "classes = [a, b, c]"
   ]
  },
  {
   "cell_type": "code",
   "execution_count": null,
   "metadata": {},
   "outputs": [],
   "source": []
  },
  {
   "cell_type": "code",
   "execution_count": 100,
   "metadata": {},
   "outputs": [
    {
     "ename": "IndentationError",
     "evalue": "expected an indented block (<ipython-input-100-cc1c5ff49887>, line 3)",
     "output_type": "error",
     "traceback": [
      "\u001b[1;36m  File \u001b[1;32m\"<ipython-input-100-cc1c5ff49887>\"\u001b[1;36m, line \u001b[1;32m3\u001b[0m\n\u001b[1;33m    pass\u001b[0m\n\u001b[1;37m    ^\u001b[0m\n\u001b[1;31mIndentationError\u001b[0m\u001b[1;31m:\u001b[0m expected an indented block\n"
     ]
    }
   ],
   "source": [
    "def create_spend_chart(categories):\n",
    "    if len(categories) < 5:\n",
    "        pass\n",
    "    else: \n",
    "        return False\n",
    "\n",
    "    printed_string_chart = []\n",
    "    top     = 'Percentage spent by category'\n",
    "    at_100  = '100|'\n",
    "    at_090  = ' 90|'\n",
    "    at_080  = ' 80|'\n",
    "    at_070  = ' 70|'\n",
    "    at_060  = ' 60|'\n",
    "    at_050  = ' 50|'\n",
    "    at_040  = ' 40|'\n",
    "    at_030  = ' 30|'\n",
    "    at_020  = ' 20|'\n",
    "    at_010  = ' 10|'\n",
    "    at_000  = '  0|'\n",
    "    dash    = '    '\n",
    "\n",
    "    dashes  = \"-\" + ( \"---\" * len(categories) )\n",
    "    dash.append(dashes)\n",
    "    \n",
    "    spendings = []\n",
    "    total_spent = 0\n",
    "\n",
    "    for category in categories:\n",
    "        expense = 0\n",
    "        for action in category.ledger:\n",
    "            if action[\"amount\"] < 0:\n",
    "                expense -= action[\"amount\"]\n",
    "        spendings.append(expense)\n",
    "        total_spent += expense\n",
    "        \n",
    "    rounded_share = []\n",
    "    for spending in spendings:\n",
    "        rounded_share.append( round( (spending/total spent) / 10 ) )\n",
    "        \n",
    "    \n",
    "\n",
    "\n",
    "\n",
    "\n",
    "\n",
    "\n",
    "        longest = max(len(name) for name in categories)\n",
    "\n",
    "        for level in range(longest):\n",
    "        # Add spaces to the beggining of the first column from side of page\n",
    "        vertical_cats += \"    \"\n",
    "        # For each category in the categories list\n",
    "        # if the level number is less than the length of the current name\n",
    "        # then the current letter is added to the row, otherwise, just add\n",
    "        # space for the next vertical category logic\n",
    "\n",
    "        for name in categories:\n",
    "        if level < len(name.name):\n",
    "            vertical_cats += \" \" + name.name[level] + \" \"\n",
    "        else:\n",
    "            vertical_cats += \"   \"\n",
    "\n",
    "        vertical_cats += \" \\n\"\n",
    "\n",
    "\n",
    "        printed_string_chart.append()\n",
    "\n",
    "        for rows in printed_string_chart:\n",
    "        print(rows + '\\n')"
   ]
  },
  {
   "cell_type": "code",
   "execution_count": 71,
   "metadata": {},
   "outputs": [
    {
     "data": {
      "text/plain": [
       "6"
      ]
     },
     "execution_count": 71,
     "metadata": {},
     "output_type": "execute_result"
    }
   ],
   "source": [
    "round( (21.04 + 43.1)/10 )"
   ]
  },
  {
   "cell_type": "code",
   "execution_count": null,
   "metadata": {},
   "outputs": [],
   "source": [
    "def create_spend_chart(categories):\n",
    "    # Variables\n",
    "    title = \"Percentage spent by category\"\n",
    "    chart = \"\"\n",
    "    cats = []\n",
    "    withdraws = []\n",
    "    withdraw_percentage = []\n",
    "    vertical_cats = \"\"\n",
    "    # Iterate through list of category objects, add to 'cats' list\n",
    "    for category in categories:\n",
    "        cats.append(category.name)\n",
    "        # Store withdrawn amount as 0 for each category\n",
    "        withdrawn_amount = 0\n",
    "        # Each action in the ledger of that speicific cat will be evaluated\n",
    "        # and if action is less than 0, it's a withdraw, append action\n",
    "        # negatively to reverse the -\n",
    "        for action in category.ledger:\n",
    "            if action[\"amount\"] < 0:\n",
    "                withdrawn_amount -= action[\"amount\"]\n",
    "        # Append the total amount of withdraws to the list of withdraws\n",
    "        withdraws.append(withdrawn_amount)\n",
    "    # Math for the percentage for each number in the range of the length of\n",
    "    # the withdraws list. i.e. - 3 withdraws, ranging 1 - 2 - 3\n",
    "    for number in range(len(withdraws)):\n",
    "        withdraw_percentage.append(withdraws[number] / sum(withdraws) * 100)\n",
    "    # For each number in the range of 100 to -10, taking 10 off each time\n",
    "    # calc the amount of \"o\" to add to each category. i.e. - 100| 90| 80| etc\n",
    "    for number in range(100, -10, -10):\n",
    "        # This builds the Y-Axis of the chart\n",
    "        chart += str(number).rjust(3, \" \") + \"|\"\n",
    "        # For the nums stored in withdraw_percentage\n",
    "        # if the num is greater than the current number in the range,\n",
    "        # it will add an \"o\", otherwise, it's left blank for that column\n",
    "        for num in withdraw_percentage:\n",
    "            if num >= number:\n",
    "                chart += \" o \"\n",
    "            else:\n",
    "                chart += \"   \"\n",
    "        chart += \" \\n\"\n",
    "    # This builds the X-Axis of the chart based on the number of cats\n",
    "    # and multiplies each - by 3\n",
    "    chart += \"    \" + \"-\" * len(cats) * 3 + \"-\" + \"\\n\"\n",
    "    # Determine the longest category name by iterating through the\n",
    "    # list of objects passed through the function\n",
    "    longest = max(len(name.name) for name in categories)\n",
    "    # The range of the longest is going to be the tallest column\n",
    "    # i.e. - adding the most amount of rows\n",
    "    for level in range(longest):\n",
    "        # Add spaces to the beggining of the first column from side of page\n",
    "        vertical_cats += \"    \"\n",
    "        # For each category in the categories list\n",
    "        # if the level number is less than the length of the current name\n",
    "        # then the current letter is added to the row, otherwise, just add\n",
    "        # space for the next vertical category logic\n",
    "        for name in categories:\n",
    "            if level < len(name.name):\n",
    "                vertical_cats += \" \" + name.name[level] + \" \"\n",
    "            else:\n",
    "                vertical_cats += \"   \"\n",
    "        vertical_cats += \" \\n\"\n",
    "    # Strip the whitespace from the right side and add back in the 2 leftover\n",
    "    # spaces that are included in the example for whatever reason\n",
    "    chart += vertical_cats.rstrip() + \"  \"\n",
    "    # Finalize the string!\n",
    "    display = title + \"\\n\" + chart\n",
    "    return display"
   ]
  }
 ],
 "metadata": {
  "kernelspec": {
   "display_name": "Python 3",
   "language": "python",
   "name": "python3"
  },
  "language_info": {
   "codemirror_mode": {
    "name": "ipython",
    "version": 3
   },
   "file_extension": ".py",
   "mimetype": "text/x-python",
   "name": "python",
   "nbconvert_exporter": "python",
   "pygments_lexer": "ipython3",
   "version": "3.8.5"
  }
 },
 "nbformat": 4,
 "nbformat_minor": 4
}
