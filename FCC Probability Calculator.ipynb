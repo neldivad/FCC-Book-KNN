{
 "cells": [
  {
   "cell_type": "code",
   "execution_count": 490,
   "metadata": {},
   "outputs": [],
   "source": [
    "class Hat:\n",
    "    def __init__(self, **balls):\n",
    "        self.dict = locals()\n",
    "        self.balls = self.dict[\"balls\"]\n",
    "        # self.content = [key for key in self.balls.keys()] \n",
    "        \n",
    "        # Gets a table\n",
    "        self.cont = []\n",
    "        for key, value in self.balls.items():\n",
    "            conts = (key + \" \") * value\n",
    "            self.cont.append( conts.split() )\n",
    "            \n",
    "        # Convert table to list\n",
    "        self.contents = []\n",
    "        for row in self.cont:\n",
    "            for string in row:\n",
    "                self.contents.append(string)\n",
    "              \n",
    "    def draw(self, num):\n",
    "        import random\n",
    "        \n",
    "        shuffled = self.contents\n",
    "        random.shuffle(shuffled)\n",
    "        \n",
    "        if num > len(self.contents):\n",
    "            num = len(self.contents)\n",
    "        \n",
    "        drawn = []\n",
    "        for i in range(num):\n",
    "            draw = shuffled.pop()\n",
    "            drawn.append(draw)\n",
    "        \n",
    "        return drawn#, shuffled\n",
    "    \n",
    "def experiment(hat, expected_balls, num_balls_drawn, num_experiments):\n",
    "    #####################################\n",
    "#     expected = []\n",
    "#     for key, value in expected_balls.items():\n",
    "#         expect = (key + \" \") * value\n",
    "#         expected.append( expect.split() )\n",
    "        \n",
    "#     # Convert table to list\n",
    "#     expected_ls = []\n",
    "#     for row in expected:\n",
    "#         for string in row:\n",
    "#             expected_ls.append(string)\n",
    "    \n",
    "    #####################################\n",
    "    # Helper func\n",
    "    #####################################\n",
    "#     def list1InList2(list1, list2):\n",
    "#         for item in list1:\n",
    "#             if item not in list2:\n",
    "#                 return False\n",
    "            \n",
    "#         return True\n",
    "    ######################################\n",
    "    \n",
    "    import copy \n",
    "    \n",
    "    count = 0\n",
    "    for i in range(num_experiments):\n",
    "        copyhat = copy.deepcopy(hat)\n",
    "        drawn = copyhat.draw(num_balls_drawn)\n",
    "        \n",
    "        copy_expected = copy.deepcopy(expected_balls)\n",
    "        copy_drawn = copy.deepcopy(drawn)\n",
    "\n",
    "        for ball in copy_drawn:\n",
    "            if ball in copy_expected:\n",
    "                copy_expected[ball] -= 1\n",
    "        \n",
    "        if all(x <= 0 for x in copy_expected.values() ):\n",
    "            count += 1\n",
    "        else:\n",
    "            count += 0\n",
    "\n",
    "#         if set(expected_ls).issubset(drawn):\n",
    "#         if list1InList2(expected_ls, drawn):\n",
    "#             count += 1\n",
    "#         else:\n",
    "#             count += 0\n",
    "        \n",
    "    probability = count / num_experiments\n",
    "    \n",
    "    return probability"
   ]
  },
  {
   "cell_type": "code",
   "execution_count": 513,
   "metadata": {},
   "outputs": [
    {
     "data": {
      "text/plain": [
       "{'blue': 3, 'red': 2, 'green': 6}"
      ]
     },
     "execution_count": 513,
     "metadata": {},
     "output_type": "execute_result"
    }
   ],
   "source": [
    "x = Hat(blue= 3, red= 2, green= 6)\n",
    "x.balls"
   ]
  },
  {
   "cell_type": "code",
   "execution_count": 514,
   "metadata": {},
   "outputs": [
    {
     "data": {
      "text/plain": [
       "['green', 'green', 'red', 'green', 'blue']"
      ]
     },
     "execution_count": 514,
     "metadata": {},
     "output_type": "execute_result"
    }
   ],
   "source": [
    "x.draw(5)"
   ]
  },
  {
   "cell_type": "code",
   "execution_count": 520,
   "metadata": {},
   "outputs": [
    {
     "data": {
      "text/plain": [
       "0.389"
      ]
     },
     "execution_count": 520,
     "metadata": {},
     "output_type": "execute_result"
    }
   ],
   "source": [
    "experiment(x, {'blue': 2, 'green': 1}, 4, 1000)"
   ]
  },
  {
   "cell_type": "code",
   "execution_count": 414,
   "metadata": {},
   "outputs": [
    {
     "data": {
      "text/plain": [
       "True"
      ]
     },
     "execution_count": 414,
     "metadata": {},
     "output_type": "execute_result"
    }
   ],
   "source": [
    "ls = ['roll', 'roll', 'rreen']\n",
    "ls2 = ['roll', 'red', 'roll', 'roll', 'rreen']\n",
    "ls3 = ['blue', 'green', 'green']\n",
    "ls4 = ['blue', 'green', 'blue', 'red']\n",
    "\n",
    "set(ls3).issubset(ls4)"
   ]
  },
  {
   "cell_type": "code",
   "execution_count": 523,
   "metadata": {},
   "outputs": [
    {
     "data": {
      "text/plain": [
       "0.24"
      ]
     },
     "execution_count": 523,
     "metadata": {},
     "output_type": "execute_result"
    }
   ],
   "source": [
    "a = Hat(blue=3,red=2,green=6)\n",
    "experiment(hat= a, expected_balls={\"blue\":2,\"green\":1}, num_balls_drawn=4, num_experiments=1000)"
   ]
  },
  {
   "cell_type": "code",
   "execution_count": 525,
   "metadata": {},
   "outputs": [
    {
     "data": {
      "text/plain": [
       "1.0"
      ]
     },
     "execution_count": 525,
     "metadata": {},
     "output_type": "execute_result"
    }
   ],
   "source": [
    "b = Hat(yellow=5,red=1,green=3,blue=9,test=1)\n",
    "experiment(hat= b, expected_balls={\"yellow\":2,\"blue\":3,\"test\":1}, num_balls_drawn=20, num_experiments=100)"
   ]
  },
  {
   "cell_type": "code",
   "execution_count": null,
   "metadata": {},
   "outputs": [],
   "source": []
  }
 ],
 "metadata": {
  "kernelspec": {
   "display_name": "Python 3",
   "language": "python",
   "name": "python3"
  },
  "language_info": {
   "codemirror_mode": {
    "name": "ipython",
    "version": 3
   },
   "file_extension": ".py",
   "mimetype": "text/x-python",
   "name": "python",
   "nbconvert_exporter": "python",
   "pygments_lexer": "ipython3",
   "version": "3.8.5"
  }
 },
 "nbformat": 4,
 "nbformat_minor": 4
}
